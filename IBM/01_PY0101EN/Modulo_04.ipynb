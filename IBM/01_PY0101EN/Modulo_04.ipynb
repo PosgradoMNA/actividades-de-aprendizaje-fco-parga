{
  "nbformat": 4,
  "nbformat_minor": 0,
  "metadata": {
    "colab": {
      "provenance": [],
      "toc_visible": true,
      "authorship_tag": "ABX9TyNU7QkkApDqi4xgqHF0Bg4n",
      "include_colab_link": true
    },
    "kernelspec": {
      "name": "python3",
      "display_name": "Python 3"
    },
    "language_info": {
      "name": "python"
    }
  },
  "cells": [
    {
      "cell_type": "markdown",
      "metadata": {
        "id": "view-in-github",
        "colab_type": "text"
      },
      "source": [
        "<a href=\"https://colab.research.google.com/github/PosgradoMNA/actividades-de-aprendizaje-fco-parga/blob/main/IBM/01_PY0101EN/Modulo_04.ipynb\" target=\"_parent\"><img src=\"https://colab.research.google.com/assets/colab-badge.svg\" alt=\"Open In Colab\"/></a>"
      ]
    },
    {
      "cell_type": "markdown",
      "source": [
        "#Francisco Javier Parga García \n",
        "> Matricula A01794380"
      ],
      "metadata": {
        "id": "YdlSpP2rpV-g"
      }
    },
    {
      "cell_type": "markdown",
      "source": [
        "#Modulo-4\n"
      ],
      "metadata": {
        "id": "shaTf_copcTo"
      }
    },
    {
      "cell_type": "code",
      "execution_count": null,
      "metadata": {
        "colab": {
          "base_uri": "https://localhost:8080/"
        },
        "id": "Am9J8MEccFHM",
        "outputId": "c42cbf2b-4a58-4110-e9aa-f2501722e50c"
      },
      "outputs": [
        {
          "output_type": "execute_result",
          "data": {
            "text/plain": [
              "('Example1.txt', <http.client.HTTPMessage at 0x7f030d0ba490>)"
            ]
          },
          "metadata": {},
          "execution_count": 7
        }
      ],
      "source": [
        "# Obtener archivos de la web\n",
        "\n",
        "import urllib.request\n",
        "url = 'https://cf-courses-data.s3.us.cloud-object-storage.appdomain.cloud/IBMDeveloperSkillsNetwork-PY0101EN-SkillsNetwork/labs/Module%204/data/example1.txt'\n",
        "archivo = 'Example1.txt'\n",
        "\n",
        "urllib.request.urlretrieve(url, archivo)"
      ]
    },
    {
      "cell_type": "code",
      "source": [
        "#Desplegar contenido con linux\n",
        "!tail Example1.txt"
      ],
      "metadata": {
        "colab": {
          "base_uri": "https://localhost:8080/"
        },
        "id": "rFuYW4yurZi8",
        "outputId": "09d9f8b8-14ec-4a6d-ea23-daf57898b3d1"
      },
      "execution_count": null,
      "outputs": [
        {
          "output_type": "stream",
          "name": "stdout",
          "text": [
            "This is line 1 \n",
            "This is line 2\n",
            "This is line 3"
          ]
        }
      ]
    },
    {
      "cell_type": "markdown",
      "source": [
        "##Abrir y leer archivos"
      ],
      "metadata": {
        "id": "R-QFGguX1h3N"
      }
    },
    {
      "cell_type": "code",
      "source": [
        "# Leer archivo\n",
        "\n",
        "ejemplo_1 = \"Example1.txt\"\n",
        "archivo_1 = open(ejemplo_1, \"r\")"
      ],
      "metadata": {
        "id": "zWYAxoXKtJf4"
      },
      "execution_count": null,
      "outputs": []
    },
    {
      "cell_type": "code",
      "source": [
        "# Nombre del archivo\n",
        "archivo_1.name"
      ],
      "metadata": {
        "colab": {
          "base_uri": "https://localhost:8080/",
          "height": 35
        },
        "id": "rz6LGEW_tNwI",
        "outputId": "19331b85-09c3-4fcc-f0d9-51842394bbba"
      },
      "execution_count": null,
      "outputs": [
        {
          "output_type": "execute_result",
          "data": {
            "text/plain": [
              "'Example1.txt'"
            ],
            "application/vnd.google.colaboratory.intrinsic+json": {
              "type": "string"
            }
          },
          "metadata": {},
          "execution_count": 11
        }
      ]
    },
    {
      "cell_type": "code",
      "source": [
        "#Modo de lectura\n",
        "\n",
        "archivo_1.mode"
      ],
      "metadata": {
        "colab": {
          "base_uri": "https://localhost:8080/",
          "height": 35
        },
        "id": "4yqG9psWta8Y",
        "outputId": "966db1c9-09e1-42f1-98a8-ebd29f96786b"
      },
      "execution_count": null,
      "outputs": [
        {
          "output_type": "execute_result",
          "data": {
            "text/plain": [
              "'r'"
            ],
            "application/vnd.google.colaboratory.intrinsic+json": {
              "type": "string"
            }
          },
          "metadata": {},
          "execution_count": 12
        }
      ]
    },
    {
      "cell_type": "code",
      "source": [
        "# Leer contenido\n",
        "\n",
        "contenido = archivo_1.read()\n",
        "contenido"
      ],
      "metadata": {
        "colab": {
          "base_uri": "https://localhost:8080/",
          "height": 35
        },
        "id": "04KWVcW6tu_F",
        "outputId": "4cb3b13a-acc6-4be0-e7a2-ffa693f5ec55"
      },
      "execution_count": null,
      "outputs": [
        {
          "output_type": "execute_result",
          "data": {
            "text/plain": [
              "'This is line 1 \\nThis is line 2\\nThis is line 3'"
            ],
            "application/vnd.google.colaboratory.intrinsic+json": {
              "type": "string"
            }
          },
          "metadata": {},
          "execution_count": 13
        }
      ]
    },
    {
      "cell_type": "code",
      "source": [
        "# imprimir el contenido\n",
        "\n",
        "print(contenido)"
      ],
      "metadata": {
        "colab": {
          "base_uri": "https://localhost:8080/"
        },
        "id": "Ux0Hx0_et57T",
        "outputId": "88a25c50-7f5d-4edd-da06-a3728d2ec5e1"
      },
      "execution_count": null,
      "outputs": [
        {
          "output_type": "stream",
          "name": "stdout",
          "text": [
            "This is line 1 \n",
            "This is line 2\n",
            "This is line 3\n"
          ]
        }
      ]
    },
    {
      "cell_type": "code",
      "source": [
        "# Tipo del contenido\n",
        "\n",
        "type(contenido)"
      ],
      "metadata": {
        "colab": {
          "base_uri": "https://localhost:8080/"
        },
        "id": "QFdhn0kJvKfR",
        "outputId": "800b7582-23fd-4438-f44b-909476162bef"
      },
      "execution_count": null,
      "outputs": [
        {
          "output_type": "execute_result",
          "data": {
            "text/plain": [
              "str"
            ]
          },
          "metadata": {},
          "execution_count": 15
        }
      ]
    },
    {
      "cell_type": "code",
      "source": [
        "# Cerrar el archivo\n",
        "\n",
        "archivo_1.close()"
      ],
      "metadata": {
        "id": "xC9R9g3GvRyA"
      },
      "execution_count": null,
      "outputs": []
    },
    {
      "cell_type": "markdown",
      "source": [
        "##Alternativa para abrir archivos"
      ],
      "metadata": {
        "id": "uCovlwAAviTO"
      }
    },
    {
      "cell_type": "code",
      "source": [
        "# Leer archivo\n",
        "\n",
        "with open(ejemplo_1, \"r\") as archivo_1:\n",
        "    contenido = archivo_1.read()\n",
        "    print(contenido)"
      ],
      "metadata": {
        "colab": {
          "base_uri": "https://localhost:8080/"
        },
        "id": "6pJlyXibveTQ",
        "outputId": "6f867051-f7b7-4fcc-a5ba-459ecd4f20ee"
      },
      "execution_count": null,
      "outputs": [
        {
          "output_type": "stream",
          "name": "stdout",
          "text": [
            "This is line 1 \n",
            "This is line 2\n",
            "This is line 3\n"
          ]
        }
      ]
    },
    {
      "cell_type": "code",
      "source": [
        "# Vevificar archivo\n",
        "\n",
        "archivo_1.closed"
      ],
      "metadata": {
        "colab": {
          "base_uri": "https://localhost:8080/"
        },
        "id": "IkBvVqsxwPtU",
        "outputId": "febbd934-cef2-4a88-a6df-70397fbb26ea"
      },
      "execution_count": null,
      "outputs": [
        {
          "output_type": "execute_result",
          "data": {
            "text/plain": [
              "True"
            ]
          },
          "metadata": {},
          "execution_count": 18
        }
      ]
    },
    {
      "cell_type": "code",
      "source": [
        "print(contenido)"
      ],
      "metadata": {
        "colab": {
          "base_uri": "https://localhost:8080/"
        },
        "id": "lcQQDUBUwcsk",
        "outputId": "8ab54ddc-3c99-484d-be93-b302f841f3ee"
      },
      "execution_count": null,
      "outputs": [
        {
          "output_type": "stream",
          "name": "stdout",
          "text": [
            "This is line 1 \n",
            "This is line 2\n",
            "This is line 3\n"
          ]
        }
      ]
    },
    {
      "cell_type": "code",
      "source": [
        "# Leer primeros caracteres\n",
        "\n",
        "with open(ejemplo_1, \"r\") as archivo_1:\n",
        "    contenido = archivo_1.read(4)\n",
        "    print(contenido)"
      ],
      "metadata": {
        "colab": {
          "base_uri": "https://localhost:8080/"
        },
        "id": "ozVl7EHNwjfb",
        "outputId": "cba23b06-622b-40fa-b322-b52211be0b94"
      },
      "execution_count": null,
      "outputs": [
        {
          "output_type": "stream",
          "name": "stdout",
          "text": [
            "This\n"
          ]
        }
      ]
    },
    {
      "cell_type": "code",
      "source": [
        "# Leer cierta cantidad de caracteres\n",
        "\n",
        "with open(ejemplo_1, \"r\") as archivo_1:\n",
        "    print(archivo_1.read(4))\n",
        "    print(archivo_1.read(4))\n",
        "    print(archivo_1.read(7))\n",
        "    print(archivo_1.read(15))"
      ],
      "metadata": {
        "colab": {
          "base_uri": "https://localhost:8080/"
        },
        "id": "VCi8ybRRxGJ3",
        "outputId": "2a1f15ed-b767-4c7a-a21f-fd4c5861a06b"
      },
      "execution_count": null,
      "outputs": [
        {
          "output_type": "stream",
          "name": "stdout",
          "text": [
            "This\n",
            " is \n",
            "line 1 \n",
            "\n",
            "This is line 2\n"
          ]
        }
      ]
    },
    {
      "cell_type": "code",
      "source": [
        "# Leer otros caracteres\n",
        "\n",
        "with open(ejemplo_1, \"r\") as archivo_1:\n",
        "    print(archivo_1.read(16))\n",
        "    print(archivo_1.read(5))\n",
        "    print(archivo_1.read(9))"
      ],
      "metadata": {
        "colab": {
          "base_uri": "https://localhost:8080/"
        },
        "id": "8mzEJbGAxXlh",
        "outputId": "652479c1-c7c8-48c1-bb0c-ccb95a69239e"
      },
      "execution_count": null,
      "outputs": [
        {
          "output_type": "stream",
          "name": "stdout",
          "text": [
            "This is line 1 \n",
            "\n",
            "This \n",
            "is line 2\n"
          ]
        }
      ]
    },
    {
      "cell_type": "code",
      "source": [
        "# Leer por lineas\n",
        "\n",
        "with open(ejemplo_1, \"r\") as archivo_1:\n",
        "    print(\"first line: \" + archivo_1.readline())"
      ],
      "metadata": {
        "colab": {
          "base_uri": "https://localhost:8080/"
        },
        "id": "7ckYQBxHyDFL",
        "outputId": "915f02cf-a3bb-4f01-a8ca-fa0339ffc16d"
      },
      "execution_count": null,
      "outputs": [
        {
          "output_type": "stream",
          "name": "stdout",
          "text": [
            "first line: This is line 1 \n",
            "\n"
          ]
        }
      ]
    },
    {
      "cell_type": "code",
      "source": [
        "with open(ejemplo_1, \"r\") as archivo_1:\n",
        "    print(archivo_1.readline(20))\n",
        "    print(archivo_1.read(20))"
      ],
      "metadata": {
        "colab": {
          "base_uri": "https://localhost:8080/"
        },
        "id": "oiape15nyR9Q",
        "outputId": "a7a9205c-4c6f-4764-fce5-535ed59863e1"
      },
      "execution_count": null,
      "outputs": [
        {
          "output_type": "stream",
          "name": "stdout",
          "text": [
            "This is line 1 \n",
            "\n",
            "This is line 2\n",
            "This \n"
          ]
        }
      ]
    },
    {
      "cell_type": "code",
      "source": [
        "# Crear lista de cada linea\n",
        "\n",
        "with open(ejemplo_1, \"r\") as archivo_1:\n",
        "    archivo_Lista = archivo_1.readlines()"
      ],
      "metadata": {
        "id": "eqtGwxskypfS"
      },
      "execution_count": null,
      "outputs": []
    },
    {
      "cell_type": "code",
      "source": [
        "archivo_Lista"
      ],
      "metadata": {
        "colab": {
          "base_uri": "https://localhost:8080/"
        },
        "id": "BoJLQLGS0L1X",
        "outputId": "36615633-6245-4646-c92a-ba519c620745"
      },
      "execution_count": null,
      "outputs": [
        {
          "output_type": "execute_result",
          "data": {
            "text/plain": [
              "['This is line 1 \\n', 'This is line 2\\n', 'This is line 3']"
            ]
          },
          "metadata": {},
          "execution_count": 28
        }
      ]
    },
    {
      "cell_type": "markdown",
      "source": [
        "## Escribir archivos"
      ],
      "metadata": {
        "id": "A8p4zmBC1pob"
      }
    },
    {
      "cell_type": "code",
      "source": [
        "# Write line to file\n",
        "ejemplo_2 = '/content/Example2.txt'\n",
        "with open(ejemplo_2, 'w') as escribir_archivo:\n",
        "    escribir_archivo.write(\"This is line A\")"
      ],
      "metadata": {
        "id": "1wfzf6KM0NQ8"
      },
      "execution_count": null,
      "outputs": []
    },
    {
      "cell_type": "code",
      "source": [
        "# Leer archivo creado\n",
        "\n",
        "with open(ejemplo_2, 'r') as test_escribir_archivo:\n",
        "    print(test_escribir_archivo.read())"
      ],
      "metadata": {
        "colab": {
          "base_uri": "https://localhost:8080/"
        },
        "id": "re3O7yP72_mx",
        "outputId": "d65f3e8e-2237-476c-a58a-180aa626114e"
      },
      "execution_count": null,
      "outputs": [
        {
          "output_type": "stream",
          "name": "stdout",
          "text": [
            "This is line A\n"
          ]
        }
      ]
    },
    {
      "cell_type": "code",
      "source": [
        "# Escribir varias lineas\n",
        "\n",
        "with open(ejemplo_2, 'w') as escribir_archivo:\n",
        "    escribir_archivo.write(\"This is line A\\n\")\n",
        "    escribir_archivo.write(\"This is line B\\n\")"
      ],
      "metadata": {
        "id": "11aSE4v_3NZI"
      },
      "execution_count": null,
      "outputs": []
    },
    {
      "cell_type": "code",
      "source": [
        "# Leer archivo modeificado\n",
        "\n",
        "with open(ejemplo_2, 'r') as test_escribir_archivo:\n",
        "    print(test_escribir_archivo.read())"
      ],
      "metadata": {
        "colab": {
          "base_uri": "https://localhost:8080/"
        },
        "id": "UXtsWEno3dYn",
        "outputId": "47a790c6-59fe-442d-82d7-2c949217b14a"
      },
      "execution_count": null,
      "outputs": [
        {
          "output_type": "stream",
          "name": "stdout",
          "text": [
            "This is line A\n",
            "This is line B\n",
            "\n"
          ]
        }
      ]
    },
    {
      "cell_type": "code",
      "source": [
        "# Lista de lineas\n",
        "Lines = [\"This is line A\\n\", \"This is line B\\n\", \"This is line C\\n\"]\n",
        "Lines"
      ],
      "metadata": {
        "colab": {
          "base_uri": "https://localhost:8080/"
        },
        "id": "-Xv5fnPm3g5M",
        "outputId": "8b67ef72-a08f-46a5-9e85-c830a4673a4a"
      },
      "execution_count": null,
      "outputs": [
        {
          "output_type": "execute_result",
          "data": {
            "text/plain": [
              "['This is line A\\n', 'This is line B\\n', 'This is line C\\n']"
            ]
          },
          "metadata": {},
          "execution_count": 33
        }
      ]
    },
    {
      "cell_type": "code",
      "source": [
        "# Escribir lista a archivo\n",
        "\n",
        "with open('Example2.txt', 'w') as escribir_archivo:\n",
        "    for line in Lines:\n",
        "        print(line)\n",
        "        escribir_archivo.write(line)"
      ],
      "metadata": {
        "colab": {
          "base_uri": "https://localhost:8080/"
        },
        "id": "TaAJyxc13nsN",
        "outputId": "e75d3d60-961e-429b-c2b1-b25bfbcee4cb"
      },
      "execution_count": null,
      "outputs": [
        {
          "output_type": "stream",
          "name": "stdout",
          "text": [
            "This is line A\n",
            "\n",
            "This is line B\n",
            "\n",
            "This is line C\n",
            "\n"
          ]
        }
      ]
    },
    {
      "cell_type": "code",
      "source": [
        "# Leer archivo modeificado\n",
        "\n",
        "with open(ejemplo_2, 'r') as test_escribir_archivo:\n",
        "    print(test_escribir_archivo.read())"
      ],
      "metadata": {
        "colab": {
          "base_uri": "https://localhost:8080/"
        },
        "id": "g6IWlYVH3wrj",
        "outputId": "548b135c-eae6-4883-89c5-e045a484d9aa"
      },
      "execution_count": null,
      "outputs": [
        {
          "output_type": "stream",
          "name": "stdout",
          "text": [
            "This is line A\n",
            "This is line B\n",
            "This is line C\n",
            "\n"
          ]
        }
      ]
    },
    {
      "cell_type": "code",
      "source": [
        "# Sobreescribir archivo\n",
        "\n",
        "with open('Example2.txt', 'w') as escribir_archivo:\n",
        "    escribir_archivo.write(\"Overwrite\\n\")\n",
        "with open('Example2.txt', 'r') as test_escribir_archivo:\n",
        "    print(test_escribir_archivo.read())"
      ],
      "metadata": {
        "colab": {
          "base_uri": "https://localhost:8080/"
        },
        "id": "BSDdvdiq31jX",
        "outputId": "601ad89f-8d41-41bc-9d0d-83d384612a88"
      },
      "execution_count": null,
      "outputs": [
        {
          "output_type": "stream",
          "name": "stdout",
          "text": [
            "Overwrite\n",
            "\n"
          ]
        }
      ]
    },
    {
      "cell_type": "markdown",
      "source": [
        "##Anexar datos"
      ],
      "metadata": {
        "id": "lnsPmInK4dze"
      }
    },
    {
      "cell_type": "code",
      "source": [
        "#Anexar lineas al archivo\n",
        "\n",
        "with open('Example2.txt', 'a') as test_escribir_archivo:\n",
        "    test_escribir_archivo.write(\"This is line C\\n\")\n",
        "    test_escribir_archivo.write(\"This is line D\\n\")\n",
        "    test_escribir_archivo.write(\"This is line E\\n\")"
      ],
      "metadata": {
        "id": "KedpyTmv4Ycy"
      },
      "execution_count": null,
      "outputs": []
    },
    {
      "cell_type": "code",
      "source": [
        "# Leer archivo modeificado\n",
        "\n",
        "with open(ejemplo_2, 'r') as test_escribir_archivo:\n",
        "    print(test_escribir_archivo.read())"
      ],
      "metadata": {
        "colab": {
          "base_uri": "https://localhost:8080/"
        },
        "id": "oNRvWgYL4mnD",
        "outputId": "dc663876-be6b-42e3-b89a-9dc61bdf7a8d"
      },
      "execution_count": null,
      "outputs": [
        {
          "output_type": "stream",
          "name": "stdout",
          "text": [
            "Overwrite\n",
            "This is line C\n",
            "This is line D\n",
            "This is line E\n",
            "\n"
          ]
        }
      ]
    },
    {
      "cell_type": "markdown",
      "source": [
        "##Modos Adicionales para trabajar con archivos"
      ],
      "metadata": {
        "id": "EzS1RxjR45XL"
      }
    },
    {
      "cell_type": "code",
      "source": [
        "# Abrir y anexar datps \n",
        "with open('Example2.txt', 'a+') as test_escribir_archivo:\n",
        "    test_escribir_archivo.write(\"This is line E\\n\")\n",
        "    print(test_escribir_archivo.read())"
      ],
      "metadata": {
        "colab": {
          "base_uri": "https://localhost:8080/"
        },
        "id": "3qCPmAsz4q3u",
        "outputId": "74fa9e09-caa3-4ddf-b449-6597c72efab0"
      },
      "execution_count": null,
      "outputs": [
        {
          "output_type": "stream",
          "name": "stdout",
          "text": [
            "\n"
          ]
        }
      ]
    },
    {
      "cell_type": "code",
      "source": [
        "\n",
        "with open('Example2.txt', 'a+') as testwritefile:\n",
        "    print(\"Initial Location: {}\".format(testwritefile.tell()))\n",
        "    \n",
        "    data = testwritefile.read()\n",
        "    if (not data):  #empty strings return false in python\n",
        "            print('Read nothing') \n",
        "    else: \n",
        "            print(testwritefile.read())\n",
        "            \n",
        "    testwritefile.seek(0,0) # move 0 bytes from beginning.\n",
        "    \n",
        "    print(\"\\nNew Location : {}\".format(testwritefile.tell()))\n",
        "    data = testwritefile.read()\n",
        "    if (not data): \n",
        "            print('Read nothing') \n",
        "    else: \n",
        "            print(data)\n",
        "    \n",
        "    print(\"Location after read: {}\".format(testwritefile.tell()) )"
      ],
      "metadata": {
        "colab": {
          "base_uri": "https://localhost:8080/"
        },
        "id": "ZIjLVXVa5BJ3",
        "outputId": "ce825ab2-d2c1-4c10-a080-39ea86b705bf"
      },
      "execution_count": null,
      "outputs": [
        {
          "output_type": "stream",
          "name": "stdout",
          "text": [
            "Initial Location: 70\n",
            "Read nothing\n",
            "\n",
            "New Location : 0\n",
            "Overwrite\n",
            "This is line C\n",
            "This is line D\n",
            "This is line E\n",
            "This is line E\n",
            "\n",
            "Location after read: 70\n"
          ]
        }
      ]
    },
    {
      "cell_type": "code",
      "source": [
        "#Truncating\n",
        "\n",
        "with open('Example2.txt', 'r+') as testwritefile:\n",
        "    data = testwritefile.readlines()\n",
        "    testwritefile.seek(0,0) #write at beginning of file\n",
        "   \n",
        "    testwritefile.write(\"Line 1\" + \"\\n\")\n",
        "    testwritefile.write(\"Line 2\" + \"\\n\")\n",
        "    testwritefile.write(\"Line 3\" + \"\\n\")\n",
        "    testwritefile.write(\"finished\\n\")\n",
        "\n",
        "    testwritefile.seek(0,0)\n",
        "    print(testwritefile.read())"
      ],
      "metadata": {
        "colab": {
          "base_uri": "https://localhost:8080/"
        },
        "id": "2LcGIrPW5Vls",
        "outputId": "e9637e6f-29eb-4e5c-e47c-fe76e1eb77af"
      },
      "execution_count": null,
      "outputs": [
        {
          "output_type": "stream",
          "name": "stdout",
          "text": [
            "Line 1\n",
            "Line 2\n",
            "Line 3\n",
            "finished\n",
            "is line D\n",
            "This is line E\n",
            "This is line E\n",
            "\n"
          ]
        }
      ]
    },
    {
      "cell_type": "code",
      "source": [
        "with open('Example2.txt', 'r+') as testwritefile:\n",
        "    data = testwritefile.readlines()\n",
        "    testwritefile.seek(0,0) #write at beginning of file\n",
        "   \n",
        "    testwritefile.write(\"Line 1\" + \"\\n\")\n",
        "    testwritefile.write(\"Line 2\" + \"\\n\")\n",
        "    testwritefile.write(\"Line 3\" + \"\\n\")\n",
        "    testwritefile.write(\"finished\\n\")\n",
        "\n",
        "    testwritefile.truncate()\n",
        "    testwritefile.seek(0,0)\n",
        "    print(testwritefile.read())"
      ],
      "metadata": {
        "colab": {
          "base_uri": "https://localhost:8080/"
        },
        "id": "nXbUnI4V6BBQ",
        "outputId": "459c1cb7-5362-45e6-8664-7b729cb92ba7"
      },
      "execution_count": null,
      "outputs": [
        {
          "output_type": "stream",
          "name": "stdout",
          "text": [
            "Line 1\n",
            "Line 2\n",
            "Line 3\n",
            "finished\n",
            "\n"
          ]
        }
      ]
    },
    {
      "cell_type": "markdown",
      "source": [
        "##Copiar archivos"
      ],
      "metadata": {
        "id": "NXpxiN3N6L0q"
      }
    },
    {
      "cell_type": "code",
      "source": [
        "# Copiar un archivo\n",
        "\n",
        "with open('Example2.txt','r') as readfile:\n",
        "    with open('Example3.txt','w') as writefile:\n",
        "          for line in readfile:\n",
        "                writefile.write(line)"
      ],
      "metadata": {
        "id": "t_Xxov_E6E0n"
      },
      "execution_count": null,
      "outputs": []
    },
    {
      "cell_type": "code",
      "source": [
        "!ls -lart"
      ],
      "metadata": {
        "colab": {
          "base_uri": "https://localhost:8080/"
        },
        "id": "XREW7ia76Wx_",
        "outputId": "ee3ecc86-fb58-46ac-a929-ea84f765c71b"
      },
      "execution_count": null,
      "outputs": [
        {
          "output_type": "stream",
          "name": "stdout",
          "text": [
            "total 28\n",
            "drwxr-xr-x 4 root root 4096 Sep 22 13:41 .config\n",
            "drwxr-xr-x 1 root root 4096 Sep 22 13:42 sample_data\n",
            "drwxr-xr-x 1 root root 4096 Sep 24 17:56 ..\n",
            "-rw-r--r-- 1 root root   45 Sep 24 18:20 Example1.txt\n",
            "-rw-r--r-- 1 root root   30 Sep 24 19:10 Example2.txt\n",
            "-rw-r--r-- 1 root root   30 Sep 24 19:11 Example3.txt\n",
            "drwxr-xr-x 1 root root 4096 Sep 24 19:11 .\n"
          ]
        }
      ]
    },
    {
      "cell_type": "code",
      "source": [
        "# Archivo original\n",
        "\n",
        "with open('Example2.txt','r') as testwritefile:\n",
        "    print(testwritefile.read())"
      ],
      "metadata": {
        "colab": {
          "base_uri": "https://localhost:8080/"
        },
        "id": "jGhrp83h7KdX",
        "outputId": "fbba4d5a-8a3b-4e20-d6a0-fe252d7311df"
      },
      "execution_count": null,
      "outputs": [
        {
          "output_type": "stream",
          "name": "stdout",
          "text": [
            "Line 1\n",
            "Line 2\n",
            "Line 3\n",
            "finished\n",
            "\n"
          ]
        }
      ]
    },
    {
      "cell_type": "code",
      "source": [
        "# Verificamos copia\n",
        "\n",
        "with open('Example3.txt','r') as testwritefile:\n",
        "    print(testwritefile.read())"
      ],
      "metadata": {
        "colab": {
          "base_uri": "https://localhost:8080/"
        },
        "id": "JrUA3Fqi6c3z",
        "outputId": "51a5bd58-8f11-424c-cd54-3756195cbfaa"
      },
      "execution_count": null,
      "outputs": [
        {
          "output_type": "stream",
          "name": "stdout",
          "text": [
            "Line 1\n",
            "Line 2\n",
            "Line 3\n",
            "finished\n",
            "\n"
          ]
        }
      ]
    },
    {
      "cell_type": "markdown",
      "source": [
        "##PANDAS"
      ],
      "metadata": {
        "id": "_mJWmA4XBxC8"
      }
    },
    {
      "cell_type": "code",
      "source": [
        "# Importar libreria\n",
        "\n",
        "import pandas as pd"
      ],
      "metadata": {
        "id": "T1-Ru4hw7Fz2"
      },
      "execution_count": null,
      "outputs": []
    },
    {
      "cell_type": "code",
      "source": [
        "#Leer archivo cvs con pandas\n",
        "\n",
        "csv_path = 'https://cf-courses-data.s3.us.cloud-object-storage.appdomain.cloud/IBMDeveloperSkillsNetwork-PY0101EN-SkillsNetwork/labs/Module%204/data/TopSellingAlbums.csv'\n",
        "df = pd.read_csv(csv_path)"
      ],
      "metadata": {
        "id": "F4Srn7NXB7AN"
      },
      "execution_count": null,
      "outputs": []
    },
    {
      "cell_type": "code",
      "source": [
        "# Primeras 5 lineas\n",
        "\n",
        "df.head()"
      ],
      "metadata": {
        "colab": {
          "base_uri": "https://localhost:8080/",
          "height": 407
        },
        "id": "7lR2SG1rCA6F",
        "outputId": "3797bb77-f1a6-4e07-9744-c5ab77a7fc1d"
      },
      "execution_count": null,
      "outputs": [
        {
          "output_type": "execute_result",
          "data": {
            "text/plain": [
              "            Artist                      Album  Released   Length  \\\n",
              "0  Michael Jackson                   Thriller      1982  0:42:19   \n",
              "1            AC/DC              Back in Black      1980  0:42:11   \n",
              "2       Pink Floyd  The Dark Side of the Moon      1973  0:42:49   \n",
              "3  Whitney Houston              The Bodyguard      1992  0:57:44   \n",
              "4        Meat Loaf            Bat Out of Hell      1977  0:46:33   \n",
              "\n",
              "                         Genre  Music Recording Sales (millions)  \\\n",
              "0               pop, rock, R&B                              46.0   \n",
              "1                    hard rock                              26.1   \n",
              "2             progressive rock                              24.2   \n",
              "3               R&B, soul, pop                              27.4   \n",
              "4  hard rock, progressive rock                              20.6   \n",
              "\n",
              "   Claimed Sales (millions) Released.1 Soundtrack  Rating  \n",
              "0                        65  30-Nov-82        NaN    10.0  \n",
              "1                        50  25-Jul-80        NaN     9.5  \n",
              "2                        45  01-Mar-73        NaN     9.0  \n",
              "3                        44  17-Nov-92          Y     8.5  \n",
              "4                        43  21-Oct-77        NaN     8.0  "
            ],
            "text/html": [
              "\n",
              "  <div id=\"df-67e0eb20-6bd6-44a9-9084-2cc33361d5b0\">\n",
              "    <div class=\"colab-df-container\">\n",
              "      <div>\n",
              "<style scoped>\n",
              "    .dataframe tbody tr th:only-of-type {\n",
              "        vertical-align: middle;\n",
              "    }\n",
              "\n",
              "    .dataframe tbody tr th {\n",
              "        vertical-align: top;\n",
              "    }\n",
              "\n",
              "    .dataframe thead th {\n",
              "        text-align: right;\n",
              "    }\n",
              "</style>\n",
              "<table border=\"1\" class=\"dataframe\">\n",
              "  <thead>\n",
              "    <tr style=\"text-align: right;\">\n",
              "      <th></th>\n",
              "      <th>Artist</th>\n",
              "      <th>Album</th>\n",
              "      <th>Released</th>\n",
              "      <th>Length</th>\n",
              "      <th>Genre</th>\n",
              "      <th>Music Recording Sales (millions)</th>\n",
              "      <th>Claimed Sales (millions)</th>\n",
              "      <th>Released.1</th>\n",
              "      <th>Soundtrack</th>\n",
              "      <th>Rating</th>\n",
              "    </tr>\n",
              "  </thead>\n",
              "  <tbody>\n",
              "    <tr>\n",
              "      <th>0</th>\n",
              "      <td>Michael Jackson</td>\n",
              "      <td>Thriller</td>\n",
              "      <td>1982</td>\n",
              "      <td>0:42:19</td>\n",
              "      <td>pop, rock, R&amp;B</td>\n",
              "      <td>46.0</td>\n",
              "      <td>65</td>\n",
              "      <td>30-Nov-82</td>\n",
              "      <td>NaN</td>\n",
              "      <td>10.0</td>\n",
              "    </tr>\n",
              "    <tr>\n",
              "      <th>1</th>\n",
              "      <td>AC/DC</td>\n",
              "      <td>Back in Black</td>\n",
              "      <td>1980</td>\n",
              "      <td>0:42:11</td>\n",
              "      <td>hard rock</td>\n",
              "      <td>26.1</td>\n",
              "      <td>50</td>\n",
              "      <td>25-Jul-80</td>\n",
              "      <td>NaN</td>\n",
              "      <td>9.5</td>\n",
              "    </tr>\n",
              "    <tr>\n",
              "      <th>2</th>\n",
              "      <td>Pink Floyd</td>\n",
              "      <td>The Dark Side of the Moon</td>\n",
              "      <td>1973</td>\n",
              "      <td>0:42:49</td>\n",
              "      <td>progressive rock</td>\n",
              "      <td>24.2</td>\n",
              "      <td>45</td>\n",
              "      <td>01-Mar-73</td>\n",
              "      <td>NaN</td>\n",
              "      <td>9.0</td>\n",
              "    </tr>\n",
              "    <tr>\n",
              "      <th>3</th>\n",
              "      <td>Whitney Houston</td>\n",
              "      <td>The Bodyguard</td>\n",
              "      <td>1992</td>\n",
              "      <td>0:57:44</td>\n",
              "      <td>R&amp;B, soul, pop</td>\n",
              "      <td>27.4</td>\n",
              "      <td>44</td>\n",
              "      <td>17-Nov-92</td>\n",
              "      <td>Y</td>\n",
              "      <td>8.5</td>\n",
              "    </tr>\n",
              "    <tr>\n",
              "      <th>4</th>\n",
              "      <td>Meat Loaf</td>\n",
              "      <td>Bat Out of Hell</td>\n",
              "      <td>1977</td>\n",
              "      <td>0:46:33</td>\n",
              "      <td>hard rock, progressive rock</td>\n",
              "      <td>20.6</td>\n",
              "      <td>43</td>\n",
              "      <td>21-Oct-77</td>\n",
              "      <td>NaN</td>\n",
              "      <td>8.0</td>\n",
              "    </tr>\n",
              "  </tbody>\n",
              "</table>\n",
              "</div>\n",
              "      <button class=\"colab-df-convert\" onclick=\"convertToInteractive('df-67e0eb20-6bd6-44a9-9084-2cc33361d5b0')\"\n",
              "              title=\"Convert this dataframe to an interactive table.\"\n",
              "              style=\"display:none;\">\n",
              "        \n",
              "  <svg xmlns=\"http://www.w3.org/2000/svg\" height=\"24px\"viewBox=\"0 0 24 24\"\n",
              "       width=\"24px\">\n",
              "    <path d=\"M0 0h24v24H0V0z\" fill=\"none\"/>\n",
              "    <path d=\"M18.56 5.44l.94 2.06.94-2.06 2.06-.94-2.06-.94-.94-2.06-.94 2.06-2.06.94zm-11 1L8.5 8.5l.94-2.06 2.06-.94-2.06-.94L8.5 2.5l-.94 2.06-2.06.94zm10 10l.94 2.06.94-2.06 2.06-.94-2.06-.94-.94-2.06-.94 2.06-2.06.94z\"/><path d=\"M17.41 7.96l-1.37-1.37c-.4-.4-.92-.59-1.43-.59-.52 0-1.04.2-1.43.59L10.3 9.45l-7.72 7.72c-.78.78-.78 2.05 0 2.83L4 21.41c.39.39.9.59 1.41.59.51 0 1.02-.2 1.41-.59l7.78-7.78 2.81-2.81c.8-.78.8-2.07 0-2.86zM5.41 20L4 18.59l7.72-7.72 1.47 1.35L5.41 20z\"/>\n",
              "  </svg>\n",
              "      </button>\n",
              "      \n",
              "  <style>\n",
              "    .colab-df-container {\n",
              "      display:flex;\n",
              "      flex-wrap:wrap;\n",
              "      gap: 12px;\n",
              "    }\n",
              "\n",
              "    .colab-df-convert {\n",
              "      background-color: #E8F0FE;\n",
              "      border: none;\n",
              "      border-radius: 50%;\n",
              "      cursor: pointer;\n",
              "      display: none;\n",
              "      fill: #1967D2;\n",
              "      height: 32px;\n",
              "      padding: 0 0 0 0;\n",
              "      width: 32px;\n",
              "    }\n",
              "\n",
              "    .colab-df-convert:hover {\n",
              "      background-color: #E2EBFA;\n",
              "      box-shadow: 0px 1px 2px rgba(60, 64, 67, 0.3), 0px 1px 3px 1px rgba(60, 64, 67, 0.15);\n",
              "      fill: #174EA6;\n",
              "    }\n",
              "\n",
              "    [theme=dark] .colab-df-convert {\n",
              "      background-color: #3B4455;\n",
              "      fill: #D2E3FC;\n",
              "    }\n",
              "\n",
              "    [theme=dark] .colab-df-convert:hover {\n",
              "      background-color: #434B5C;\n",
              "      box-shadow: 0px 1px 3px 1px rgba(0, 0, 0, 0.15);\n",
              "      filter: drop-shadow(0px 1px 2px rgba(0, 0, 0, 0.3));\n",
              "      fill: #FFFFFF;\n",
              "    }\n",
              "  </style>\n",
              "\n",
              "      <script>\n",
              "        const buttonEl =\n",
              "          document.querySelector('#df-67e0eb20-6bd6-44a9-9084-2cc33361d5b0 button.colab-df-convert');\n",
              "        buttonEl.style.display =\n",
              "          google.colab.kernel.accessAllowed ? 'block' : 'none';\n",
              "\n",
              "        async function convertToInteractive(key) {\n",
              "          const element = document.querySelector('#df-67e0eb20-6bd6-44a9-9084-2cc33361d5b0');\n",
              "          const dataTable =\n",
              "            await google.colab.kernel.invokeFunction('convertToInteractive',\n",
              "                                                     [key], {});\n",
              "          if (!dataTable) return;\n",
              "\n",
              "          const docLinkHtml = 'Like what you see? Visit the ' +\n",
              "            '<a target=\"_blank\" href=https://colab.research.google.com/notebooks/data_table.ipynb>data table notebook</a>'\n",
              "            + ' to learn more about interactive tables.';\n",
              "          element.innerHTML = '';\n",
              "          dataTable['output_type'] = 'display_data';\n",
              "          await google.colab.output.renderOutput(dataTable, element);\n",
              "          const docLink = document.createElement('div');\n",
              "          docLink.innerHTML = docLinkHtml;\n",
              "          element.appendChild(docLink);\n",
              "        }\n",
              "      </script>\n",
              "    </div>\n",
              "  </div>\n",
              "  "
            ]
          },
          "metadata": {},
          "execution_count": 50
        }
      ]
    },
    {
      "cell_type": "code",
      "source": [
        "# Leer archivo de excel\n",
        "\n",
        "xlsx_path = 'https://s3-api.us-geo.objectstorage.softlayer.net/cf-courses-data/CognitiveClass/PY0101EN/Chapter%204/Datasets/TopSellingAlbums.xlsx'\n",
        "\n",
        "df = pd.read_excel(xlsx_path)\n",
        "df.head()"
      ],
      "metadata": {
        "colab": {
          "base_uri": "https://localhost:8080/",
          "height": 407
        },
        "id": "HSAZZJngCF6p",
        "outputId": "ee40f788-197b-49c4-d965-73d441756356"
      },
      "execution_count": null,
      "outputs": [
        {
          "output_type": "execute_result",
          "data": {
            "text/plain": [
              "            Artist                      Album  Released    Length  \\\n",
              "0  Michael Jackson                   Thriller      1982  00:42:19   \n",
              "1            AC/DC              Back in Black      1980  00:42:11   \n",
              "2       Pink Floyd  The Dark Side of the Moon      1973  00:42:49   \n",
              "3  Whitney Houston              The Bodyguard      1992  00:57:44   \n",
              "4        Meat Loaf            Bat Out of Hell      1977  00:46:33   \n",
              "\n",
              "                         Genre  Music Recording Sales (millions)  \\\n",
              "0               pop, rock, R&B                              46.0   \n",
              "1                    hard rock                              26.1   \n",
              "2             progressive rock                              24.2   \n",
              "3               R&B, soul, pop                              27.4   \n",
              "4  hard rock, progressive rock                              20.6   \n",
              "\n",
              "   Claimed Sales (millions) Released.1 Soundtrack  Rating  \n",
              "0                        65 1982-11-30        NaN    10.0  \n",
              "1                        50 1980-07-25        NaN     9.5  \n",
              "2                        45 1973-03-01        NaN     9.0  \n",
              "3                        44 1992-11-17          Y     8.5  \n",
              "4                        43 1977-10-21        NaN     8.0  "
            ],
            "text/html": [
              "\n",
              "  <div id=\"df-72b20408-f480-4eda-8273-192cedda2f22\">\n",
              "    <div class=\"colab-df-container\">\n",
              "      <div>\n",
              "<style scoped>\n",
              "    .dataframe tbody tr th:only-of-type {\n",
              "        vertical-align: middle;\n",
              "    }\n",
              "\n",
              "    .dataframe tbody tr th {\n",
              "        vertical-align: top;\n",
              "    }\n",
              "\n",
              "    .dataframe thead th {\n",
              "        text-align: right;\n",
              "    }\n",
              "</style>\n",
              "<table border=\"1\" class=\"dataframe\">\n",
              "  <thead>\n",
              "    <tr style=\"text-align: right;\">\n",
              "      <th></th>\n",
              "      <th>Artist</th>\n",
              "      <th>Album</th>\n",
              "      <th>Released</th>\n",
              "      <th>Length</th>\n",
              "      <th>Genre</th>\n",
              "      <th>Music Recording Sales (millions)</th>\n",
              "      <th>Claimed Sales (millions)</th>\n",
              "      <th>Released.1</th>\n",
              "      <th>Soundtrack</th>\n",
              "      <th>Rating</th>\n",
              "    </tr>\n",
              "  </thead>\n",
              "  <tbody>\n",
              "    <tr>\n",
              "      <th>0</th>\n",
              "      <td>Michael Jackson</td>\n",
              "      <td>Thriller</td>\n",
              "      <td>1982</td>\n",
              "      <td>00:42:19</td>\n",
              "      <td>pop, rock, R&amp;B</td>\n",
              "      <td>46.0</td>\n",
              "      <td>65</td>\n",
              "      <td>1982-11-30</td>\n",
              "      <td>NaN</td>\n",
              "      <td>10.0</td>\n",
              "    </tr>\n",
              "    <tr>\n",
              "      <th>1</th>\n",
              "      <td>AC/DC</td>\n",
              "      <td>Back in Black</td>\n",
              "      <td>1980</td>\n",
              "      <td>00:42:11</td>\n",
              "      <td>hard rock</td>\n",
              "      <td>26.1</td>\n",
              "      <td>50</td>\n",
              "      <td>1980-07-25</td>\n",
              "      <td>NaN</td>\n",
              "      <td>9.5</td>\n",
              "    </tr>\n",
              "    <tr>\n",
              "      <th>2</th>\n",
              "      <td>Pink Floyd</td>\n",
              "      <td>The Dark Side of the Moon</td>\n",
              "      <td>1973</td>\n",
              "      <td>00:42:49</td>\n",
              "      <td>progressive rock</td>\n",
              "      <td>24.2</td>\n",
              "      <td>45</td>\n",
              "      <td>1973-03-01</td>\n",
              "      <td>NaN</td>\n",
              "      <td>9.0</td>\n",
              "    </tr>\n",
              "    <tr>\n",
              "      <th>3</th>\n",
              "      <td>Whitney Houston</td>\n",
              "      <td>The Bodyguard</td>\n",
              "      <td>1992</td>\n",
              "      <td>00:57:44</td>\n",
              "      <td>R&amp;B, soul, pop</td>\n",
              "      <td>27.4</td>\n",
              "      <td>44</td>\n",
              "      <td>1992-11-17</td>\n",
              "      <td>Y</td>\n",
              "      <td>8.5</td>\n",
              "    </tr>\n",
              "    <tr>\n",
              "      <th>4</th>\n",
              "      <td>Meat Loaf</td>\n",
              "      <td>Bat Out of Hell</td>\n",
              "      <td>1977</td>\n",
              "      <td>00:46:33</td>\n",
              "      <td>hard rock, progressive rock</td>\n",
              "      <td>20.6</td>\n",
              "      <td>43</td>\n",
              "      <td>1977-10-21</td>\n",
              "      <td>NaN</td>\n",
              "      <td>8.0</td>\n",
              "    </tr>\n",
              "  </tbody>\n",
              "</table>\n",
              "</div>\n",
              "      <button class=\"colab-df-convert\" onclick=\"convertToInteractive('df-72b20408-f480-4eda-8273-192cedda2f22')\"\n",
              "              title=\"Convert this dataframe to an interactive table.\"\n",
              "              style=\"display:none;\">\n",
              "        \n",
              "  <svg xmlns=\"http://www.w3.org/2000/svg\" height=\"24px\"viewBox=\"0 0 24 24\"\n",
              "       width=\"24px\">\n",
              "    <path d=\"M0 0h24v24H0V0z\" fill=\"none\"/>\n",
              "    <path d=\"M18.56 5.44l.94 2.06.94-2.06 2.06-.94-2.06-.94-.94-2.06-.94 2.06-2.06.94zm-11 1L8.5 8.5l.94-2.06 2.06-.94-2.06-.94L8.5 2.5l-.94 2.06-2.06.94zm10 10l.94 2.06.94-2.06 2.06-.94-2.06-.94-.94-2.06-.94 2.06-2.06.94z\"/><path d=\"M17.41 7.96l-1.37-1.37c-.4-.4-.92-.59-1.43-.59-.52 0-1.04.2-1.43.59L10.3 9.45l-7.72 7.72c-.78.78-.78 2.05 0 2.83L4 21.41c.39.39.9.59 1.41.59.51 0 1.02-.2 1.41-.59l7.78-7.78 2.81-2.81c.8-.78.8-2.07 0-2.86zM5.41 20L4 18.59l7.72-7.72 1.47 1.35L5.41 20z\"/>\n",
              "  </svg>\n",
              "      </button>\n",
              "      \n",
              "  <style>\n",
              "    .colab-df-container {\n",
              "      display:flex;\n",
              "      flex-wrap:wrap;\n",
              "      gap: 12px;\n",
              "    }\n",
              "\n",
              "    .colab-df-convert {\n",
              "      background-color: #E8F0FE;\n",
              "      border: none;\n",
              "      border-radius: 50%;\n",
              "      cursor: pointer;\n",
              "      display: none;\n",
              "      fill: #1967D2;\n",
              "      height: 32px;\n",
              "      padding: 0 0 0 0;\n",
              "      width: 32px;\n",
              "    }\n",
              "\n",
              "    .colab-df-convert:hover {\n",
              "      background-color: #E2EBFA;\n",
              "      box-shadow: 0px 1px 2px rgba(60, 64, 67, 0.3), 0px 1px 3px 1px rgba(60, 64, 67, 0.15);\n",
              "      fill: #174EA6;\n",
              "    }\n",
              "\n",
              "    [theme=dark] .colab-df-convert {\n",
              "      background-color: #3B4455;\n",
              "      fill: #D2E3FC;\n",
              "    }\n",
              "\n",
              "    [theme=dark] .colab-df-convert:hover {\n",
              "      background-color: #434B5C;\n",
              "      box-shadow: 0px 1px 3px 1px rgba(0, 0, 0, 0.15);\n",
              "      filter: drop-shadow(0px 1px 2px rgba(0, 0, 0, 0.3));\n",
              "      fill: #FFFFFF;\n",
              "    }\n",
              "  </style>\n",
              "\n",
              "      <script>\n",
              "        const buttonEl =\n",
              "          document.querySelector('#df-72b20408-f480-4eda-8273-192cedda2f22 button.colab-df-convert');\n",
              "        buttonEl.style.display =\n",
              "          google.colab.kernel.accessAllowed ? 'block' : 'none';\n",
              "\n",
              "        async function convertToInteractive(key) {\n",
              "          const element = document.querySelector('#df-72b20408-f480-4eda-8273-192cedda2f22');\n",
              "          const dataTable =\n",
              "            await google.colab.kernel.invokeFunction('convertToInteractive',\n",
              "                                                     [key], {});\n",
              "          if (!dataTable) return;\n",
              "\n",
              "          const docLinkHtml = 'Like what you see? Visit the ' +\n",
              "            '<a target=\"_blank\" href=https://colab.research.google.com/notebooks/data_table.ipynb>data table notebook</a>'\n",
              "            + ' to learn more about interactive tables.';\n",
              "          element.innerHTML = '';\n",
              "          dataTable['output_type'] = 'display_data';\n",
              "          await google.colab.output.renderOutput(dataTable, element);\n",
              "          const docLink = document.createElement('div');\n",
              "          docLink.innerHTML = docLinkHtml;\n",
              "          element.appendChild(docLink);\n",
              "        }\n",
              "      </script>\n",
              "    </div>\n",
              "  </div>\n",
              "  "
            ]
          },
          "metadata": {},
          "execution_count": 51
        }
      ]
    },
    {
      "cell_type": "code",
      "source": [
        "# Crear dataframe usando una columna\n",
        "\n",
        "x = df[['Length']]\n",
        "x"
      ],
      "metadata": {
        "colab": {
          "base_uri": "https://localhost:8080/",
          "height": 300
        },
        "id": "FMZ0PpdWCQuJ",
        "outputId": "bff401ec-043b-4b07-a642-02e9f9a66d2b"
      },
      "execution_count": null,
      "outputs": [
        {
          "output_type": "execute_result",
          "data": {
            "text/plain": [
              "     Length\n",
              "0  00:42:19\n",
              "1  00:42:11\n",
              "2  00:42:49\n",
              "3  00:57:44\n",
              "4  00:46:33\n",
              "5  00:43:08\n",
              "6  01:15:54\n",
              "7  00:40:01"
            ],
            "text/html": [
              "\n",
              "  <div id=\"df-28e9c67b-6b88-4d32-9485-e5681b2b0f64\">\n",
              "    <div class=\"colab-df-container\">\n",
              "      <div>\n",
              "<style scoped>\n",
              "    .dataframe tbody tr th:only-of-type {\n",
              "        vertical-align: middle;\n",
              "    }\n",
              "\n",
              "    .dataframe tbody tr th {\n",
              "        vertical-align: top;\n",
              "    }\n",
              "\n",
              "    .dataframe thead th {\n",
              "        text-align: right;\n",
              "    }\n",
              "</style>\n",
              "<table border=\"1\" class=\"dataframe\">\n",
              "  <thead>\n",
              "    <tr style=\"text-align: right;\">\n",
              "      <th></th>\n",
              "      <th>Length</th>\n",
              "    </tr>\n",
              "  </thead>\n",
              "  <tbody>\n",
              "    <tr>\n",
              "      <th>0</th>\n",
              "      <td>00:42:19</td>\n",
              "    </tr>\n",
              "    <tr>\n",
              "      <th>1</th>\n",
              "      <td>00:42:11</td>\n",
              "    </tr>\n",
              "    <tr>\n",
              "      <th>2</th>\n",
              "      <td>00:42:49</td>\n",
              "    </tr>\n",
              "    <tr>\n",
              "      <th>3</th>\n",
              "      <td>00:57:44</td>\n",
              "    </tr>\n",
              "    <tr>\n",
              "      <th>4</th>\n",
              "      <td>00:46:33</td>\n",
              "    </tr>\n",
              "    <tr>\n",
              "      <th>5</th>\n",
              "      <td>00:43:08</td>\n",
              "    </tr>\n",
              "    <tr>\n",
              "      <th>6</th>\n",
              "      <td>01:15:54</td>\n",
              "    </tr>\n",
              "    <tr>\n",
              "      <th>7</th>\n",
              "      <td>00:40:01</td>\n",
              "    </tr>\n",
              "  </tbody>\n",
              "</table>\n",
              "</div>\n",
              "      <button class=\"colab-df-convert\" onclick=\"convertToInteractive('df-28e9c67b-6b88-4d32-9485-e5681b2b0f64')\"\n",
              "              title=\"Convert this dataframe to an interactive table.\"\n",
              "              style=\"display:none;\">\n",
              "        \n",
              "  <svg xmlns=\"http://www.w3.org/2000/svg\" height=\"24px\"viewBox=\"0 0 24 24\"\n",
              "       width=\"24px\">\n",
              "    <path d=\"M0 0h24v24H0V0z\" fill=\"none\"/>\n",
              "    <path d=\"M18.56 5.44l.94 2.06.94-2.06 2.06-.94-2.06-.94-.94-2.06-.94 2.06-2.06.94zm-11 1L8.5 8.5l.94-2.06 2.06-.94-2.06-.94L8.5 2.5l-.94 2.06-2.06.94zm10 10l.94 2.06.94-2.06 2.06-.94-2.06-.94-.94-2.06-.94 2.06-2.06.94z\"/><path d=\"M17.41 7.96l-1.37-1.37c-.4-.4-.92-.59-1.43-.59-.52 0-1.04.2-1.43.59L10.3 9.45l-7.72 7.72c-.78.78-.78 2.05 0 2.83L4 21.41c.39.39.9.59 1.41.59.51 0 1.02-.2 1.41-.59l7.78-7.78 2.81-2.81c.8-.78.8-2.07 0-2.86zM5.41 20L4 18.59l7.72-7.72 1.47 1.35L5.41 20z\"/>\n",
              "  </svg>\n",
              "      </button>\n",
              "      \n",
              "  <style>\n",
              "    .colab-df-container {\n",
              "      display:flex;\n",
              "      flex-wrap:wrap;\n",
              "      gap: 12px;\n",
              "    }\n",
              "\n",
              "    .colab-df-convert {\n",
              "      background-color: #E8F0FE;\n",
              "      border: none;\n",
              "      border-radius: 50%;\n",
              "      cursor: pointer;\n",
              "      display: none;\n",
              "      fill: #1967D2;\n",
              "      height: 32px;\n",
              "      padding: 0 0 0 0;\n",
              "      width: 32px;\n",
              "    }\n",
              "\n",
              "    .colab-df-convert:hover {\n",
              "      background-color: #E2EBFA;\n",
              "      box-shadow: 0px 1px 2px rgba(60, 64, 67, 0.3), 0px 1px 3px 1px rgba(60, 64, 67, 0.15);\n",
              "      fill: #174EA6;\n",
              "    }\n",
              "\n",
              "    [theme=dark] .colab-df-convert {\n",
              "      background-color: #3B4455;\n",
              "      fill: #D2E3FC;\n",
              "    }\n",
              "\n",
              "    [theme=dark] .colab-df-convert:hover {\n",
              "      background-color: #434B5C;\n",
              "      box-shadow: 0px 1px 3px 1px rgba(0, 0, 0, 0.15);\n",
              "      filter: drop-shadow(0px 1px 2px rgba(0, 0, 0, 0.3));\n",
              "      fill: #FFFFFF;\n",
              "    }\n",
              "  </style>\n",
              "\n",
              "      <script>\n",
              "        const buttonEl =\n",
              "          document.querySelector('#df-28e9c67b-6b88-4d32-9485-e5681b2b0f64 button.colab-df-convert');\n",
              "        buttonEl.style.display =\n",
              "          google.colab.kernel.accessAllowed ? 'block' : 'none';\n",
              "\n",
              "        async function convertToInteractive(key) {\n",
              "          const element = document.querySelector('#df-28e9c67b-6b88-4d32-9485-e5681b2b0f64');\n",
              "          const dataTable =\n",
              "            await google.colab.kernel.invokeFunction('convertToInteractive',\n",
              "                                                     [key], {});\n",
              "          if (!dataTable) return;\n",
              "\n",
              "          const docLinkHtml = 'Like what you see? Visit the ' +\n",
              "            '<a target=\"_blank\" href=https://colab.research.google.com/notebooks/data_table.ipynb>data table notebook</a>'\n",
              "            + ' to learn more about interactive tables.';\n",
              "          element.innerHTML = '';\n",
              "          dataTable['output_type'] = 'display_data';\n",
              "          await google.colab.output.renderOutput(dataTable, element);\n",
              "          const docLink = document.createElement('div');\n",
              "          docLink.innerHTML = docLinkHtml;\n",
              "          element.appendChild(docLink);\n",
              "        }\n",
              "      </script>\n",
              "    </div>\n",
              "  </div>\n",
              "  "
            ]
          },
          "metadata": {},
          "execution_count": 52
        }
      ]
    },
    {
      "cell_type": "code",
      "source": [
        "# Crear serie desde una columna\n",
        "\n",
        "x = df['Length']\n",
        "x"
      ],
      "metadata": {
        "colab": {
          "base_uri": "https://localhost:8080/"
        },
        "id": "wWT9U8kMCyvx",
        "outputId": "6c3b30ec-c3d1-439c-b38b-d23171bf9119"
      },
      "execution_count": null,
      "outputs": [
        {
          "output_type": "execute_result",
          "data": {
            "text/plain": [
              "0    00:42:19\n",
              "1    00:42:11\n",
              "2    00:42:49\n",
              "3    00:57:44\n",
              "4    00:46:33\n",
              "5    00:43:08\n",
              "6    01:15:54\n",
              "7    00:40:01\n",
              "Name: Length, dtype: object"
            ]
          },
          "metadata": {},
          "execution_count": 53
        }
      ]
    },
    {
      "cell_type": "code",
      "source": [
        "# Crear DF con varias columnas\n",
        "\n",
        "y = df[['Artist','Length','Genre']]\n",
        "y"
      ],
      "metadata": {
        "colab": {
          "base_uri": "https://localhost:8080/",
          "height": 300
        },
        "id": "EOfgldLrC_05",
        "outputId": "70f76732-c738-46b7-e8ce-e348ae5b452e"
      },
      "execution_count": null,
      "outputs": [
        {
          "output_type": "execute_result",
          "data": {
            "text/plain": [
              "            Artist    Length                        Genre\n",
              "0  Michael Jackson  00:42:19               pop, rock, R&B\n",
              "1            AC/DC  00:42:11                    hard rock\n",
              "2       Pink Floyd  00:42:49             progressive rock\n",
              "3  Whitney Houston  00:57:44               R&B, soul, pop\n",
              "4        Meat Loaf  00:46:33  hard rock, progressive rock\n",
              "5           Eagles  00:43:08   rock, soft rock, folk rock\n",
              "6         Bee Gees  01:15:54                        disco\n",
              "7    Fleetwood Mac  00:40:01                    soft rock"
            ],
            "text/html": [
              "\n",
              "  <div id=\"df-62bd4141-a1a4-4eb2-a511-9e38e2ac6fff\">\n",
              "    <div class=\"colab-df-container\">\n",
              "      <div>\n",
              "<style scoped>\n",
              "    .dataframe tbody tr th:only-of-type {\n",
              "        vertical-align: middle;\n",
              "    }\n",
              "\n",
              "    .dataframe tbody tr th {\n",
              "        vertical-align: top;\n",
              "    }\n",
              "\n",
              "    .dataframe thead th {\n",
              "        text-align: right;\n",
              "    }\n",
              "</style>\n",
              "<table border=\"1\" class=\"dataframe\">\n",
              "  <thead>\n",
              "    <tr style=\"text-align: right;\">\n",
              "      <th></th>\n",
              "      <th>Artist</th>\n",
              "      <th>Length</th>\n",
              "      <th>Genre</th>\n",
              "    </tr>\n",
              "  </thead>\n",
              "  <tbody>\n",
              "    <tr>\n",
              "      <th>0</th>\n",
              "      <td>Michael Jackson</td>\n",
              "      <td>00:42:19</td>\n",
              "      <td>pop, rock, R&amp;B</td>\n",
              "    </tr>\n",
              "    <tr>\n",
              "      <th>1</th>\n",
              "      <td>AC/DC</td>\n",
              "      <td>00:42:11</td>\n",
              "      <td>hard rock</td>\n",
              "    </tr>\n",
              "    <tr>\n",
              "      <th>2</th>\n",
              "      <td>Pink Floyd</td>\n",
              "      <td>00:42:49</td>\n",
              "      <td>progressive rock</td>\n",
              "    </tr>\n",
              "    <tr>\n",
              "      <th>3</th>\n",
              "      <td>Whitney Houston</td>\n",
              "      <td>00:57:44</td>\n",
              "      <td>R&amp;B, soul, pop</td>\n",
              "    </tr>\n",
              "    <tr>\n",
              "      <th>4</th>\n",
              "      <td>Meat Loaf</td>\n",
              "      <td>00:46:33</td>\n",
              "      <td>hard rock, progressive rock</td>\n",
              "    </tr>\n",
              "    <tr>\n",
              "      <th>5</th>\n",
              "      <td>Eagles</td>\n",
              "      <td>00:43:08</td>\n",
              "      <td>rock, soft rock, folk rock</td>\n",
              "    </tr>\n",
              "    <tr>\n",
              "      <th>6</th>\n",
              "      <td>Bee Gees</td>\n",
              "      <td>01:15:54</td>\n",
              "      <td>disco</td>\n",
              "    </tr>\n",
              "    <tr>\n",
              "      <th>7</th>\n",
              "      <td>Fleetwood Mac</td>\n",
              "      <td>00:40:01</td>\n",
              "      <td>soft rock</td>\n",
              "    </tr>\n",
              "  </tbody>\n",
              "</table>\n",
              "</div>\n",
              "      <button class=\"colab-df-convert\" onclick=\"convertToInteractive('df-62bd4141-a1a4-4eb2-a511-9e38e2ac6fff')\"\n",
              "              title=\"Convert this dataframe to an interactive table.\"\n",
              "              style=\"display:none;\">\n",
              "        \n",
              "  <svg xmlns=\"http://www.w3.org/2000/svg\" height=\"24px\"viewBox=\"0 0 24 24\"\n",
              "       width=\"24px\">\n",
              "    <path d=\"M0 0h24v24H0V0z\" fill=\"none\"/>\n",
              "    <path d=\"M18.56 5.44l.94 2.06.94-2.06 2.06-.94-2.06-.94-.94-2.06-.94 2.06-2.06.94zm-11 1L8.5 8.5l.94-2.06 2.06-.94-2.06-.94L8.5 2.5l-.94 2.06-2.06.94zm10 10l.94 2.06.94-2.06 2.06-.94-2.06-.94-.94-2.06-.94 2.06-2.06.94z\"/><path d=\"M17.41 7.96l-1.37-1.37c-.4-.4-.92-.59-1.43-.59-.52 0-1.04.2-1.43.59L10.3 9.45l-7.72 7.72c-.78.78-.78 2.05 0 2.83L4 21.41c.39.39.9.59 1.41.59.51 0 1.02-.2 1.41-.59l7.78-7.78 2.81-2.81c.8-.78.8-2.07 0-2.86zM5.41 20L4 18.59l7.72-7.72 1.47 1.35L5.41 20z\"/>\n",
              "  </svg>\n",
              "      </button>\n",
              "      \n",
              "  <style>\n",
              "    .colab-df-container {\n",
              "      display:flex;\n",
              "      flex-wrap:wrap;\n",
              "      gap: 12px;\n",
              "    }\n",
              "\n",
              "    .colab-df-convert {\n",
              "      background-color: #E8F0FE;\n",
              "      border: none;\n",
              "      border-radius: 50%;\n",
              "      cursor: pointer;\n",
              "      display: none;\n",
              "      fill: #1967D2;\n",
              "      height: 32px;\n",
              "      padding: 0 0 0 0;\n",
              "      width: 32px;\n",
              "    }\n",
              "\n",
              "    .colab-df-convert:hover {\n",
              "      background-color: #E2EBFA;\n",
              "      box-shadow: 0px 1px 2px rgba(60, 64, 67, 0.3), 0px 1px 3px 1px rgba(60, 64, 67, 0.15);\n",
              "      fill: #174EA6;\n",
              "    }\n",
              "\n",
              "    [theme=dark] .colab-df-convert {\n",
              "      background-color: #3B4455;\n",
              "      fill: #D2E3FC;\n",
              "    }\n",
              "\n",
              "    [theme=dark] .colab-df-convert:hover {\n",
              "      background-color: #434B5C;\n",
              "      box-shadow: 0px 1px 3px 1px rgba(0, 0, 0, 0.15);\n",
              "      filter: drop-shadow(0px 1px 2px rgba(0, 0, 0, 0.3));\n",
              "      fill: #FFFFFF;\n",
              "    }\n",
              "  </style>\n",
              "\n",
              "      <script>\n",
              "        const buttonEl =\n",
              "          document.querySelector('#df-62bd4141-a1a4-4eb2-a511-9e38e2ac6fff button.colab-df-convert');\n",
              "        buttonEl.style.display =\n",
              "          google.colab.kernel.accessAllowed ? 'block' : 'none';\n",
              "\n",
              "        async function convertToInteractive(key) {\n",
              "          const element = document.querySelector('#df-62bd4141-a1a4-4eb2-a511-9e38e2ac6fff');\n",
              "          const dataTable =\n",
              "            await google.colab.kernel.invokeFunction('convertToInteractive',\n",
              "                                                     [key], {});\n",
              "          if (!dataTable) return;\n",
              "\n",
              "          const docLinkHtml = 'Like what you see? Visit the ' +\n",
              "            '<a target=\"_blank\" href=https://colab.research.google.com/notebooks/data_table.ipynb>data table notebook</a>'\n",
              "            + ' to learn more about interactive tables.';\n",
              "          element.innerHTML = '';\n",
              "          dataTable['output_type'] = 'display_data';\n",
              "          await google.colab.output.renderOutput(dataTable, element);\n",
              "          const docLink = document.createElement('div');\n",
              "          docLink.innerHTML = docLinkHtml;\n",
              "          element.appendChild(docLink);\n",
              "        }\n",
              "      </script>\n",
              "    </div>\n",
              "  </div>\n",
              "  "
            ]
          },
          "metadata": {},
          "execution_count": 54
        }
      ]
    },
    {
      "cell_type": "code",
      "source": [
        "# Accesar por linea y columna\n",
        "\n",
        "df.iloc[0, 0]"
      ],
      "metadata": {
        "colab": {
          "base_uri": "https://localhost:8080/",
          "height": 35
        },
        "id": "W_09pryYDKQO",
        "outputId": "9a9477e0-7626-4c0a-e3be-e9a4df3b3058"
      },
      "execution_count": null,
      "outputs": [
        {
          "output_type": "execute_result",
          "data": {
            "text/plain": [
              "'Michael Jackson'"
            ],
            "application/vnd.google.colaboratory.intrinsic+json": {
              "type": "string"
            }
          },
          "metadata": {},
          "execution_count": 55
        }
      ]
    },
    {
      "cell_type": "code",
      "source": [
        "#Segunda linea 1er columna\n",
        "\n",
        "df.iloc[1,0]"
      ],
      "metadata": {
        "colab": {
          "base_uri": "https://localhost:8080/",
          "height": 35
        },
        "id": "1yGLFjMWDTxb",
        "outputId": "ec2f50d1-e21d-45b1-a8e8-06370ac38a9e"
      },
      "execution_count": null,
      "outputs": [
        {
          "output_type": "execute_result",
          "data": {
            "text/plain": [
              "'AC/DC'"
            ],
            "application/vnd.google.colaboratory.intrinsic+json": {
              "type": "string"
            }
          },
          "metadata": {},
          "execution_count": 56
        }
      ]
    },
    {
      "cell_type": "code",
      "source": [
        "#Primer linea 3er columna\n",
        "\n",
        "df.iloc[0,2]"
      ],
      "metadata": {
        "colab": {
          "base_uri": "https://localhost:8080/"
        },
        "id": "qknJrqbfDZ-9",
        "outputId": "4a65859f-933a-471d-84f6-4e8edb1b3c9b"
      },
      "execution_count": null,
      "outputs": [
        {
          "output_type": "execute_result",
          "data": {
            "text/plain": [
              "1982"
            ]
          },
          "metadata": {},
          "execution_count": 57
        }
      ]
    },
    {
      "cell_type": "code",
      "source": [
        "# Segunda linea, 3er columna\n",
        "\n",
        "df.iloc[1,2]"
      ],
      "metadata": {
        "colab": {
          "base_uri": "https://localhost:8080/"
        },
        "id": "kCWKvqYDDezl",
        "outputId": "aefc7514-dece-464a-83fe-4b28853195e8"
      },
      "execution_count": null,
      "outputs": [
        {
          "output_type": "execute_result",
          "data": {
            "text/plain": [
              "1980"
            ]
          },
          "metadata": {},
          "execution_count": 58
        }
      ]
    },
    {
      "cell_type": "code",
      "source": [
        "# deslegar por nomber de columna\n",
        "\n",
        "df.loc[1, 'Artist']"
      ],
      "metadata": {
        "colab": {
          "base_uri": "https://localhost:8080/",
          "height": 35
        },
        "id": "dzMITVmqDldJ",
        "outputId": "969f8bb3-5b08-4f2c-e786-6bce6e7bed61"
      },
      "execution_count": null,
      "outputs": [
        {
          "output_type": "execute_result",
          "data": {
            "text/plain": [
              "'AC/DC'"
            ],
            "application/vnd.google.colaboratory.intrinsic+json": {
              "type": "string"
            }
          },
          "metadata": {},
          "execution_count": 59
        }
      ]
    },
    {
      "cell_type": "code",
      "source": [
        "df.loc[0, 'Released']"
      ],
      "metadata": {
        "colab": {
          "base_uri": "https://localhost:8080/"
        },
        "id": "hDHgE0MlD0gN",
        "outputId": "9d67f15e-4953-43e2-cd2e-81e47e32e525"
      },
      "execution_count": null,
      "outputs": [
        {
          "output_type": "execute_result",
          "data": {
            "text/plain": [
              "1982"
            ]
          },
          "metadata": {},
          "execution_count": 60
        }
      ]
    },
    {
      "cell_type": "code",
      "source": [
        "# Slicing\n",
        "\n",
        "df.iloc[0:2, 0:3]"
      ],
      "metadata": {
        "colab": {
          "base_uri": "https://localhost:8080/",
          "height": 112
        },
        "id": "BAr1I5BlD48s",
        "outputId": "23d0e5fb-0c01-4d4c-d8cb-53f8b1aa5b1a"
      },
      "execution_count": null,
      "outputs": [
        {
          "output_type": "execute_result",
          "data": {
            "text/plain": [
              "            Artist          Album  Released\n",
              "0  Michael Jackson       Thriller      1982\n",
              "1            AC/DC  Back in Black      1980"
            ],
            "text/html": [
              "\n",
              "  <div id=\"df-60eda98c-9b90-49be-9fe9-cc159db6c261\">\n",
              "    <div class=\"colab-df-container\">\n",
              "      <div>\n",
              "<style scoped>\n",
              "    .dataframe tbody tr th:only-of-type {\n",
              "        vertical-align: middle;\n",
              "    }\n",
              "\n",
              "    .dataframe tbody tr th {\n",
              "        vertical-align: top;\n",
              "    }\n",
              "\n",
              "    .dataframe thead th {\n",
              "        text-align: right;\n",
              "    }\n",
              "</style>\n",
              "<table border=\"1\" class=\"dataframe\">\n",
              "  <thead>\n",
              "    <tr style=\"text-align: right;\">\n",
              "      <th></th>\n",
              "      <th>Artist</th>\n",
              "      <th>Album</th>\n",
              "      <th>Released</th>\n",
              "    </tr>\n",
              "  </thead>\n",
              "  <tbody>\n",
              "    <tr>\n",
              "      <th>0</th>\n",
              "      <td>Michael Jackson</td>\n",
              "      <td>Thriller</td>\n",
              "      <td>1982</td>\n",
              "    </tr>\n",
              "    <tr>\n",
              "      <th>1</th>\n",
              "      <td>AC/DC</td>\n",
              "      <td>Back in Black</td>\n",
              "      <td>1980</td>\n",
              "    </tr>\n",
              "  </tbody>\n",
              "</table>\n",
              "</div>\n",
              "      <button class=\"colab-df-convert\" onclick=\"convertToInteractive('df-60eda98c-9b90-49be-9fe9-cc159db6c261')\"\n",
              "              title=\"Convert this dataframe to an interactive table.\"\n",
              "              style=\"display:none;\">\n",
              "        \n",
              "  <svg xmlns=\"http://www.w3.org/2000/svg\" height=\"24px\"viewBox=\"0 0 24 24\"\n",
              "       width=\"24px\">\n",
              "    <path d=\"M0 0h24v24H0V0z\" fill=\"none\"/>\n",
              "    <path d=\"M18.56 5.44l.94 2.06.94-2.06 2.06-.94-2.06-.94-.94-2.06-.94 2.06-2.06.94zm-11 1L8.5 8.5l.94-2.06 2.06-.94-2.06-.94L8.5 2.5l-.94 2.06-2.06.94zm10 10l.94 2.06.94-2.06 2.06-.94-2.06-.94-.94-2.06-.94 2.06-2.06.94z\"/><path d=\"M17.41 7.96l-1.37-1.37c-.4-.4-.92-.59-1.43-.59-.52 0-1.04.2-1.43.59L10.3 9.45l-7.72 7.72c-.78.78-.78 2.05 0 2.83L4 21.41c.39.39.9.59 1.41.59.51 0 1.02-.2 1.41-.59l7.78-7.78 2.81-2.81c.8-.78.8-2.07 0-2.86zM5.41 20L4 18.59l7.72-7.72 1.47 1.35L5.41 20z\"/>\n",
              "  </svg>\n",
              "      </button>\n",
              "      \n",
              "  <style>\n",
              "    .colab-df-container {\n",
              "      display:flex;\n",
              "      flex-wrap:wrap;\n",
              "      gap: 12px;\n",
              "    }\n",
              "\n",
              "    .colab-df-convert {\n",
              "      background-color: #E8F0FE;\n",
              "      border: none;\n",
              "      border-radius: 50%;\n",
              "      cursor: pointer;\n",
              "      display: none;\n",
              "      fill: #1967D2;\n",
              "      height: 32px;\n",
              "      padding: 0 0 0 0;\n",
              "      width: 32px;\n",
              "    }\n",
              "\n",
              "    .colab-df-convert:hover {\n",
              "      background-color: #E2EBFA;\n",
              "      box-shadow: 0px 1px 2px rgba(60, 64, 67, 0.3), 0px 1px 3px 1px rgba(60, 64, 67, 0.15);\n",
              "      fill: #174EA6;\n",
              "    }\n",
              "\n",
              "    [theme=dark] .colab-df-convert {\n",
              "      background-color: #3B4455;\n",
              "      fill: #D2E3FC;\n",
              "    }\n",
              "\n",
              "    [theme=dark] .colab-df-convert:hover {\n",
              "      background-color: #434B5C;\n",
              "      box-shadow: 0px 1px 3px 1px rgba(0, 0, 0, 0.15);\n",
              "      filter: drop-shadow(0px 1px 2px rgba(0, 0, 0, 0.3));\n",
              "      fill: #FFFFFF;\n",
              "    }\n",
              "  </style>\n",
              "\n",
              "      <script>\n",
              "        const buttonEl =\n",
              "          document.querySelector('#df-60eda98c-9b90-49be-9fe9-cc159db6c261 button.colab-df-convert');\n",
              "        buttonEl.style.display =\n",
              "          google.colab.kernel.accessAllowed ? 'block' : 'none';\n",
              "\n",
              "        async function convertToInteractive(key) {\n",
              "          const element = document.querySelector('#df-60eda98c-9b90-49be-9fe9-cc159db6c261');\n",
              "          const dataTable =\n",
              "            await google.colab.kernel.invokeFunction('convertToInteractive',\n",
              "                                                     [key], {});\n",
              "          if (!dataTable) return;\n",
              "\n",
              "          const docLinkHtml = 'Like what you see? Visit the ' +\n",
              "            '<a target=\"_blank\" href=https://colab.research.google.com/notebooks/data_table.ipynb>data table notebook</a>'\n",
              "            + ' to learn more about interactive tables.';\n",
              "          element.innerHTML = '';\n",
              "          dataTable['output_type'] = 'display_data';\n",
              "          await google.colab.output.renderOutput(dataTable, element);\n",
              "          const docLink = document.createElement('div');\n",
              "          docLink.innerHTML = docLinkHtml;\n",
              "          element.appendChild(docLink);\n",
              "        }\n",
              "      </script>\n",
              "    </div>\n",
              "  </div>\n",
              "  "
            ]
          },
          "metadata": {},
          "execution_count": 61
        }
      ]
    },
    {
      "cell_type": "code",
      "source": [
        "# Slicing por nombre\n",
        "\n",
        "df.loc[0:2, 'Artist':'Released']"
      ],
      "metadata": {
        "colab": {
          "base_uri": "https://localhost:8080/",
          "height": 143
        },
        "id": "KLC6tJglEIJ8",
        "outputId": "bbe7c1bc-ebd9-4c4d-b0f4-4cfc7e6238a6"
      },
      "execution_count": null,
      "outputs": [
        {
          "output_type": "execute_result",
          "data": {
            "text/plain": [
              "            Artist                      Album  Released\n",
              "0  Michael Jackson                   Thriller      1982\n",
              "1            AC/DC              Back in Black      1980\n",
              "2       Pink Floyd  The Dark Side of the Moon      1973"
            ],
            "text/html": [
              "\n",
              "  <div id=\"df-886e0e3d-b45c-40e6-90d8-d8d29f639787\">\n",
              "    <div class=\"colab-df-container\">\n",
              "      <div>\n",
              "<style scoped>\n",
              "    .dataframe tbody tr th:only-of-type {\n",
              "        vertical-align: middle;\n",
              "    }\n",
              "\n",
              "    .dataframe tbody tr th {\n",
              "        vertical-align: top;\n",
              "    }\n",
              "\n",
              "    .dataframe thead th {\n",
              "        text-align: right;\n",
              "    }\n",
              "</style>\n",
              "<table border=\"1\" class=\"dataframe\">\n",
              "  <thead>\n",
              "    <tr style=\"text-align: right;\">\n",
              "      <th></th>\n",
              "      <th>Artist</th>\n",
              "      <th>Album</th>\n",
              "      <th>Released</th>\n",
              "    </tr>\n",
              "  </thead>\n",
              "  <tbody>\n",
              "    <tr>\n",
              "      <th>0</th>\n",
              "      <td>Michael Jackson</td>\n",
              "      <td>Thriller</td>\n",
              "      <td>1982</td>\n",
              "    </tr>\n",
              "    <tr>\n",
              "      <th>1</th>\n",
              "      <td>AC/DC</td>\n",
              "      <td>Back in Black</td>\n",
              "      <td>1980</td>\n",
              "    </tr>\n",
              "    <tr>\n",
              "      <th>2</th>\n",
              "      <td>Pink Floyd</td>\n",
              "      <td>The Dark Side of the Moon</td>\n",
              "      <td>1973</td>\n",
              "    </tr>\n",
              "  </tbody>\n",
              "</table>\n",
              "</div>\n",
              "      <button class=\"colab-df-convert\" onclick=\"convertToInteractive('df-886e0e3d-b45c-40e6-90d8-d8d29f639787')\"\n",
              "              title=\"Convert this dataframe to an interactive table.\"\n",
              "              style=\"display:none;\">\n",
              "        \n",
              "  <svg xmlns=\"http://www.w3.org/2000/svg\" height=\"24px\"viewBox=\"0 0 24 24\"\n",
              "       width=\"24px\">\n",
              "    <path d=\"M0 0h24v24H0V0z\" fill=\"none\"/>\n",
              "    <path d=\"M18.56 5.44l.94 2.06.94-2.06 2.06-.94-2.06-.94-.94-2.06-.94 2.06-2.06.94zm-11 1L8.5 8.5l.94-2.06 2.06-.94-2.06-.94L8.5 2.5l-.94 2.06-2.06.94zm10 10l.94 2.06.94-2.06 2.06-.94-2.06-.94-.94-2.06-.94 2.06-2.06.94z\"/><path d=\"M17.41 7.96l-1.37-1.37c-.4-.4-.92-.59-1.43-.59-.52 0-1.04.2-1.43.59L10.3 9.45l-7.72 7.72c-.78.78-.78 2.05 0 2.83L4 21.41c.39.39.9.59 1.41.59.51 0 1.02-.2 1.41-.59l7.78-7.78 2.81-2.81c.8-.78.8-2.07 0-2.86zM5.41 20L4 18.59l7.72-7.72 1.47 1.35L5.41 20z\"/>\n",
              "  </svg>\n",
              "      </button>\n",
              "      \n",
              "  <style>\n",
              "    .colab-df-container {\n",
              "      display:flex;\n",
              "      flex-wrap:wrap;\n",
              "      gap: 12px;\n",
              "    }\n",
              "\n",
              "    .colab-df-convert {\n",
              "      background-color: #E8F0FE;\n",
              "      border: none;\n",
              "      border-radius: 50%;\n",
              "      cursor: pointer;\n",
              "      display: none;\n",
              "      fill: #1967D2;\n",
              "      height: 32px;\n",
              "      padding: 0 0 0 0;\n",
              "      width: 32px;\n",
              "    }\n",
              "\n",
              "    .colab-df-convert:hover {\n",
              "      background-color: #E2EBFA;\n",
              "      box-shadow: 0px 1px 2px rgba(60, 64, 67, 0.3), 0px 1px 3px 1px rgba(60, 64, 67, 0.15);\n",
              "      fill: #174EA6;\n",
              "    }\n",
              "\n",
              "    [theme=dark] .colab-df-convert {\n",
              "      background-color: #3B4455;\n",
              "      fill: #D2E3FC;\n",
              "    }\n",
              "\n",
              "    [theme=dark] .colab-df-convert:hover {\n",
              "      background-color: #434B5C;\n",
              "      box-shadow: 0px 1px 3px 1px rgba(0, 0, 0, 0.15);\n",
              "      filter: drop-shadow(0px 1px 2px rgba(0, 0, 0, 0.3));\n",
              "      fill: #FFFFFF;\n",
              "    }\n",
              "  </style>\n",
              "\n",
              "      <script>\n",
              "        const buttonEl =\n",
              "          document.querySelector('#df-886e0e3d-b45c-40e6-90d8-d8d29f639787 button.colab-df-convert');\n",
              "        buttonEl.style.display =\n",
              "          google.colab.kernel.accessAllowed ? 'block' : 'none';\n",
              "\n",
              "        async function convertToInteractive(key) {\n",
              "          const element = document.querySelector('#df-886e0e3d-b45c-40e6-90d8-d8d29f639787');\n",
              "          const dataTable =\n",
              "            await google.colab.kernel.invokeFunction('convertToInteractive',\n",
              "                                                     [key], {});\n",
              "          if (!dataTable) return;\n",
              "\n",
              "          const docLinkHtml = 'Like what you see? Visit the ' +\n",
              "            '<a target=\"_blank\" href=https://colab.research.google.com/notebooks/data_table.ipynb>data table notebook</a>'\n",
              "            + ' to learn more about interactive tables.';\n",
              "          element.innerHTML = '';\n",
              "          dataTable['output_type'] = 'display_data';\n",
              "          await google.colab.output.renderOutput(dataTable, element);\n",
              "          const docLink = document.createElement('div');\n",
              "          docLink.innerHTML = docLinkHtml;\n",
              "          element.appendChild(docLink);\n",
              "        }\n",
              "      </script>\n",
              "    </div>\n",
              "  </div>\n",
              "  "
            ]
          },
          "metadata": {},
          "execution_count": 62
        }
      ]
    },
    {
      "cell_type": "code",
      "source": [
        "# Elementos unicos \n",
        "\n",
        "df['Released'].unique()"
      ],
      "metadata": {
        "colab": {
          "base_uri": "https://localhost:8080/"
        },
        "id": "aTxRWFLfEPmo",
        "outputId": "bfe66ec4-4b2a-4086-d650-1132b1343268"
      },
      "execution_count": null,
      "outputs": [
        {
          "output_type": "execute_result",
          "data": {
            "text/plain": [
              "array([1982, 1980, 1973, 1992, 1977, 1976])"
            ]
          },
          "metadata": {},
          "execution_count": 63
        }
      ]
    },
    {
      "cell_type": "code",
      "source": [
        "# Filtrado de elementos\n",
        "\n",
        "df[df['Released']>=1980]\n"
      ],
      "metadata": {
        "colab": {
          "base_uri": "https://localhost:8080/",
          "height": 292
        },
        "id": "bcfX_TlpHdia",
        "outputId": "a57d4df1-be08-4180-d6cb-3a96582e2834"
      },
      "execution_count": null,
      "outputs": [
        {
          "output_type": "execute_result",
          "data": {
            "text/plain": [
              "            Artist          Album  Released    Length           Genre  \\\n",
              "0  Michael Jackson       Thriller      1982  00:42:19  pop, rock, R&B   \n",
              "1            AC/DC  Back in Black      1980  00:42:11       hard rock   \n",
              "3  Whitney Houston  The Bodyguard      1992  00:57:44  R&B, soul, pop   \n",
              "\n",
              "   Music Recording Sales (millions)  Claimed Sales (millions) Released.1  \\\n",
              "0                              46.0                        65 1982-11-30   \n",
              "1                              26.1                        50 1980-07-25   \n",
              "3                              27.4                        44 1992-11-17   \n",
              "\n",
              "  Soundtrack  Rating  \n",
              "0        NaN    10.0  \n",
              "1        NaN     9.5  \n",
              "3          Y     8.5  "
            ],
            "text/html": [
              "\n",
              "  <div id=\"df-713905a4-dd78-4c82-9c18-542c7d29c1ce\">\n",
              "    <div class=\"colab-df-container\">\n",
              "      <div>\n",
              "<style scoped>\n",
              "    .dataframe tbody tr th:only-of-type {\n",
              "        vertical-align: middle;\n",
              "    }\n",
              "\n",
              "    .dataframe tbody tr th {\n",
              "        vertical-align: top;\n",
              "    }\n",
              "\n",
              "    .dataframe thead th {\n",
              "        text-align: right;\n",
              "    }\n",
              "</style>\n",
              "<table border=\"1\" class=\"dataframe\">\n",
              "  <thead>\n",
              "    <tr style=\"text-align: right;\">\n",
              "      <th></th>\n",
              "      <th>Artist</th>\n",
              "      <th>Album</th>\n",
              "      <th>Released</th>\n",
              "      <th>Length</th>\n",
              "      <th>Genre</th>\n",
              "      <th>Music Recording Sales (millions)</th>\n",
              "      <th>Claimed Sales (millions)</th>\n",
              "      <th>Released.1</th>\n",
              "      <th>Soundtrack</th>\n",
              "      <th>Rating</th>\n",
              "    </tr>\n",
              "  </thead>\n",
              "  <tbody>\n",
              "    <tr>\n",
              "      <th>0</th>\n",
              "      <td>Michael Jackson</td>\n",
              "      <td>Thriller</td>\n",
              "      <td>1982</td>\n",
              "      <td>00:42:19</td>\n",
              "      <td>pop, rock, R&amp;B</td>\n",
              "      <td>46.0</td>\n",
              "      <td>65</td>\n",
              "      <td>1982-11-30</td>\n",
              "      <td>NaN</td>\n",
              "      <td>10.0</td>\n",
              "    </tr>\n",
              "    <tr>\n",
              "      <th>1</th>\n",
              "      <td>AC/DC</td>\n",
              "      <td>Back in Black</td>\n",
              "      <td>1980</td>\n",
              "      <td>00:42:11</td>\n",
              "      <td>hard rock</td>\n",
              "      <td>26.1</td>\n",
              "      <td>50</td>\n",
              "      <td>1980-07-25</td>\n",
              "      <td>NaN</td>\n",
              "      <td>9.5</td>\n",
              "    </tr>\n",
              "    <tr>\n",
              "      <th>3</th>\n",
              "      <td>Whitney Houston</td>\n",
              "      <td>The Bodyguard</td>\n",
              "      <td>1992</td>\n",
              "      <td>00:57:44</td>\n",
              "      <td>R&amp;B, soul, pop</td>\n",
              "      <td>27.4</td>\n",
              "      <td>44</td>\n",
              "      <td>1992-11-17</td>\n",
              "      <td>Y</td>\n",
              "      <td>8.5</td>\n",
              "    </tr>\n",
              "  </tbody>\n",
              "</table>\n",
              "</div>\n",
              "      <button class=\"colab-df-convert\" onclick=\"convertToInteractive('df-713905a4-dd78-4c82-9c18-542c7d29c1ce')\"\n",
              "              title=\"Convert this dataframe to an interactive table.\"\n",
              "              style=\"display:none;\">\n",
              "        \n",
              "  <svg xmlns=\"http://www.w3.org/2000/svg\" height=\"24px\"viewBox=\"0 0 24 24\"\n",
              "       width=\"24px\">\n",
              "    <path d=\"M0 0h24v24H0V0z\" fill=\"none\"/>\n",
              "    <path d=\"M18.56 5.44l.94 2.06.94-2.06 2.06-.94-2.06-.94-.94-2.06-.94 2.06-2.06.94zm-11 1L8.5 8.5l.94-2.06 2.06-.94-2.06-.94L8.5 2.5l-.94 2.06-2.06.94zm10 10l.94 2.06.94-2.06 2.06-.94-2.06-.94-.94-2.06-.94 2.06-2.06.94z\"/><path d=\"M17.41 7.96l-1.37-1.37c-.4-.4-.92-.59-1.43-.59-.52 0-1.04.2-1.43.59L10.3 9.45l-7.72 7.72c-.78.78-.78 2.05 0 2.83L4 21.41c.39.39.9.59 1.41.59.51 0 1.02-.2 1.41-.59l7.78-7.78 2.81-2.81c.8-.78.8-2.07 0-2.86zM5.41 20L4 18.59l7.72-7.72 1.47 1.35L5.41 20z\"/>\n",
              "  </svg>\n",
              "      </button>\n",
              "      \n",
              "  <style>\n",
              "    .colab-df-container {\n",
              "      display:flex;\n",
              "      flex-wrap:wrap;\n",
              "      gap: 12px;\n",
              "    }\n",
              "\n",
              "    .colab-df-convert {\n",
              "      background-color: #E8F0FE;\n",
              "      border: none;\n",
              "      border-radius: 50%;\n",
              "      cursor: pointer;\n",
              "      display: none;\n",
              "      fill: #1967D2;\n",
              "      height: 32px;\n",
              "      padding: 0 0 0 0;\n",
              "      width: 32px;\n",
              "    }\n",
              "\n",
              "    .colab-df-convert:hover {\n",
              "      background-color: #E2EBFA;\n",
              "      box-shadow: 0px 1px 2px rgba(60, 64, 67, 0.3), 0px 1px 3px 1px rgba(60, 64, 67, 0.15);\n",
              "      fill: #174EA6;\n",
              "    }\n",
              "\n",
              "    [theme=dark] .colab-df-convert {\n",
              "      background-color: #3B4455;\n",
              "      fill: #D2E3FC;\n",
              "    }\n",
              "\n",
              "    [theme=dark] .colab-df-convert:hover {\n",
              "      background-color: #434B5C;\n",
              "      box-shadow: 0px 1px 3px 1px rgba(0, 0, 0, 0.15);\n",
              "      filter: drop-shadow(0px 1px 2px rgba(0, 0, 0, 0.3));\n",
              "      fill: #FFFFFF;\n",
              "    }\n",
              "  </style>\n",
              "\n",
              "      <script>\n",
              "        const buttonEl =\n",
              "          document.querySelector('#df-713905a4-dd78-4c82-9c18-542c7d29c1ce button.colab-df-convert');\n",
              "        buttonEl.style.display =\n",
              "          google.colab.kernel.accessAllowed ? 'block' : 'none';\n",
              "\n",
              "        async function convertToInteractive(key) {\n",
              "          const element = document.querySelector('#df-713905a4-dd78-4c82-9c18-542c7d29c1ce');\n",
              "          const dataTable =\n",
              "            await google.colab.kernel.invokeFunction('convertToInteractive',\n",
              "                                                     [key], {});\n",
              "          if (!dataTable) return;\n",
              "\n",
              "          const docLinkHtml = 'Like what you see? Visit the ' +\n",
              "            '<a target=\"_blank\" href=https://colab.research.google.com/notebooks/data_table.ipynb>data table notebook</a>'\n",
              "            + ' to learn more about interactive tables.';\n",
              "          element.innerHTML = '';\n",
              "          dataTable['output_type'] = 'display_data';\n",
              "          await google.colab.output.renderOutput(dataTable, element);\n",
              "          const docLink = document.createElement('div');\n",
              "          docLink.innerHTML = docLinkHtml;\n",
              "          element.appendChild(docLink);\n",
              "        }\n",
              "      </script>\n",
              "    </div>\n",
              "  </div>\n",
              "  "
            ]
          },
          "metadata": {},
          "execution_count": 65
        }
      ]
    },
    {
      "cell_type": "code",
      "source": [
        "df[df['Released']>=1980].to_csv('new_songs')"
      ],
      "metadata": {
        "id": "I3V3ejGFHyD_"
      },
      "execution_count": null,
      "outputs": []
    },
    {
      "cell_type": "code",
      "source": [
        "!ls -lart"
      ],
      "metadata": {
        "colab": {
          "base_uri": "https://localhost:8080/"
        },
        "id": "n7aCIQyaIIpl",
        "outputId": "60da0e8e-a1e4-4979-c3de-8d41a78168b7"
      },
      "execution_count": null,
      "outputs": [
        {
          "output_type": "stream",
          "name": "stdout",
          "text": [
            "total 32\n",
            "drwxr-xr-x 4 root root 4096 Sep 22 13:41 .config\n",
            "drwxr-xr-x 1 root root 4096 Sep 22 13:42 sample_data\n",
            "drwxr-xr-x 1 root root 4096 Sep 24 17:56 ..\n",
            "-rw-r--r-- 1 root root   45 Sep 24 18:20 Example1.txt\n",
            "-rw-r--r-- 1 root root   30 Sep 24 19:10 Example2.txt\n",
            "-rw-r--r-- 1 root root   30 Sep 24 19:11 Example3.txt\n",
            "drwxr-xr-x 1 root root 4096 Sep 24 20:11 .\n",
            "-rw-r--r-- 1 root root  364 Sep 24 20:11 new_songs\n"
          ]
        }
      ]
    },
    {
      "cell_type": "markdown",
      "source": [
        "##Numpy"
      ],
      "metadata": {
        "id": "6ElcRkbuJ7Z8"
      }
    },
    {
      "cell_type": "markdown",
      "source": [
        "###1D"
      ],
      "metadata": {
        "id": "vHjoNa13PDs5"
      }
    },
    {
      "cell_type": "code",
      "source": [
        "# Lista\n",
        "\n",
        "a = [\"0\", 1, \"two\", \"3\", 4]"
      ],
      "metadata": {
        "id": "V-9duzPyIKVz"
      },
      "execution_count": null,
      "outputs": []
    },
    {
      "cell_type": "code",
      "source": [
        "# importar libreria\n",
        "\n",
        "import numpy as np "
      ],
      "metadata": {
        "id": "4vMYrDWqKG0o"
      },
      "execution_count": null,
      "outputs": []
    },
    {
      "cell_type": "code",
      "source": [
        "# Crear arreglo numpy \n",
        "\n",
        "a = np.array([0, 1, 2, 3, 4])\n",
        "a"
      ],
      "metadata": {
        "colab": {
          "base_uri": "https://localhost:8080/"
        },
        "id": "LxaS91LLKNKV",
        "outputId": "5a4a910f-4d45-412f-e399-7608248d5d5b"
      },
      "execution_count": null,
      "outputs": [
        {
          "output_type": "execute_result",
          "data": {
            "text/plain": [
              "array([0, 1, 2, 3, 4])"
            ]
          },
          "metadata": {},
          "execution_count": 70
        }
      ]
    },
    {
      "cell_type": "code",
      "source": [
        "#Tipo de variable \n",
        "\n",
        "type(a)"
      ],
      "metadata": {
        "colab": {
          "base_uri": "https://localhost:8080/"
        },
        "id": "H7bVSUEwKV3N",
        "outputId": "923194cd-a840-41d3-edd2-89cfebba5f1b"
      },
      "execution_count": null,
      "outputs": [
        {
          "output_type": "execute_result",
          "data": {
            "text/plain": [
              "numpy.ndarray"
            ]
          },
          "metadata": {},
          "execution_count": 72
        }
      ]
    },
    {
      "cell_type": "code",
      "source": [
        "#tipo de valores dentro el arreglo\n",
        "\n",
        "a.dtype"
      ],
      "metadata": {
        "colab": {
          "base_uri": "https://localhost:8080/"
        },
        "id": "4eVfSyrEK-fU",
        "outputId": "7912f678-c26d-4b9d-98d9-c402b294d2a7"
      },
      "execution_count": null,
      "outputs": [
        {
          "output_type": "execute_result",
          "data": {
            "text/plain": [
              "dtype('int64')"
            ]
          },
          "metadata": {},
          "execution_count": 73
        }
      ]
    },
    {
      "cell_type": "code",
      "source": [
        "# Arreglo de flotantes\n",
        "\n",
        "b = np.array([3.1, 11.02, 6.2, 213.2, 5.2])\n",
        "\n",
        "type(b), b.dtype "
      ],
      "metadata": {
        "colab": {
          "base_uri": "https://localhost:8080/"
        },
        "id": "O08PC6IMLFkP",
        "outputId": "f5d7f076-f7eb-465e-9dc1-0e6b11d311a6"
      },
      "execution_count": null,
      "outputs": [
        {
          "output_type": "execute_result",
          "data": {
            "text/plain": [
              "(numpy.ndarray, dtype('float64'))"
            ]
          },
          "metadata": {},
          "execution_count": 75
        }
      ]
    },
    {
      "cell_type": "code",
      "source": [
        "# Sumar vectores\n",
        "\n",
        "z = a+b\n",
        "z"
      ],
      "metadata": {
        "colab": {
          "base_uri": "https://localhost:8080/"
        },
        "id": "4yXX5txpLSlf",
        "outputId": "b0a92569-9079-4b3f-f163-6d22ea4576b8"
      },
      "execution_count": null,
      "outputs": [
        {
          "output_type": "execute_result",
          "data": {
            "text/plain": [
              "array([  3.1 ,  12.02,   8.2 , 216.2 ,   9.2 ])"
            ]
          },
          "metadata": {},
          "execution_count": 77
        }
      ]
    },
    {
      "cell_type": "code",
      "source": [
        "# Restar vectores\n",
        "\n",
        "z = a-b\n",
        "z"
      ],
      "metadata": {
        "colab": {
          "base_uri": "https://localhost:8080/"
        },
        "id": "cgTaWuWQLwRG",
        "outputId": "849bf008-a534-4631-c359-58a7600b78df"
      },
      "execution_count": null,
      "outputs": [
        {
          "output_type": "execute_result",
          "data": {
            "text/plain": [
              "array([  -3.1 ,  -10.02,   -4.2 , -210.2 ,   -1.2 ])"
            ]
          },
          "metadata": {},
          "execution_count": 78
        }
      ]
    },
    {
      "cell_type": "code",
      "source": [
        "# Escalamiento\n",
        "\n",
        "z = a*2\n",
        "z"
      ],
      "metadata": {
        "colab": {
          "base_uri": "https://localhost:8080/"
        },
        "id": "D-b-GyvPL7Rf",
        "outputId": "f5161782-6b01-40eb-cc74-4ff95661e86a"
      },
      "execution_count": null,
      "outputs": [
        {
          "output_type": "execute_result",
          "data": {
            "text/plain": [
              "array([0, 2, 4, 6, 8])"
            ]
          },
          "metadata": {},
          "execution_count": 79
        }
      ]
    },
    {
      "cell_type": "code",
      "source": [
        "# Producto de vectores\n",
        "\n",
        "z = a*b\n",
        "z"
      ],
      "metadata": {
        "colab": {
          "base_uri": "https://localhost:8080/"
        },
        "id": "8YIq3jLlME6t",
        "outputId": "5422c69a-b187-43ee-e361-05052f8546d4"
      },
      "execution_count": null,
      "outputs": [
        {
          "output_type": "execute_result",
          "data": {
            "text/plain": [
              "array([  0.  ,  11.02,  12.4 , 639.6 ,  20.8 ])"
            ]
          },
          "metadata": {},
          "execution_count": 80
        }
      ]
    },
    {
      "cell_type": "code",
      "source": [
        "#Producto\n",
        "\n",
        "z=np.dot(a,b)\n",
        "z"
      ],
      "metadata": {
        "colab": {
          "base_uri": "https://localhost:8080/"
        },
        "id": "qI0JE33GMVif",
        "outputId": "8f32bae8-6a44-4f3d-be9c-32f4db9a3a1e"
      },
      "execution_count": null,
      "outputs": [
        {
          "output_type": "execute_result",
          "data": {
            "text/plain": [
              "683.8199999999998"
            ]
          },
          "metadata": {},
          "execution_count": 81
        }
      ]
    },
    {
      "cell_type": "code",
      "source": [
        "#Suma de constatntes\n",
        "\n",
        "z = a+2\n",
        "z"
      ],
      "metadata": {
        "colab": {
          "base_uri": "https://localhost:8080/"
        },
        "id": "ZwYAuK7BMm-m",
        "outputId": "a48977f6-8be3-4fd1-8d26-81373a99b9de"
      },
      "execution_count": null,
      "outputs": [
        {
          "output_type": "execute_result",
          "data": {
            "text/plain": [
              "array([2, 3, 4, 5, 6])"
            ]
          },
          "metadata": {},
          "execution_count": 82
        }
      ]
    },
    {
      "cell_type": "code",
      "source": [
        "# Promedio\n",
        "\n",
        "np.mean(a)"
      ],
      "metadata": {
        "colab": {
          "base_uri": "https://localhost:8080/"
        },
        "id": "BIkJPdJ7MyWJ",
        "outputId": "7b77ff9c-6876-448a-97f8-8be462b7a362"
      },
      "execution_count": null,
      "outputs": [
        {
          "output_type": "execute_result",
          "data": {
            "text/plain": [
              "2.0"
            ]
          },
          "metadata": {},
          "execution_count": 83
        }
      ]
    },
    {
      "cell_type": "code",
      "source": [
        "# Desviacion estandar\n",
        "\n",
        "a.std()"
      ],
      "metadata": {
        "colab": {
          "base_uri": "https://localhost:8080/"
        },
        "id": "JEZOP6FcM6lB",
        "outputId": "baf16a9e-131f-4a8e-82b4-37daad7badea"
      },
      "execution_count": null,
      "outputs": [
        {
          "output_type": "execute_result",
          "data": {
            "text/plain": [
              "1.4142135623730951"
            ]
          },
          "metadata": {},
          "execution_count": 84
        }
      ]
    },
    {
      "cell_type": "code",
      "source": [
        "# Maximo\n",
        "\n",
        "a.max()"
      ],
      "metadata": {
        "colab": {
          "base_uri": "https://localhost:8080/"
        },
        "id": "2shDaCGKNM7Z",
        "outputId": "fd072382-2b0e-4688-c672-cd03b0cf305a"
      },
      "execution_count": null,
      "outputs": [
        {
          "output_type": "execute_result",
          "data": {
            "text/plain": [
              "4"
            ]
          },
          "metadata": {},
          "execution_count": 85
        }
      ]
    },
    {
      "cell_type": "code",
      "source": [
        "# Minimo\n",
        "\n",
        "a.min()"
      ],
      "metadata": {
        "colab": {
          "base_uri": "https://localhost:8080/"
        },
        "id": "OIwWNtHRNZNB",
        "outputId": "2c9ebd7b-a21b-491b-dcc8-1cfe21c3405c"
      },
      "execution_count": null,
      "outputs": [
        {
          "output_type": "execute_result",
          "data": {
            "text/plain": [
              "0"
            ]
          },
          "metadata": {},
          "execution_count": 86
        }
      ]
    },
    {
      "cell_type": "code",
      "source": [
        "#Pi\n",
        "np.pi"
      ],
      "metadata": {
        "colab": {
          "base_uri": "https://localhost:8080/"
        },
        "id": "iXQc4N8lNcvy",
        "outputId": "9519fb2d-fd33-42c1-d327-e8287441fad2"
      },
      "execution_count": null,
      "outputs": [
        {
          "output_type": "execute_result",
          "data": {
            "text/plain": [
              "3.141592653589793"
            ]
          },
          "metadata": {},
          "execution_count": 87
        }
      ]
    },
    {
      "cell_type": "code",
      "source": [
        "x = np.array([0,np.pi/2,np.pi])"
      ],
      "metadata": {
        "id": "YTvtxY0lNny3"
      },
      "execution_count": null,
      "outputs": []
    },
    {
      "cell_type": "code",
      "source": [
        "y = np.sin(x)\n",
        "y"
      ],
      "metadata": {
        "colab": {
          "base_uri": "https://localhost:8080/"
        },
        "id": "fSwfFvljN9FY",
        "outputId": "7c51b4ca-cd52-44c0-9aac-5f7c7077a1f9"
      },
      "execution_count": null,
      "outputs": [
        {
          "output_type": "execute_result",
          "data": {
            "text/plain": [
              "array([0.0000000e+00, 1.0000000e+00, 1.2246468e-16])"
            ]
          },
          "metadata": {},
          "execution_count": 89
        }
      ]
    },
    {
      "cell_type": "code",
      "source": [
        "x = np.linspace(0,2*np.pi,100)\n",
        "y = np.sin(x)"
      ],
      "metadata": {
        "id": "VRw32Fd9ODxc"
      },
      "execution_count": null,
      "outputs": []
    },
    {
      "cell_type": "code",
      "source": [
        "import matplotlib.pyplot as plt\n",
        "%matplotlib inline"
      ],
      "metadata": {
        "id": "nRpgq9aqOhPF"
      },
      "execution_count": null,
      "outputs": []
    },
    {
      "cell_type": "code",
      "source": [
        "plt.plot(x,y)"
      ],
      "metadata": {
        "colab": {
          "base_uri": "https://localhost:8080/",
          "height": 283
        },
        "id": "VRptVtDpOm99",
        "outputId": "e8298746-50b9-4c5c-b022-47f43d465313"
      },
      "execution_count": null,
      "outputs": [
        {
          "output_type": "execute_result",
          "data": {
            "text/plain": [
              "[<matplotlib.lines.Line2D at 0x7f0303759250>]"
            ]
          },
          "metadata": {},
          "execution_count": 93
        },
        {
          "output_type": "display_data",
          "data": {
            "text/plain": [
              "<Figure size 432x288 with 1 Axes>"
            ],
            "image/png": "[encoded data removed]"
          },
          "metadata": {
            "needs_background": "light"
          }
        }
      ]
    },
    {
      "cell_type": "markdown",
      "source": [
        "###2D"
      ],
      "metadata": {
        "id": "GP4ymPDLPIKd"
      }
    },
    {
      "cell_type": "code",
      "source": [
        "# Lista 2D\n",
        "\n",
        "a = [[11, 12, 13], [21, 22, 23], [31, 32, 33]]\n",
        "a"
      ],
      "metadata": {
        "colab": {
          "base_uri": "https://localhost:8080/"
        },
        "id": "8loGxgMyOyiS",
        "outputId": "4933ab60-25b7-489a-add4-e2fac4fc0eeb"
      },
      "execution_count": null,
      "outputs": [
        {
          "output_type": "execute_result",
          "data": {
            "text/plain": [
              "[[11, 12, 13], [21, 22, 23], [31, 32, 33]]"
            ]
          },
          "metadata": {},
          "execution_count": 94
        }
      ]
    },
    {
      "cell_type": "code",
      "source": [
        "# Crear arreglo 2D numpy\n",
        "\n",
        "A = np.array(a)\n",
        "A"
      ],
      "metadata": {
        "colab": {
          "base_uri": "https://localhost:8080/"
        },
        "id": "DweSWFG6RE97",
        "outputId": "a24d164b-ed4d-4036-b417-bf25c7ab9c18"
      },
      "execution_count": null,
      "outputs": [
        {
          "output_type": "execute_result",
          "data": {
            "text/plain": [
              "array([[11, 12, 13],\n",
              "       [21, 22, 23],\n",
              "       [31, 32, 33]])"
            ]
          },
          "metadata": {},
          "execution_count": 95
        }
      ]
    },
    {
      "cell_type": "code",
      "source": [
        "# Dimension\n",
        "\n",
        "A.ndim"
      ],
      "metadata": {
        "colab": {
          "base_uri": "https://localhost:8080/"
        },
        "id": "RLV-dk9NRM9x",
        "outputId": "fd30da78-d006-4977-ecd5-46cfd2c5b7aa"
      },
      "execution_count": null,
      "outputs": [
        {
          "output_type": "execute_result",
          "data": {
            "text/plain": [
              "2"
            ]
          },
          "metadata": {},
          "execution_count": 97
        }
      ]
    },
    {
      "cell_type": "code",
      "source": [
        "# Forma\n",
        "\n",
        "A.shape"
      ],
      "metadata": {
        "colab": {
          "base_uri": "https://localhost:8080/"
        },
        "id": "bHMhnFjyRQEL",
        "outputId": "6cd3275c-d76d-47ab-8d29-f14220251609"
      },
      "execution_count": null,
      "outputs": [
        {
          "output_type": "execute_result",
          "data": {
            "text/plain": [
              "(3, 3)"
            ]
          },
          "metadata": {},
          "execution_count": 98
        }
      ]
    },
    {
      "cell_type": "code",
      "source": [
        "# Tamano\n",
        "\n",
        "A.size"
      ],
      "metadata": {
        "colab": {
          "base_uri": "https://localhost:8080/"
        },
        "id": "MUwIV-jBRWoM",
        "outputId": "fff7cc6b-10b0-4ea0-dcba-61aed1eb14d2"
      },
      "execution_count": null,
      "outputs": [
        {
          "output_type": "execute_result",
          "data": {
            "text/plain": [
              "9"
            ]
          },
          "metadata": {},
          "execution_count": 99
        }
      ]
    },
    {
      "cell_type": "code",
      "source": [
        "# Indices\n",
        "\n",
        "A[1, 2]"
      ],
      "metadata": {
        "colab": {
          "base_uri": "https://localhost:8080/"
        },
        "id": "M_SFLGEjRbWs",
        "outputId": "7a1dd63c-8a79-4a1e-ff43-0629efa528bc"
      },
      "execution_count": null,
      "outputs": [
        {
          "output_type": "execute_result",
          "data": {
            "text/plain": [
              "23"
            ]
          },
          "metadata": {},
          "execution_count": 100
        }
      ]
    },
    {
      "cell_type": "code",
      "source": [
        "A[1][2]"
      ],
      "metadata": {
        "colab": {
          "base_uri": "https://localhost:8080/"
        },
        "id": "Z7g8TgrdR4js",
        "outputId": "a6a99616-70ac-42eb-af2c-47389ef21025"
      },
      "execution_count": null,
      "outputs": [
        {
          "output_type": "execute_result",
          "data": {
            "text/plain": [
              "23"
            ]
          },
          "metadata": {},
          "execution_count": 101
        }
      ]
    },
    {
      "cell_type": "code",
      "source": [
        "A[0:2,2]"
      ],
      "metadata": {
        "colab": {
          "base_uri": "https://localhost:8080/"
        },
        "id": "DLjD_n_MSK08",
        "outputId": "825f5b01-240a-4bd3-aded-7e751c0ec780"
      },
      "execution_count": null,
      "outputs": [
        {
          "output_type": "execute_result",
          "data": {
            "text/plain": [
              "array([13, 23])"
            ]
          },
          "metadata": {},
          "execution_count": 102
        }
      ]
    },
    {
      "cell_type": "code",
      "source": [
        "A[0][0:2]"
      ],
      "metadata": {
        "colab": {
          "base_uri": "https://localhost:8080/"
        },
        "id": "k9OaMgClSRT0",
        "outputId": "97a8ab59-40c6-4a4f-fb3d-a7620950a603"
      },
      "execution_count": null,
      "outputs": [
        {
          "output_type": "execute_result",
          "data": {
            "text/plain": [
              "array([11, 12])"
            ]
          },
          "metadata": {},
          "execution_count": 103
        }
      ]
    },
    {
      "cell_type": "code",
      "source": [
        "# Operaciones\n",
        "\n",
        "X = np.array([[1, 0], [0, 1]]) \n",
        "X"
      ],
      "metadata": {
        "colab": {
          "base_uri": "https://localhost:8080/"
        },
        "id": "jk3LFCiSSfFd",
        "outputId": "a5719b73-2aa5-4cf0-cf22-6964038cd9e5"
      },
      "execution_count": null,
      "outputs": [
        {
          "output_type": "execute_result",
          "data": {
            "text/plain": [
              "array([[1, 0],\n",
              "       [0, 1]])"
            ]
          },
          "metadata": {},
          "execution_count": 105
        }
      ]
    },
    {
      "cell_type": "code",
      "source": [
        "Y = np.array([[2, 1], [1, 2]]) \n",
        "Y"
      ],
      "metadata": {
        "colab": {
          "base_uri": "https://localhost:8080/"
        },
        "id": "6HcsBQO-SnN9",
        "outputId": "fd9f7db7-3354-42d9-c95f-23b3fb33143b"
      },
      "execution_count": null,
      "outputs": [
        {
          "output_type": "execute_result",
          "data": {
            "text/plain": [
              "array([[2, 1],\n",
              "       [1, 2]])"
            ]
          },
          "metadata": {},
          "execution_count": 106
        }
      ]
    },
    {
      "cell_type": "code",
      "source": [
        "# Suma\n",
        "\n",
        "Z = X + Y\n",
        "Z"
      ],
      "metadata": {
        "colab": {
          "base_uri": "https://localhost:8080/"
        },
        "id": "6b41NZH4SpWn",
        "outputId": "036d5703-77be-4600-8948-5bba61b662f9"
      },
      "execution_count": null,
      "outputs": [
        {
          "output_type": "execute_result",
          "data": {
            "text/plain": [
              "array([[3, 1],\n",
              "       [1, 3]])"
            ]
          },
          "metadata": {},
          "execution_count": 107
        }
      ]
    },
    {
      "cell_type": "code",
      "source": [
        "# Multiplicacion\n",
        "\n",
        "Z = 2 * Y\n",
        "Z"
      ],
      "metadata": {
        "colab": {
          "base_uri": "https://localhost:8080/"
        },
        "id": "wQP5vmuFStrJ",
        "outputId": "3a400188-c010-44b2-f6ac-37180cfa5f69"
      },
      "execution_count": null,
      "outputs": [
        {
          "output_type": "execute_result",
          "data": {
            "text/plain": [
              "array([[4, 2],\n",
              "       [2, 4]])"
            ]
          },
          "metadata": {},
          "execution_count": 108
        }
      ]
    },
    {
      "cell_type": "code",
      "source": [
        "# Multiplicacion entre arreglos\n",
        "\n",
        "Z = X * Y\n",
        "Z"
      ],
      "metadata": {
        "colab": {
          "base_uri": "https://localhost:8080/"
        },
        "id": "M2pjxxgTS1AB",
        "outputId": "0a8bde28-7749-4a01-ebb2-8cbf0a04a88c"
      },
      "execution_count": null,
      "outputs": [
        {
          "output_type": "execute_result",
          "data": {
            "text/plain": [
              "array([[2, 0],\n",
              "       [0, 2]])"
            ]
          },
          "metadata": {},
          "execution_count": 109
        }
      ]
    },
    {
      "cell_type": "code",
      "source": [
        "# Producto\n",
        "\n",
        "A = np.array([[0, 1, 1], [1, 0, 1]])\n",
        "B = np.array([[1, 1], [1, 1], [-1, 1]])\n",
        "\n",
        "Z = np.dot(A,B)\n",
        "Z"
      ],
      "metadata": {
        "colab": {
          "base_uri": "https://localhost:8080/"
        },
        "id": "cn0_d0GlTIIs",
        "outputId": "2808d769-1053-419a-8dad-e5b655459640"
      },
      "execution_count": null,
      "outputs": [
        {
          "output_type": "execute_result",
          "data": {
            "text/plain": [
              "array([[0, 2],\n",
              "       [0, 2]])"
            ]
          },
          "metadata": {},
          "execution_count": 110
        }
      ]
    },
    {
      "cell_type": "code",
      "source": [],
      "metadata": {
        "id": "rU1OxLN3Twc9"
      },
      "execution_count": null,
      "outputs": []
    },
    {
      "cell_type": "markdown",
      "source": [
        "#Glosario\n",
        "\n",
        "Term| Definition\n",
        "---|---\n",
        "Data |Frame A data structure comprising rows and columns much like a spreadsheet. A data frame can be created from a dictionary. The keys correspond to column labels. The values or lists correspond to the rows. A data frame is one of the most popular data structures used in data analytics.\n",
        "Hadamard Product | The product of two arrays. Multiplication of two arrays corresponds to an element-wise product. The number of columns of the first array must equal the number of rows in the second in order to multiply them.\n",
        "ndim |An attribute that obtains the number of dimensions of a NumPy array. It can be thought of as the number of nested lists in the array.\n",
        "NumPy |A Python library for scientific computing.\n",
        "NumPy |Array An array that is similar to a list and usually fixed in size. Each element is of the same type.\n",
        "Pandas| A popular Python library for data analysis."
      ],
      "metadata": {
        "id": "_PEEwzsmUJlH"
      }
    },
    {
      "cell_type": "markdown",
      "source": [
        "#Clases y los objetos\n",
        ">Object Oriented Programming"
      ],
      "metadata": {
        "id": "9dyXhEb0Xn8v"
      }
    },
    {
      "cell_type": "code",
      "source": [
        "class Dog:\n",
        "  def add_one(self,x):\n",
        "    return x+1\n",
        "\n",
        "    \n",
        "  def bark(self):\n",
        "    print('bark')\n",
        "\n",
        "\n",
        "d = Dog()\n",
        "d.bark()"
      ],
      "metadata": {
        "colab": {
          "base_uri": "https://localhost:8080/"
        },
        "id": "gv0uDfL4X0sQ",
        "outputId": "5f8d365f-d91b-44c4-d063-7d7fe8efc154"
      },
      "execution_count": null,
      "outputs": [
        {
          "output_type": "stream",
          "name": "stdout",
          "text": [
            "bark\n"
          ]
        }
      ]
    },
    {
      "cell_type": "code",
      "source": [
        "type(d)"
      ],
      "metadata": {
        "colab": {
          "base_uri": "https://localhost:8080/"
        },
        "id": "hsyb4PzoYFQE",
        "outputId": "d47944f3-df47-4937-ec87-7d7e7f97c6e4"
      },
      "execution_count": null,
      "outputs": [
        {
          "output_type": "execute_result",
          "data": {
            "text/plain": [
              "__main__.Dog"
            ]
          },
          "metadata": {},
          "execution_count": 114
        }
      ]
    },
    {
      "cell_type": "code",
      "source": [
        "d.add_one(5)"
      ],
      "metadata": {
        "colab": {
          "base_uri": "https://localhost:8080/"
        },
        "id": "UfhFi0DjYQsS",
        "outputId": "02d61209-3c40-4aa0-c6c9-58aec5899c97"
      },
      "execution_count": null,
      "outputs": [
        {
          "output_type": "execute_result",
          "data": {
            "text/plain": [
              "6"
            ]
          },
          "metadata": {},
          "execution_count": 116
        }
      ]
    },
    {
      "cell_type": "code",
      "source": [
        "class Dog:\n",
        "\n",
        "  def __init__(self,name,age):\n",
        "    self.name = name\n",
        "    self.age = age\n",
        "    print(name)\n",
        "\n",
        "  def get_name(self):\n",
        "    return self.name\n",
        "\n",
        "  def get_age(self):\n",
        "    return self.age\n",
        "\n",
        "  def set_age(self, age):\n",
        "    self.age = age\n",
        "\n",
        "  def add_one(self,x):\n",
        "    return x+1\n",
        "\n",
        "    \n",
        "  def bark(self):\n",
        "    print('bark')\n"
      ],
      "metadata": {
        "id": "WQyJqK2tYuqD"
      },
      "execution_count": null,
      "outputs": []
    },
    {
      "cell_type": "code",
      "source": [
        "d = Dog('Tim',10)"
      ],
      "metadata": {
        "colab": {
          "base_uri": "https://localhost:8080/"
        },
        "id": "T-E_sDyVZYfw",
        "outputId": "e83f75c2-44f3-48f8-d361-1d731c095cd6"
      },
      "execution_count": null,
      "outputs": [
        {
          "output_type": "stream",
          "name": "stdout",
          "text": [
            "Tim\n"
          ]
        }
      ]
    },
    {
      "cell_type": "code",
      "source": [
        "d.get_name()"
      ],
      "metadata": {
        "colab": {
          "base_uri": "https://localhost:8080/",
          "height": 35
        },
        "id": "CxsJe4DTZa1v",
        "outputId": "81855a03-4980-40a3-b186-98b4fce3e39e"
      },
      "execution_count": null,
      "outputs": [
        {
          "output_type": "execute_result",
          "data": {
            "text/plain": [
              "'Tim'"
            ],
            "application/vnd.google.colaboratory.intrinsic+json": {
              "type": "string"
            }
          },
          "metadata": {},
          "execution_count": 130
        }
      ]
    },
    {
      "cell_type": "code",
      "source": [
        "d.get_age()"
      ],
      "metadata": {
        "colab": {
          "base_uri": "https://localhost:8080/"
        },
        "id": "_usKACqvZcwJ",
        "outputId": "9f2dc168-85d1-458f-b971-f2e2cec35723"
      },
      "execution_count": null,
      "outputs": [
        {
          "output_type": "execute_result",
          "data": {
            "text/plain": [
              "10"
            ]
          },
          "metadata": {},
          "execution_count": 131
        }
      ]
    },
    {
      "cell_type": "code",
      "source": [
        "d.set_age(12)\n",
        "d.get_age()"
      ],
      "metadata": {
        "colab": {
          "base_uri": "https://localhost:8080/"
        },
        "id": "A0MJjNFQaJzY",
        "outputId": "16847818-7a2a-4c4b-fd06-ac080b86fdb1"
      },
      "execution_count": null,
      "outputs": [
        {
          "output_type": "execute_result",
          "data": {
            "text/plain": [
              "12"
            ]
          },
          "metadata": {},
          "execution_count": 133
        }
      ]
    },
    {
      "cell_type": "markdown",
      "source": [
        "#Modulo completado"
      ],
      "metadata": {
        "id": "SMLEXc6ttagw"
      }
    },
    {
      "cell_type": "markdown",
      "source": [
        "![image.png](data:image/png;base64,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)"
      ],
      "metadata": {
        "id": "cTyBqxSZtd3f"
      }
    },
    {
      "cell_type": "code",
      "source": [],
      "metadata": {
        "id": "jXbjxAWyteqw"
      },
      "execution_count": null,
      "outputs": []
    }
  ]
}