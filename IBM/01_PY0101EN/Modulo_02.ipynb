{
  "nbformat": 4,
  "nbformat_minor": 0,
  "metadata": {
    "colab": {
      "provenance": [],
      "collapsed_sections": [
        "LFdbfAz6AJnB",
        "9ty8z6E0AzK8",
        "IYPLZ1AwBcst",
        "zuyjyWHeBkbU",
        "3ntbYqb1BpdJ",
        "izvnwkyYBx1O",
        "-Cz6HOLRB6bT",
        "6kAEjzXwCrAG",
        "7RAdFrzY-57k",
        "RWN5-9Qk_8tf",
        "UqZ7H7uVEHUJ",
        "ZRiSkrSvFmyY",
        "xKhgHZ-eHF4J",
        "zBxDQ68IMkxf"
      ],
      "authorship_tag": "ABX9TyMdeIwfy8LrffwnYm4/bBUI",
      "include_colab_link": true
    },
    "kernelspec": {
      "name": "python3",
      "display_name": "Python 3"
    },
    "language_info": {
      "name": "python"
    }
  },
  "cells": [
    {
      "cell_type": "markdown",
      "metadata": {
        "id": "view-in-github",
        "colab_type": "text"
      },
      "source": [
        "<a href=\"https://colab.research.google.com/github/PosgradoMNA/actividades-de-aprendizaje-fco-parga/blob/main/IBM/01_PY0101EN/Modulo_02.ipynb\" target=\"_parent\"><img src=\"https://colab.research.google.com/assets/colab-badge.svg\" alt=\"Open In Colab\"/></a>"
      ]
    },
    {
      "cell_type": "markdown",
      "source": [
        "#Francisco Javier Parga García \n",
        "> Matricula A01794380"
      ],
      "metadata": {
        "id": "rRZGD8J3OeZB"
      }
    },
    {
      "cell_type": "markdown",
      "source": [
        "# Lists"
      ],
      "metadata": {
        "id": "fLlTXqW9A32f"
      }
    },
    {
      "cell_type": "code",
      "execution_count": null,
      "metadata": {
        "id": "_YGCadQtxzBU",
        "colab": {
          "base_uri": "https://localhost:8080/"
        },
        "outputId": "bf884f2e-1639-4637-8931-fa04f8bf28bf"
      },
      "outputs": [
        {
          "output_type": "execute_result",
          "data": {
            "text/plain": [
              "['Michael Jackson', 10.1, 1982]"
            ]
          },
          "metadata": {},
          "execution_count": 1
        }
      ],
      "source": [
        "L = [\"Michael Jackson\", 10.1, 1982]\n",
        "L"
      ]
    },
    {
      "cell_type": "code",
      "source": [
        "print('the same element using negative and positive indexing:\\n Postive:',L[0],\n",
        "'\\n Negative:' , L[-3]  )\n",
        "print('the same element using negative and positive indexing:\\n Postive:',L[1],\n",
        "'\\n Negative:' , L[-2]  )\n",
        "print('the same element using negative and positive indexing:\\n Postive:',L[2],\n",
        "'\\n Negative:' , L[-1]  )"
      ],
      "metadata": {
        "colab": {
          "base_uri": "https://localhost:8080/"
        },
        "id": "9WxWWFn7MHTH",
        "outputId": "042c6e4d-d5c1-433c-a023-28bdc7af6c75"
      },
      "execution_count": null,
      "outputs": [
        {
          "output_type": "stream",
          "name": "stdout",
          "text": [
            "the same element using negative and positive indexing:\n",
            " Postive: Michael Jackson \n",
            " Negative: Michael Jackson\n",
            "the same element using negative and positive indexing:\n",
            " Postive: 10.1 \n",
            " Negative: 10.1\n",
            "the same element using negative and positive indexing:\n",
            " Postive: 1982 \n",
            " Negative: 1982\n"
          ]
        }
      ]
    },
    {
      "cell_type": "code",
      "source": [
        "L = [\"Michael Jackson\", 10.1,1982,\"MJ\",1]\n",
        "L"
      ],
      "metadata": {
        "colab": {
          "base_uri": "https://localhost:8080/"
        },
        "id": "_X1XJWqcMLz-",
        "outputId": "73bfc709-331b-4a10-ca66-f5763be58cc8"
      },
      "execution_count": null,
      "outputs": [
        {
          "output_type": "execute_result",
          "data": {
            "text/plain": [
              "['Michael Jackson', 10.1, 1982, 'MJ', 1]"
            ]
          },
          "metadata": {},
          "execution_count": 3
        }
      ]
    },
    {
      "cell_type": "code",
      "source": [
        "L[3:5]"
      ],
      "metadata": {
        "colab": {
          "base_uri": "https://localhost:8080/"
        },
        "id": "xFa2Hk2RMaVb",
        "outputId": "0fe892ed-244b-494a-85c1-e8159d61bd8c"
      },
      "execution_count": null,
      "outputs": [
        {
          "output_type": "execute_result",
          "data": {
            "text/plain": [
              "['MJ', 1]"
            ]
          },
          "metadata": {},
          "execution_count": 4
        }
      ]
    },
    {
      "cell_type": "code",
      "source": [
        "L = [ \"Michael Jackson\", 10.2]\n",
        "L.extend(['pop', 10])\n",
        "L"
      ],
      "metadata": {
        "colab": {
          "base_uri": "https://localhost:8080/"
        },
        "id": "yC_GS9-tMdC_",
        "outputId": "0d5e2f5a-007e-4b9b-accd-10b30b4c92c5"
      },
      "execution_count": null,
      "outputs": [
        {
          "output_type": "execute_result",
          "data": {
            "text/plain": [
              "['Michael Jackson', 10.2, 'pop', 10]"
            ]
          },
          "metadata": {},
          "execution_count": 5
        }
      ]
    },
    {
      "cell_type": "code",
      "source": [
        "L = [ \"Michael Jackson\", 10.2]\n",
        "L.append(['pop', 10])\n",
        "L"
      ],
      "metadata": {
        "colab": {
          "base_uri": "https://localhost:8080/"
        },
        "id": "rld-bl45Me-O",
        "outputId": "0dd82ff8-149a-4076-e061-5a61a6304122"
      },
      "execution_count": null,
      "outputs": [
        {
          "output_type": "execute_result",
          "data": {
            "text/plain": [
              "['Michael Jackson', 10.2, ['pop', 10]]"
            ]
          },
          "metadata": {},
          "execution_count": 6
        }
      ]
    },
    {
      "cell_type": "code",
      "source": [
        "L = [ \"Michael Jackson\", 10.2]\n",
        "L.extend(['pop', 10])\n",
        "L"
      ],
      "metadata": {
        "colab": {
          "base_uri": "https://localhost:8080/"
        },
        "id": "rM2hoF7AMheI",
        "outputId": "bebef6e8-4150-4761-9a37-57851089e0ba"
      },
      "execution_count": null,
      "outputs": [
        {
          "output_type": "execute_result",
          "data": {
            "text/plain": [
              "['Michael Jackson', 10.2, 'pop', 10]"
            ]
          },
          "metadata": {},
          "execution_count": 7
        }
      ]
    },
    {
      "cell_type": "code",
      "source": [
        "L.append(['a','b'])\n",
        "L"
      ],
      "metadata": {
        "colab": {
          "base_uri": "https://localhost:8080/"
        },
        "id": "vjzLibWcMjaE",
        "outputId": "109bdb9a-0b1c-4ae8-a9e1-43ad5c1c2803"
      },
      "execution_count": null,
      "outputs": [
        {
          "output_type": "execute_result",
          "data": {
            "text/plain": [
              "['Michael Jackson', 10.2, 'pop', 10, ['a', 'b']]"
            ]
          },
          "metadata": {},
          "execution_count": 8
        }
      ]
    },
    {
      "cell_type": "code",
      "source": [
        "A = [\"disco\", 10, 1.2]\n",
        "print('Before change:', A)\n",
        "A[0] = 'hard rock'\n",
        "print('After change:', A)"
      ],
      "metadata": {
        "colab": {
          "base_uri": "https://localhost:8080/"
        },
        "id": "kIpr6IPFMon6",
        "outputId": "ccbb9d70-73d9-4eb9-c593-52c31168ec7e"
      },
      "execution_count": null,
      "outputs": [
        {
          "output_type": "stream",
          "name": "stdout",
          "text": [
            "Before change: ['disco', 10, 1.2]\n",
            "After change: ['hard rock', 10, 1.2]\n"
          ]
        }
      ]
    },
    {
      "cell_type": "code",
      "source": [
        "print('Before change:', A)\n",
        "del(A[0])\n",
        "print('After change:', A)"
      ],
      "metadata": {
        "colab": {
          "base_uri": "https://localhost:8080/"
        },
        "id": "MytOyYZoMq-I",
        "outputId": "8cdadceb-cd0f-4ae7-9ab9-ae7e674de3b8"
      },
      "execution_count": null,
      "outputs": [
        {
          "output_type": "stream",
          "name": "stdout",
          "text": [
            "Before change: ['hard rock', 10, 1.2]\n",
            "After change: [10, 1.2]\n"
          ]
        }
      ]
    },
    {
      "cell_type": "code",
      "source": [
        "'hard rock'.split()"
      ],
      "metadata": {
        "colab": {
          "base_uri": "https://localhost:8080/"
        },
        "id": "xzTsyyuAMt7j",
        "outputId": "44d382dd-0e28-4589-e75f-c02fddc10b07"
      },
      "execution_count": null,
      "outputs": [
        {
          "output_type": "execute_result",
          "data": {
            "text/plain": [
              "['hard', 'rock']"
            ]
          },
          "metadata": {},
          "execution_count": 11
        }
      ]
    },
    {
      "cell_type": "code",
      "source": [
        "'A,B,C,D'.split(',')"
      ],
      "metadata": {
        "colab": {
          "base_uri": "https://localhost:8080/"
        },
        "id": "fv_mhEnDMwtT",
        "outputId": "2ab04565-cd9f-4d6b-b1d1-b8bf511449b8"
      },
      "execution_count": null,
      "outputs": [
        {
          "output_type": "execute_result",
          "data": {
            "text/plain": [
              "['A', 'B', 'C', 'D']"
            ]
          },
          "metadata": {},
          "execution_count": 12
        }
      ]
    },
    {
      "cell_type": "code",
      "source": [
        "A = [\"hard rock\", 10, 1.2]\n",
        "B = A\n",
        "print('A:', A)\n",
        "print('B:', B)"
      ],
      "metadata": {
        "colab": {
          "base_uri": "https://localhost:8080/"
        },
        "id": "LIwoyg8sMyPl",
        "outputId": "2ba7e82e-ff1e-4822-aa7d-22cb2538641c"
      },
      "execution_count": null,
      "outputs": [
        {
          "output_type": "stream",
          "name": "stdout",
          "text": [
            "A: ['hard rock', 10, 1.2]\n",
            "B: ['hard rock', 10, 1.2]\n"
          ]
        }
      ]
    },
    {
      "cell_type": "code",
      "source": [
        "print('B[0]:', B[0])\n",
        "A[0] = \"banana\"\n",
        "print('B[0]:', B[0])"
      ],
      "metadata": {
        "colab": {
          "base_uri": "https://localhost:8080/"
        },
        "id": "xsXnLkSDM05R",
        "outputId": "a36c2b9c-805c-4dbc-f069-d20171f026ad"
      },
      "execution_count": null,
      "outputs": [
        {
          "output_type": "stream",
          "name": "stdout",
          "text": [
            "B[0]: hard rock\n",
            "B[0]: banana\n"
          ]
        }
      ]
    },
    {
      "cell_type": "code",
      "source": [
        "B = A[:]\n",
        "B"
      ],
      "metadata": {
        "colab": {
          "base_uri": "https://localhost:8080/"
        },
        "id": "Lwrfib7TM5JQ",
        "outputId": "1af01487-1af0-4af8-b5df-e05e14ac3248"
      },
      "execution_count": null,
      "outputs": [
        {
          "output_type": "execute_result",
          "data": {
            "text/plain": [
              "['banana', 10, 1.2]"
            ]
          },
          "metadata": {},
          "execution_count": 15
        }
      ]
    },
    {
      "cell_type": "code",
      "source": [
        "print('B[0]:', B[0])\n",
        "A[0] = \"hard rock\"\n",
        "print('B[0]:', B[0])"
      ],
      "metadata": {
        "colab": {
          "base_uri": "https://localhost:8080/"
        },
        "id": "mZQKHtM9NDPI",
        "outputId": "ab1761e0-6df6-4d94-9ddb-0bd140136981"
      },
      "execution_count": null,
      "outputs": [
        {
          "output_type": "stream",
          "name": "stdout",
          "text": [
            "B[0]: banana\n",
            "B[0]: banana\n"
          ]
        }
      ]
    },
    {
      "cell_type": "markdown",
      "source": [
        "## Quiz on List\n",
        "\n",
        "Create a list a_list, with the following elements 1, hello, [1,2,3] and True."
      ],
      "metadata": {
        "id": "LFdbfAz6AJnB"
      }
    },
    {
      "cell_type": "code",
      "source": [
        "a_list = [1, 'hello', [1, 2, 3] , True]\n",
        "a_list"
      ],
      "metadata": {
        "id": "7IlnwmgrNHSe",
        "colab": {
          "base_uri": "https://localhost:8080/"
        },
        "outputId": "befd8c1d-2d3e-4d2a-bcbb-0f591f1fb1fc"
      },
      "execution_count": null,
      "outputs": [
        {
          "output_type": "execute_result",
          "data": {
            "text/plain": [
              "[1, 'hello', [1, 2, 3], True]"
            ]
          },
          "metadata": {},
          "execution_count": 1
        }
      ]
    },
    {
      "cell_type": "code",
      "source": [
        "#Find the value stored at index 1 of a_list.\n",
        "a_list[1]"
      ],
      "metadata": {
        "colab": {
          "base_uri": "https://localhost:8080/",
          "height": 35
        },
        "id": "vY-EuenJANoX",
        "outputId": "0caf0f65-7074-4c6d-8e27-cbbc36b60b64"
      },
      "execution_count": null,
      "outputs": [
        {
          "output_type": "execute_result",
          "data": {
            "text/plain": [
              "'hello'"
            ],
            "application/vnd.google.colaboratory.intrinsic+json": {
              "type": "string"
            }
          },
          "metadata": {},
          "execution_count": 2
        }
      ]
    },
    {
      "cell_type": "code",
      "source": [
        "#Retrieve the elements stored at index 1, 2 and 3 of a_list.\n",
        "a_list[1:4]"
      ],
      "metadata": {
        "colab": {
          "base_uri": "https://localhost:8080/"
        },
        "id": "XkeKsGHTAQwB",
        "outputId": "13f36929-36ce-4293-83aa-25607dc8919e"
      },
      "execution_count": null,
      "outputs": [
        {
          "output_type": "execute_result",
          "data": {
            "text/plain": [
              "['hello', [1, 2, 3], True]"
            ]
          },
          "metadata": {},
          "execution_count": 4
        }
      ]
    },
    {
      "cell_type": "code",
      "source": [
        "#Concatenate the following lists A = [1, 'a'] and B = [2, 1, 'd']:\n",
        "A = [1, 'a'] \n",
        "B = [2, 1, 'd']\n",
        "A + B"
      ],
      "metadata": {
        "colab": {
          "base_uri": "https://localhost:8080/"
        },
        "id": "78zagiUWAhwX",
        "outputId": "f1d9df36-3ce9-4d37-d9bb-b29e6f4e935d"
      },
      "execution_count": null,
      "outputs": [
        {
          "output_type": "execute_result",
          "data": {
            "text/plain": [
              "[1, 'a', 2, 1, 'd']"
            ]
          },
          "metadata": {},
          "execution_count": 5
        }
      ]
    },
    {
      "cell_type": "markdown",
      "source": [
        "# Tuples"
      ],
      "metadata": {
        "id": "9ty8z6E0AzK8"
      }
    },
    {
      "cell_type": "code",
      "source": [
        "tuple1 = (\"disco\",10,1.2 )\n",
        "tuple1"
      ],
      "metadata": {
        "colab": {
          "base_uri": "https://localhost:8080/"
        },
        "id": "08mgPi0aAoDt",
        "outputId": "92705de7-3d6d-460f-8aab-7a109d2fe19f"
      },
      "execution_count": null,
      "outputs": [
        {
          "output_type": "execute_result",
          "data": {
            "text/plain": [
              "('disco', 10, 1.2)"
            ]
          },
          "metadata": {},
          "execution_count": 6
        }
      ]
    },
    {
      "cell_type": "code",
      "source": [
        "type(tuple1)"
      ],
      "metadata": {
        "colab": {
          "base_uri": "https://localhost:8080/"
        },
        "id": "9goTGwMMA9u5",
        "outputId": "04dfc7a6-933a-4735-90e9-c145fd31d302"
      },
      "execution_count": null,
      "outputs": [
        {
          "output_type": "execute_result",
          "data": {
            "text/plain": [
              "tuple"
            ]
          },
          "metadata": {},
          "execution_count": 7
        }
      ]
    },
    {
      "cell_type": "markdown",
      "source": [
        "##Indexing"
      ],
      "metadata": {
        "id": "IYPLZ1AwBcst"
      }
    },
    {
      "cell_type": "code",
      "source": [
        "print(tuple1[0])\n",
        "print(tuple1[1])\n",
        "print(tuple1[2])"
      ],
      "metadata": {
        "colab": {
          "base_uri": "https://localhost:8080/"
        },
        "id": "tRH_YXeHBAIu",
        "outputId": "c583c8c4-d91d-4160-c7be-68c4bf8a435f"
      },
      "execution_count": null,
      "outputs": [
        {
          "output_type": "stream",
          "name": "stdout",
          "text": [
            "disco\n",
            "10\n",
            "1.2\n"
          ]
        }
      ]
    },
    {
      "cell_type": "code",
      "source": [
        "print(type(tuple1[0]))\n",
        "print(type(tuple1[1]))\n",
        "print(type(tuple1[2]))"
      ],
      "metadata": {
        "colab": {
          "base_uri": "https://localhost:8080/"
        },
        "id": "gcXqnlBkBGvl",
        "outputId": "c4cf9c25-90cf-4e64-851b-4eafdbd104c1"
      },
      "execution_count": null,
      "outputs": [
        {
          "output_type": "stream",
          "name": "stdout",
          "text": [
            "<class 'str'>\n",
            "<class 'int'>\n",
            "<class 'float'>\n"
          ]
        }
      ]
    },
    {
      "cell_type": "code",
      "source": [
        "tuple1[-1]"
      ],
      "metadata": {
        "colab": {
          "base_uri": "https://localhost:8080/"
        },
        "id": "bwQA6uyFBJ7N",
        "outputId": "00a10759-2c85-4ed7-e713-59e8d1bad3a5"
      },
      "execution_count": null,
      "outputs": [
        {
          "output_type": "execute_result",
          "data": {
            "text/plain": [
              "1.2"
            ]
          },
          "metadata": {},
          "execution_count": 10
        }
      ]
    },
    {
      "cell_type": "markdown",
      "source": [
        "##Concatenate Tuples"
      ],
      "metadata": {
        "id": "zuyjyWHeBkbU"
      }
    },
    {
      "cell_type": "code",
      "source": [
        "tuple2 = tuple1 + (\"hard rock\", 10)\n",
        "tuple2"
      ],
      "metadata": {
        "colab": {
          "base_uri": "https://localhost:8080/"
        },
        "id": "TdKnvD2oBMlm",
        "outputId": "8a8eef8a-97bb-48b2-998d-0b06737470dc"
      },
      "execution_count": null,
      "outputs": [
        {
          "output_type": "execute_result",
          "data": {
            "text/plain": [
              "('disco', 10, 1.2, 'hard rock', 10)"
            ]
          },
          "metadata": {},
          "execution_count": 11
        }
      ]
    },
    {
      "cell_type": "markdown",
      "source": [
        "##Slicing"
      ],
      "metadata": {
        "id": "3ntbYqb1BpdJ"
      }
    },
    {
      "cell_type": "code",
      "source": [
        "tuple2[0:3]"
      ],
      "metadata": {
        "colab": {
          "base_uri": "https://localhost:8080/"
        },
        "id": "3fvCvyHfBQeP",
        "outputId": "b8a807f5-b1ca-453a-9052-8360e7545f79"
      },
      "execution_count": null,
      "outputs": [
        {
          "output_type": "execute_result",
          "data": {
            "text/plain": [
              "('disco', 10, 1.2)"
            ]
          },
          "metadata": {},
          "execution_count": 12
        }
      ]
    },
    {
      "cell_type": "code",
      "source": [
        "tuple2[3:5]"
      ],
      "metadata": {
        "colab": {
          "base_uri": "https://localhost:8080/"
        },
        "id": "8GB2eYFBBsDN",
        "outputId": "b77f563a-ee49-463d-bbd2-511b63b81941"
      },
      "execution_count": null,
      "outputs": [
        {
          "output_type": "execute_result",
          "data": {
            "text/plain": [
              "('hard rock', 10)"
            ]
          },
          "metadata": {},
          "execution_count": 13
        }
      ]
    },
    {
      "cell_type": "code",
      "source": [
        "len(tuple2)"
      ],
      "metadata": {
        "colab": {
          "base_uri": "https://localhost:8080/"
        },
        "id": "d9TwoERkBt8n",
        "outputId": "3a35aea1-56be-4df7-a14d-609dbb8e9902"
      },
      "execution_count": null,
      "outputs": [
        {
          "output_type": "execute_result",
          "data": {
            "text/plain": [
              "5"
            ]
          },
          "metadata": {},
          "execution_count": 14
        }
      ]
    },
    {
      "cell_type": "markdown",
      "source": [
        "##Sorting"
      ],
      "metadata": {
        "id": "izvnwkyYBx1O"
      }
    },
    {
      "cell_type": "code",
      "source": [
        "Ratings = (0, 9, 6, 5, 10, 8, 9, 6, 2)"
      ],
      "metadata": {
        "id": "31UKfUnNBv5g"
      },
      "execution_count": null,
      "outputs": []
    },
    {
      "cell_type": "code",
      "source": [
        "RatingsSorted = sorted(Ratings)\n",
        "RatingsSorted"
      ],
      "metadata": {
        "colab": {
          "base_uri": "https://localhost:8080/"
        },
        "id": "7_gFqFrnB2OZ",
        "outputId": "f1129f09-cb20-4811-be85-de70537f539a"
      },
      "execution_count": null,
      "outputs": [
        {
          "output_type": "execute_result",
          "data": {
            "text/plain": [
              "[0, 2, 5, 6, 6, 8, 9, 9, 10]"
            ]
          },
          "metadata": {},
          "execution_count": 16
        }
      ]
    },
    {
      "cell_type": "markdown",
      "source": [
        "##Nested Tuple"
      ],
      "metadata": {
        "id": "-Cz6HOLRB6bT"
      }
    },
    {
      "cell_type": "code",
      "source": [
        "NestedT =(1, 2, (\"pop\", \"rock\") ,(3,4),(\"disco\",(1,2)))"
      ],
      "metadata": {
        "id": "PpN-eQg5B3-m"
      },
      "execution_count": null,
      "outputs": []
    },
    {
      "cell_type": "code",
      "source": [
        "print(\"Element 0 of Tuple: \", NestedT[0])\n",
        "print(\"Element 1 of Tuple: \", NestedT[1])\n",
        "print(\"Element 2 of Tuple: \", NestedT[2])\n",
        "print(\"Element 3 of Tuple: \", NestedT[3])\n",
        "print(\"Element 4 of Tuple: \", NestedT[4])"
      ],
      "metadata": {
        "colab": {
          "base_uri": "https://localhost:8080/"
        },
        "id": "b5rzhaNAB8ve",
        "outputId": "5da805cc-2a32-4d34-afa8-f26c30a408c6"
      },
      "execution_count": null,
      "outputs": [
        {
          "output_type": "stream",
          "name": "stdout",
          "text": [
            "Element 0 of Tuple:  1\n",
            "Element 1 of Tuple:  2\n",
            "Element 2 of Tuple:  ('pop', 'rock')\n",
            "Element 3 of Tuple:  (3, 4)\n",
            "Element 4 of Tuple:  ('disco', (1, 2))\n"
          ]
        }
      ]
    },
    {
      "cell_type": "code",
      "source": [
        "print(\"Element 2, 0 of Tuple: \",   NestedT[2][0])\n",
        "print(\"Element 2, 1 of Tuple: \",   NestedT[2][1])\n",
        "print(\"Element 3, 0 of Tuple: \",   NestedT[3][0])\n",
        "print(\"Element 3, 1 of Tuple: \",   NestedT[3][1])\n",
        "print(\"Element 4, 0 of Tuple: \",   NestedT[4][0])\n",
        "print(\"Element 4, 1 of Tuple: \",   NestedT[4][1])"
      ],
      "metadata": {
        "colab": {
          "base_uri": "https://localhost:8080/"
        },
        "id": "EVfTDh4rB_1D",
        "outputId": "6ef9a675-dd53-4ce5-e3bf-99d019425d7d"
      },
      "execution_count": null,
      "outputs": [
        {
          "output_type": "stream",
          "name": "stdout",
          "text": [
            "Element 2, 0 of Tuple:  pop\n",
            "Element 2, 1 of Tuple:  rock\n",
            "Element 3, 0 of Tuple:  3\n",
            "Element 3, 1 of Tuple:  4\n",
            "Element 4, 0 of Tuple:  disco\n",
            "Element 4, 1 of Tuple:  (1, 2)\n"
          ]
        }
      ]
    },
    {
      "cell_type": "code",
      "source": [
        "NestedT[2][1][0]"
      ],
      "metadata": {
        "colab": {
          "base_uri": "https://localhost:8080/",
          "height": 35
        },
        "id": "NxqKssE6CD4B",
        "outputId": "cc189887-25a8-46fb-cd23-355654e5187b"
      },
      "execution_count": null,
      "outputs": [
        {
          "output_type": "execute_result",
          "data": {
            "text/plain": [
              "'r'"
            ],
            "application/vnd.google.colaboratory.intrinsic+json": {
              "type": "string"
            }
          },
          "metadata": {},
          "execution_count": 20
        }
      ]
    },
    {
      "cell_type": "code",
      "source": [
        "NestedT[4][1][1]"
      ],
      "metadata": {
        "colab": {
          "base_uri": "https://localhost:8080/"
        },
        "id": "VQw_uIfUCGVG",
        "outputId": "c5b6459a-071a-4b30-d138-12121407eb29"
      },
      "execution_count": null,
      "outputs": [
        {
          "output_type": "execute_result",
          "data": {
            "text/plain": [
              "2"
            ]
          },
          "metadata": {},
          "execution_count": 21
        }
      ]
    },
    {
      "cell_type": "markdown",
      "source": [
        "##Quiz on Tuples"
      ],
      "metadata": {
        "id": "6kAEjzXwCrAG"
      }
    },
    {
      "cell_type": "code",
      "source": [
        "genres_tuple = (\"pop\", \"rock\", \"soul\", \"hard rock\", \"soft rock\", \\\n",
        "                \"R&B\", \"progressive rock\", \"disco\") \n",
        "genres_tuple"
      ],
      "metadata": {
        "colab": {
          "base_uri": "https://localhost:8080/"
        },
        "id": "stSC6qy3CoQh",
        "outputId": "f9e527e8-e1be-4746-94d8-789a388de844"
      },
      "execution_count": null,
      "outputs": [
        {
          "output_type": "execute_result",
          "data": {
            "text/plain": [
              "('pop',\n",
              " 'rock',\n",
              " 'soul',\n",
              " 'hard rock',\n",
              " 'soft rock',\n",
              " 'R&B',\n",
              " 'progressive rock',\n",
              " 'disco')"
            ]
          },
          "metadata": {},
          "execution_count": 22
        }
      ]
    },
    {
      "cell_type": "code",
      "source": [
        "#Find the length of the tuple, genres_tuple:\n",
        "len(genres_tuple)"
      ],
      "metadata": {
        "colab": {
          "base_uri": "https://localhost:8080/"
        },
        "id": "ogtbufYkCwFA",
        "outputId": "393ff4db-c661-4da6-d046-4da3f8cef5a3"
      },
      "execution_count": null,
      "outputs": [
        {
          "output_type": "execute_result",
          "data": {
            "text/plain": [
              "8"
            ]
          },
          "metadata": {},
          "execution_count": 23
        }
      ]
    },
    {
      "cell_type": "code",
      "source": [
        "#Access the element, with respect to index 3:\n",
        "genres_tuple[3]"
      ],
      "metadata": {
        "colab": {
          "base_uri": "https://localhost:8080/",
          "height": 35
        },
        "id": "sWfIQ0uoC24Y",
        "outputId": "c7518824-c884-4742-f27e-3d389d532509"
      },
      "execution_count": null,
      "outputs": [
        {
          "output_type": "execute_result",
          "data": {
            "text/plain": [
              "'hard rock'"
            ],
            "application/vnd.google.colaboratory.intrinsic+json": {
              "type": "string"
            }
          },
          "metadata": {},
          "execution_count": 25
        }
      ]
    },
    {
      "cell_type": "code",
      "source": [
        "#Use slicing to obtain indexes 3, 4 and 5:\n",
        "genres_tuple[3:6]"
      ],
      "metadata": {
        "colab": {
          "base_uri": "https://localhost:8080/"
        },
        "id": "cZX-guafC5ms",
        "outputId": "3c9c4385-1ee6-4390-eeb9-8c2e87018c67"
      },
      "execution_count": null,
      "outputs": [
        {
          "output_type": "execute_result",
          "data": {
            "text/plain": [
              "('hard rock', 'soft rock', 'R&B')"
            ]
          },
          "metadata": {},
          "execution_count": 26
        }
      ]
    },
    {
      "cell_type": "code",
      "source": [
        "#Find the first two elements of the tuple genres_tuple:\n",
        "genres_tuple[0:2]"
      ],
      "metadata": {
        "colab": {
          "base_uri": "https://localhost:8080/"
        },
        "id": "7j3lG1uvC_aY",
        "outputId": "621d99d1-dc86-4f9c-f383-ca70ac004b30"
      },
      "execution_count": null,
      "outputs": [
        {
          "output_type": "execute_result",
          "data": {
            "text/plain": [
              "('pop', 'rock')"
            ]
          },
          "metadata": {},
          "execution_count": 27
        }
      ]
    },
    {
      "cell_type": "code",
      "source": [
        "#Find the first index of \"disco\":\n",
        "genres_tuple.index(\"disco\")"
      ],
      "metadata": {
        "colab": {
          "base_uri": "https://localhost:8080/"
        },
        "id": "aHiZsZJ3DDqO",
        "outputId": "2b03e2c6-53f4-4801-d505-9c989c74df3d"
      },
      "execution_count": null,
      "outputs": [
        {
          "output_type": "execute_result",
          "data": {
            "text/plain": [
              "7"
            ]
          },
          "metadata": {},
          "execution_count": 28
        }
      ]
    },
    {
      "cell_type": "code",
      "source": [
        "#Generate a sorted List from the Tuple C_tuple=(-5, 1, -3):\n",
        "C_tuple = (-5, 1, -3)\n",
        "C_list = sorted(C_tuple)\n",
        "C_list"
      ],
      "metadata": {
        "colab": {
          "base_uri": "https://localhost:8080/"
        },
        "id": "BKGfuw0aDHue",
        "outputId": "382dd3bf-aee5-47e1-dd68-d6ed5f9f285b"
      },
      "execution_count": null,
      "outputs": [
        {
          "output_type": "execute_result",
          "data": {
            "text/plain": [
              "[-5, -3, 1]"
            ]
          },
          "metadata": {},
          "execution_count": 29
        }
      ]
    },
    {
      "cell_type": "markdown",
      "source": [
        "#Diccionarios"
      ],
      "metadata": {
        "id": "7RAdFrzY-57k"
      }
    },
    {
      "cell_type": "code",
      "source": [
        "Dict = {\"key1\": 1, \"key2\": \"2\", \"key3\": [3, 3, 3], \"key4\": (4, 4, 4), ('key5'): 5, (0, 1): 6}\n",
        "Dict"
      ],
      "metadata": {
        "colab": {
          "base_uri": "https://localhost:8080/"
        },
        "id": "uHx7acQdDx1W",
        "outputId": "25599ed2-f013-4e92-9a49-6ca766696013"
      },
      "execution_count": null,
      "outputs": [
        {
          "output_type": "execute_result",
          "data": {
            "text/plain": [
              "{'key1': 1,\n",
              " 'key2': '2',\n",
              " 'key3': [3, 3, 3],\n",
              " 'key4': (4, 4, 4),\n",
              " 'key5': 5,\n",
              " (0, 1): 6}"
            ]
          },
          "metadata": {},
          "execution_count": 1
        }
      ]
    },
    {
      "cell_type": "code",
      "source": [
        "Dict[\"key1\"]"
      ],
      "metadata": {
        "colab": {
          "base_uri": "https://localhost:8080/"
        },
        "id": "1l8uMOUk_CBZ",
        "outputId": "3fee6d61-c594-47e8-ffc0-b8fa1c9ea837"
      },
      "execution_count": null,
      "outputs": [
        {
          "output_type": "execute_result",
          "data": {
            "text/plain": [
              "1"
            ]
          },
          "metadata": {},
          "execution_count": 2
        }
      ]
    },
    {
      "cell_type": "code",
      "source": [
        "Dict[(0, 1)]"
      ],
      "metadata": {
        "colab": {
          "base_uri": "https://localhost:8080/"
        },
        "id": "FX11SBwp_WZw",
        "outputId": "9cbd2857-040a-4d94-f4a3-c2292a181a68"
      },
      "execution_count": null,
      "outputs": [
        {
          "output_type": "execute_result",
          "data": {
            "text/plain": [
              "6"
            ]
          },
          "metadata": {},
          "execution_count": 3
        }
      ]
    },
    {
      "cell_type": "code",
      "source": [
        "release_year_dict = {\"Thriller\": \"1982\", \"Back in Black\": \"1980\", \\\n",
        "                    \"The Dark Side of the Moon\": \"1973\", \"The Bodyguard\": \"1992\", \\\n",
        "                    \"Bat Out of Hell\": \"1977\", \"Their Greatest Hits (1971-1975)\": \"1976\", \\\n",
        "                    \"Saturday Night Fever\": \"1977\", \"Rumours\": \"1977\"}\n",
        "release_year_dict"
      ],
      "metadata": {
        "colab": {
          "base_uri": "https://localhost:8080/"
        },
        "id": "GUS_4GEU_a9V",
        "outputId": "eefd94e7-af10-4734-bc47-718bb24891bf"
      },
      "execution_count": null,
      "outputs": [
        {
          "output_type": "execute_result",
          "data": {
            "text/plain": [
              "{'Thriller': '1982',\n",
              " 'Back in Black': '1980',\n",
              " 'The Dark Side of the Moon': '1973',\n",
              " 'The Bodyguard': '1992',\n",
              " 'Bat Out of Hell': '1977',\n",
              " 'Their Greatest Hits (1971-1975)': '1976',\n",
              " 'Saturday Night Fever': '1977',\n",
              " 'Rumours': '1977'}"
            ]
          },
          "metadata": {},
          "execution_count": 4
        }
      ]
    },
    {
      "cell_type": "code",
      "source": [
        "release_year_dict['Thriller'] "
      ],
      "metadata": {
        "colab": {
          "base_uri": "https://localhost:8080/",
          "height": 35
        },
        "id": "D3fUEVQY_iNG",
        "outputId": "74263598-034c-49da-ffa9-3bef5066f0c4"
      },
      "execution_count": null,
      "outputs": [
        {
          "output_type": "execute_result",
          "data": {
            "text/plain": [
              "'1982'"
            ],
            "application/vnd.google.colaboratory.intrinsic+json": {
              "type": "string"
            }
          },
          "metadata": {},
          "execution_count": 5
        }
      ]
    },
    {
      "cell_type": "code",
      "source": [
        "release_year_dict['The Bodyguard'] "
      ],
      "metadata": {
        "colab": {
          "base_uri": "https://localhost:8080/",
          "height": 35
        },
        "id": "a1V9o2qn_lAz",
        "outputId": "343ce888-c0ef-487a-f310-c2b90bc45467"
      },
      "execution_count": null,
      "outputs": [
        {
          "output_type": "execute_result",
          "data": {
            "text/plain": [
              "'1992'"
            ],
            "application/vnd.google.colaboratory.intrinsic+json": {
              "type": "string"
            }
          },
          "metadata": {},
          "execution_count": 6
        }
      ]
    },
    {
      "cell_type": "code",
      "source": [
        "release_year_dict.keys() "
      ],
      "metadata": {
        "colab": {
          "base_uri": "https://localhost:8080/"
        },
        "id": "cy6P8X0E_nP8",
        "outputId": "629d2c05-617b-4613-9a40-74b1d09595d0"
      },
      "execution_count": null,
      "outputs": [
        {
          "output_type": "execute_result",
          "data": {
            "text/plain": [
              "dict_keys(['Thriller', 'Back in Black', 'The Dark Side of the Moon', 'The Bodyguard', 'Bat Out of Hell', 'Their Greatest Hits (1971-1975)', 'Saturday Night Fever', 'Rumours'])"
            ]
          },
          "metadata": {},
          "execution_count": 7
        }
      ]
    },
    {
      "cell_type": "code",
      "source": [
        "release_year_dict.values() "
      ],
      "metadata": {
        "colab": {
          "base_uri": "https://localhost:8080/"
        },
        "id": "Dknuz4xn_o43",
        "outputId": "a5e76b46-90c6-4eac-ae4a-da38f4b2263c"
      },
      "execution_count": null,
      "outputs": [
        {
          "output_type": "execute_result",
          "data": {
            "text/plain": [
              "dict_values(['1982', '1980', '1973', '1992', '1977', '1976', '1977', '1977'])"
            ]
          },
          "metadata": {},
          "execution_count": 8
        }
      ]
    },
    {
      "cell_type": "code",
      "source": [
        "release_year_dict['Graduation'] = '2007'\n",
        "release_year_dict"
      ],
      "metadata": {
        "colab": {
          "base_uri": "https://localhost:8080/"
        },
        "id": "d0mhDZiR_ssj",
        "outputId": "facfa32f-5714-4a00-a8a3-12172076c913"
      },
      "execution_count": null,
      "outputs": [
        {
          "output_type": "execute_result",
          "data": {
            "text/plain": [
              "{'Thriller': '1982',\n",
              " 'Back in Black': '1980',\n",
              " 'The Dark Side of the Moon': '1973',\n",
              " 'The Bodyguard': '1992',\n",
              " 'Bat Out of Hell': '1977',\n",
              " 'Their Greatest Hits (1971-1975)': '1976',\n",
              " 'Saturday Night Fever': '1977',\n",
              " 'Rumours': '1977',\n",
              " 'Graduation': '2007'}"
            ]
          },
          "metadata": {},
          "execution_count": 9
        }
      ]
    },
    {
      "cell_type": "code",
      "source": [
        "del(release_year_dict['Thriller'])\n",
        "del(release_year_dict['Graduation'])\n",
        "release_year_dict"
      ],
      "metadata": {
        "colab": {
          "base_uri": "https://localhost:8080/"
        },
        "id": "2gMGpFAL_uMv",
        "outputId": "605fdc85-b0f7-4bef-d0e2-6c66b3ce0abd"
      },
      "execution_count": null,
      "outputs": [
        {
          "output_type": "execute_result",
          "data": {
            "text/plain": [
              "{'Back in Black': '1980',\n",
              " 'The Dark Side of the Moon': '1973',\n",
              " 'The Bodyguard': '1992',\n",
              " 'Bat Out of Hell': '1977',\n",
              " 'Their Greatest Hits (1971-1975)': '1976',\n",
              " 'Saturday Night Fever': '1977',\n",
              " 'Rumours': '1977'}"
            ]
          },
          "metadata": {},
          "execution_count": 10
        }
      ]
    },
    {
      "cell_type": "code",
      "source": [
        "'The Bodyguard' in release_year_dict"
      ],
      "metadata": {
        "colab": {
          "base_uri": "https://localhost:8080/"
        },
        "id": "dphU1q1x_291",
        "outputId": "7bc28737-14c2-4c53-8af1-eeca9f65bb37"
      },
      "execution_count": null,
      "outputs": [
        {
          "output_type": "execute_result",
          "data": {
            "text/plain": [
              "True"
            ]
          },
          "metadata": {},
          "execution_count": 11
        }
      ]
    },
    {
      "cell_type": "markdown",
      "source": [
        "##Quiz on Dictionaries"
      ],
      "metadata": {
        "id": "RWN5-9Qk_8tf"
      }
    },
    {
      "cell_type": "code",
      "source": [
        "soundtrack_dic = {\"The Bodyguard\":\"1992\", \"Saturday Night Fever\":\"1977\"}\n",
        "soundtrack_dic "
      ],
      "metadata": {
        "colab": {
          "base_uri": "https://localhost:8080/"
        },
        "id": "H5eq8sYw_8Nh",
        "outputId": "a9002ee4-187f-4c4c-c5ad-e50ea759081a"
      },
      "execution_count": null,
      "outputs": [
        {
          "output_type": "execute_result",
          "data": {
            "text/plain": [
              "{'The Bodyguard': '1992', 'Saturday Night Fever': '1977'}"
            ]
          },
          "metadata": {},
          "execution_count": 12
        }
      ]
    },
    {
      "cell_type": "code",
      "source": [
        "#In the dictionary soundtrack_dic what are the keys ?\n",
        "soundtrack_dic.keys() "
      ],
      "metadata": {
        "colab": {
          "base_uri": "https://localhost:8080/"
        },
        "id": "G_OOV8Ks_55w",
        "outputId": "3c914530-8131-4873-e8f1-47773f3ca3ae"
      },
      "execution_count": null,
      "outputs": [
        {
          "output_type": "execute_result",
          "data": {
            "text/plain": [
              "dict_keys(['The Bodyguard', 'Saturday Night Fever'])"
            ]
          },
          "metadata": {},
          "execution_count": 13
        }
      ]
    },
    {
      "cell_type": "code",
      "source": [
        "#In the dictionary soundtrack_dic what are the values ?\n",
        "soundtrack_dic.values()"
      ],
      "metadata": {
        "colab": {
          "base_uri": "https://localhost:8080/"
        },
        "id": "VCwpJlM8ALQL",
        "outputId": "905be946-3c0f-4f91-a1ec-c3161752a791"
      },
      "execution_count": null,
      "outputs": [
        {
          "output_type": "execute_result",
          "data": {
            "text/plain": [
              "dict_values(['1992', '1977'])"
            ]
          },
          "metadata": {},
          "execution_count": 14
        }
      ]
    },
    {
      "cell_type": "code",
      "source": [
        "#Create a dictionary album_sales_dict where the keys are the album name and the sales in millions are the values.\n",
        "album_sales_dict = {\"The Bodyguard\":50, \"Back in Black\":50, \"Thriller\":65}"
      ],
      "metadata": {
        "id": "B2Vq4OxJAO4m"
      },
      "execution_count": null,
      "outputs": []
    },
    {
      "cell_type": "code",
      "source": [
        "#Use the dictionary to find the total sales of Thriller:\n",
        "album_sales_dict[\"Thriller\"]"
      ],
      "metadata": {
        "colab": {
          "base_uri": "https://localhost:8080/"
        },
        "id": "jbApXLanAWRw",
        "outputId": "7459f6d6-68a8-4293-959d-ce9e3eca25fc"
      },
      "execution_count": null,
      "outputs": [
        {
          "output_type": "execute_result",
          "data": {
            "text/plain": [
              "65"
            ]
          },
          "metadata": {},
          "execution_count": 16
        }
      ]
    },
    {
      "cell_type": "code",
      "source": [
        "#Find the names of the albums from the dictionary using the method keys():\n",
        "album_sales_dict.keys()"
      ],
      "metadata": {
        "colab": {
          "base_uri": "https://localhost:8080/"
        },
        "id": "TPAFHFJ9AcT2",
        "outputId": "c75c59de-25ef-4859-b73c-98fd47d0b66c"
      },
      "execution_count": null,
      "outputs": [
        {
          "output_type": "execute_result",
          "data": {
            "text/plain": [
              "dict_keys(['The Bodyguard', 'Back in Black', 'Thriller'])"
            ]
          },
          "metadata": {},
          "execution_count": 17
        }
      ]
    },
    {
      "cell_type": "code",
      "source": [
        "# Find the values of the recording sales from the dictionary using the method values:\n",
        "album_sales_dict.values()"
      ],
      "metadata": {
        "colab": {
          "base_uri": "https://localhost:8080/"
        },
        "id": "SYoJgzWPAftX",
        "outputId": "002ae6f2-efa9-4519-e068-04594988cd51"
      },
      "execution_count": null,
      "outputs": [
        {
          "output_type": "execute_result",
          "data": {
            "text/plain": [
              "dict_values([50, 50, 65])"
            ]
          },
          "metadata": {},
          "execution_count": 18
        }
      ]
    },
    {
      "cell_type": "markdown",
      "source": [
        "#Sets\n"
      ],
      "metadata": {
        "id": "UqZ7H7uVEHUJ"
      }
    },
    {
      "cell_type": "code",
      "source": [
        "set1 = {\"pop\", \"rock\", \"soul\", \"hard rock\", \"rock\", \"R&B\", \"rock\", \"disco\"}\n",
        "set1"
      ],
      "metadata": {
        "colab": {
          "base_uri": "https://localhost:8080/"
        },
        "id": "P_YA7FdiEHCN",
        "outputId": "7865ab96-124d-46f2-8fbf-1e8e986daf28"
      },
      "execution_count": null,
      "outputs": [
        {
          "output_type": "execute_result",
          "data": {
            "text/plain": [
              "{'R&B', 'disco', 'hard rock', 'pop', 'rock', 'soul'}"
            ]
          },
          "metadata": {},
          "execution_count": 19
        }
      ]
    },
    {
      "cell_type": "code",
      "source": [
        "album_list = [ \"Michael Jackson\", \"Thriller\", 1982, \"00:42:19\", \\\n",
        "              \"Pop, Rock, R&B\", 46.0, 65, \"30-Nov-82\", None, 10.0]\n",
        "album_set = set(album_list)             \n",
        "album_set"
      ],
      "metadata": {
        "colab": {
          "base_uri": "https://localhost:8080/"
        },
        "id": "dqDUzt28AkAM",
        "outputId": "a56571a4-1175-4c96-ee55-e9ea5303f4b0"
      },
      "execution_count": null,
      "outputs": [
        {
          "output_type": "execute_result",
          "data": {
            "text/plain": [
              "{'00:42:19',\n",
              " 10.0,\n",
              " 1982,\n",
              " '30-Nov-82',\n",
              " 46.0,\n",
              " 65,\n",
              " 'Michael Jackson',\n",
              " None,\n",
              " 'Pop, Rock, R&B',\n",
              " 'Thriller'}"
            ]
          },
          "metadata": {},
          "execution_count": 20
        }
      ]
    },
    {
      "cell_type": "code",
      "source": [
        "music_genres = set([\"pop\", \"pop\", \"rock\", \"folk rock\", \"hard rock\", \"soul\", \\\n",
        "                    \"progressive rock\", \"soft rock\", \"R&B\", \"disco\"])\n",
        "music_genres"
      ],
      "metadata": {
        "colab": {
          "base_uri": "https://localhost:8080/"
        },
        "id": "nk3jUif2EMxY",
        "outputId": "ce89fe0d-c9c3-4aea-aec6-a4907fa5faf3"
      },
      "execution_count": null,
      "outputs": [
        {
          "output_type": "execute_result",
          "data": {
            "text/plain": [
              "{'R&B',\n",
              " 'disco',\n",
              " 'folk rock',\n",
              " 'hard rock',\n",
              " 'pop',\n",
              " 'progressive rock',\n",
              " 'rock',\n",
              " 'soft rock',\n",
              " 'soul'}"
            ]
          },
          "metadata": {},
          "execution_count": 21
        }
      ]
    },
    {
      "cell_type": "code",
      "source": [
        "A = set([\"Thriller\", \"Back in Black\", \"AC/DC\"])\n",
        "A"
      ],
      "metadata": {
        "colab": {
          "base_uri": "https://localhost:8080/"
        },
        "id": "zO1B1wqoEQR_",
        "outputId": "c4bd98b7-8c60-4330-9094-be2ccaa2a891"
      },
      "execution_count": null,
      "outputs": [
        {
          "output_type": "execute_result",
          "data": {
            "text/plain": [
              "{'AC/DC', 'Back in Black', 'Thriller'}"
            ]
          },
          "metadata": {},
          "execution_count": 22
        }
      ]
    },
    {
      "cell_type": "code",
      "source": [
        "A.add(\"NSYNC\")\n",
        "A"
      ],
      "metadata": {
        "colab": {
          "base_uri": "https://localhost:8080/"
        },
        "id": "X2tnwX2ZESYy",
        "outputId": "403fd39a-6afc-4d2b-8fb2-9d40a3e2aa15"
      },
      "execution_count": null,
      "outputs": [
        {
          "output_type": "execute_result",
          "data": {
            "text/plain": [
              "{'AC/DC', 'Back in Black', 'NSYNC', 'Thriller'}"
            ]
          },
          "metadata": {},
          "execution_count": 23
        }
      ]
    },
    {
      "cell_type": "code",
      "source": [
        "A.add(\"NSYNC\")\n",
        "A"
      ],
      "metadata": {
        "colab": {
          "base_uri": "https://localhost:8080/"
        },
        "id": "7I3-VNNHET6a",
        "outputId": "b7d0a8c8-b3fd-47d8-bf16-edf6ed04eed6"
      },
      "execution_count": null,
      "outputs": [
        {
          "output_type": "execute_result",
          "data": {
            "text/plain": [
              "{'AC/DC', 'Back in Black', 'NSYNC', 'Thriller'}"
            ]
          },
          "metadata": {},
          "execution_count": 24
        }
      ]
    },
    {
      "cell_type": "code",
      "source": [
        "A.remove(\"NSYNC\")\n",
        "A"
      ],
      "metadata": {
        "colab": {
          "base_uri": "https://localhost:8080/"
        },
        "id": "a5XRCCSyEWbE",
        "outputId": "21dcd201-335f-49cf-fd2c-4ddbc37394c7"
      },
      "execution_count": null,
      "outputs": [
        {
          "output_type": "execute_result",
          "data": {
            "text/plain": [
              "{'AC/DC', 'Back in Black', 'Thriller'}"
            ]
          },
          "metadata": {},
          "execution_count": 25
        }
      ]
    },
    {
      "cell_type": "code",
      "source": [
        "\"AC/DC\" in A"
      ],
      "metadata": {
        "colab": {
          "base_uri": "https://localhost:8080/"
        },
        "id": "HCfq6XAVEYg1",
        "outputId": "d5ea4926-3e3f-40be-8298-21af398a1014"
      },
      "execution_count": null,
      "outputs": [
        {
          "output_type": "execute_result",
          "data": {
            "text/plain": [
              "True"
            ]
          },
          "metadata": {},
          "execution_count": 26
        }
      ]
    },
    {
      "cell_type": "code",
      "source": [
        "album_set1 = set([\"Thriller\", 'AC/DC', 'Back in Black'])\n",
        "album_set2 = set([ \"AC/DC\", \"Back in Black\", \"The Dark Side of the Moon\"])"
      ],
      "metadata": {
        "id": "N5tT7ZiNEZ4v"
      },
      "execution_count": null,
      "outputs": []
    },
    {
      "cell_type": "code",
      "source": [
        "album_set1, album_set2"
      ],
      "metadata": {
        "colab": {
          "base_uri": "https://localhost:8080/"
        },
        "id": "PDo7uq49EcQt",
        "outputId": "cb346cd3-bf41-462b-909c-af35bc18d05f"
      },
      "execution_count": null,
      "outputs": [
        {
          "output_type": "execute_result",
          "data": {
            "text/plain": [
              "({'AC/DC', 'Back in Black', 'Thriller'},\n",
              " {'AC/DC', 'Back in Black', 'The Dark Side of the Moon'})"
            ]
          },
          "metadata": {},
          "execution_count": 28
        }
      ]
    },
    {
      "cell_type": "code",
      "source": [
        "intersection = album_set1 & album_set2\n",
        "intersection"
      ],
      "metadata": {
        "colab": {
          "base_uri": "https://localhost:8080/"
        },
        "id": "I9lyyvCoEd8A",
        "outputId": "9e18b1da-9ea3-49ae-a9a4-c881f16ee8c7"
      },
      "execution_count": null,
      "outputs": [
        {
          "output_type": "execute_result",
          "data": {
            "text/plain": [
              "{'AC/DC', 'Back in Black'}"
            ]
          },
          "metadata": {},
          "execution_count": 29
        }
      ]
    },
    {
      "cell_type": "code",
      "source": [
        "album_set1.difference(album_set2)  "
      ],
      "metadata": {
        "colab": {
          "base_uri": "https://localhost:8080/"
        },
        "id": "AjwxxgnrEf79",
        "outputId": "7d4a99df-8c4f-425d-9210-a24ca3000840"
      },
      "execution_count": null,
      "outputs": [
        {
          "output_type": "execute_result",
          "data": {
            "text/plain": [
              "{'Thriller'}"
            ]
          },
          "metadata": {},
          "execution_count": 30
        }
      ]
    },
    {
      "cell_type": "code",
      "source": [
        "album_set2.difference(album_set1)  "
      ],
      "metadata": {
        "colab": {
          "base_uri": "https://localhost:8080/"
        },
        "id": "GXwkiIFuEiKm",
        "outputId": "6552910b-7b62-4f0b-8300-adcce78a1667"
      },
      "execution_count": null,
      "outputs": [
        {
          "output_type": "execute_result",
          "data": {
            "text/plain": [
              "{'The Dark Side of the Moon'}"
            ]
          },
          "metadata": {},
          "execution_count": 31
        }
      ]
    },
    {
      "cell_type": "code",
      "source": [
        "album_set1.intersection(album_set2)   "
      ],
      "metadata": {
        "colab": {
          "base_uri": "https://localhost:8080/"
        },
        "id": "b3_Nl0DZEpsB",
        "outputId": "70a2d6a9-60fa-4797-96b2-1747c12504cd"
      },
      "execution_count": null,
      "outputs": [
        {
          "output_type": "execute_result",
          "data": {
            "text/plain": [
              "{'AC/DC', 'Back in Black'}"
            ]
          },
          "metadata": {},
          "execution_count": 32
        }
      ]
    },
    {
      "cell_type": "code",
      "source": [
        "album_set1.union(album_set2)"
      ],
      "metadata": {
        "colab": {
          "base_uri": "https://localhost:8080/"
        },
        "id": "YqQF38C7Er8h",
        "outputId": "039f99c9-8a56-4a22-c3a8-33d3eacef30a"
      },
      "execution_count": null,
      "outputs": [
        {
          "output_type": "execute_result",
          "data": {
            "text/plain": [
              "{'AC/DC', 'Back in Black', 'The Dark Side of the Moon', 'Thriller'}"
            ]
          },
          "metadata": {},
          "execution_count": 33
        }
      ]
    },
    {
      "cell_type": "code",
      "source": [
        "set(album_set1).issuperset(album_set2)   "
      ],
      "metadata": {
        "colab": {
          "base_uri": "https://localhost:8080/"
        },
        "id": "UhtSNQWsExTU",
        "outputId": "427b79ed-d160-4a8d-a7ec-4e0fdaff5ff5"
      },
      "execution_count": null,
      "outputs": [
        {
          "output_type": "execute_result",
          "data": {
            "text/plain": [
              "False"
            ]
          },
          "metadata": {},
          "execution_count": 34
        }
      ]
    },
    {
      "cell_type": "code",
      "source": [
        "set(album_set2).issubset(album_set1) "
      ],
      "metadata": {
        "colab": {
          "base_uri": "https://localhost:8080/"
        },
        "id": "mn1hEttzEzLO",
        "outputId": "5dbde8c3-4888-43ce-cbf8-4acdc6edb4f8"
      },
      "execution_count": null,
      "outputs": [
        {
          "output_type": "execute_result",
          "data": {
            "text/plain": [
              "False"
            ]
          },
          "metadata": {},
          "execution_count": 35
        }
      ]
    },
    {
      "cell_type": "code",
      "source": [
        "set({\"Back in Black\", \"AC/DC\"}).issubset(album_set1) "
      ],
      "metadata": {
        "colab": {
          "base_uri": "https://localhost:8080/"
        },
        "id": "p4mnR58xE1iU",
        "outputId": "fee7f59a-1c8a-478a-d1d0-50117cbac141"
      },
      "execution_count": null,
      "outputs": [
        {
          "output_type": "execute_result",
          "data": {
            "text/plain": [
              "True"
            ]
          },
          "metadata": {},
          "execution_count": 36
        }
      ]
    },
    {
      "cell_type": "code",
      "source": [
        "album_set1.issuperset({\"Back in Black\", \"AC/DC\"})   "
      ],
      "metadata": {
        "colab": {
          "base_uri": "https://localhost:8080/"
        },
        "id": "23F498r_E3-H",
        "outputId": "f0167d87-3396-4783-b1c6-034f309ea9ab"
      },
      "execution_count": null,
      "outputs": [
        {
          "output_type": "execute_result",
          "data": {
            "text/plain": [
              "True"
            ]
          },
          "metadata": {},
          "execution_count": 37
        }
      ]
    },
    {
      "cell_type": "markdown",
      "source": [
        "##Quiz on Sets"
      ],
      "metadata": {
        "id": "ZRiSkrSvFmyY"
      }
    },
    {
      "cell_type": "code",
      "source": [
        "#Convert the list ['rap','house','electronic music', 'rap'] to a set:\n",
        "set(['rap','house','electronic music','rap'])"
      ],
      "metadata": {
        "colab": {
          "base_uri": "https://localhost:8080/"
        },
        "id": "5GZ2R46lE6Ud",
        "outputId": "c32de719-d233-4aeb-d5ad-3371b23498b4"
      },
      "execution_count": null,
      "outputs": [
        {
          "output_type": "execute_result",
          "data": {
            "text/plain": [
              "{'electronic music', 'house', 'rap'}"
            ]
          },
          "metadata": {},
          "execution_count": 38
        }
      ]
    },
    {
      "cell_type": "code",
      "source": [
        "#Consider the list A = [1, 2, 2, 1] and set B = set([1, 2, 2, 1]), does sum(A) == sum(B)?\n",
        "A = [1, 2, 2, 1]  \n",
        "B = set([1, 2, 2, 1])\n",
        "print(\"the sum of A is:\", sum(A))\n",
        "print(\"the sum of B is:\", sum(B))"
      ],
      "metadata": {
        "colab": {
          "base_uri": "https://localhost:8080/"
        },
        "id": "cL5yM4SDFrsO",
        "outputId": "896c5a8e-cc1a-4c62-c6dd-abe352b5b4e5"
      },
      "execution_count": null,
      "outputs": [
        {
          "output_type": "stream",
          "name": "stdout",
          "text": [
            "the sum of A is: 6\n",
            "the sum of B is: 3\n"
          ]
        }
      ]
    },
    {
      "cell_type": "code",
      "source": [
        "#Create a new set album_set3 that is the union of album_set1 and album_set2:\n",
        "album_set1 = set([\"Thriller\", 'AC/DC', 'Back in Black'])\n",
        "album_set2 = set([ \"AC/DC\", \"Back in Black\", \"The Dark Side of the Moon\"])\n",
        "album_set3 = album_set1.union(album_set2)\n",
        "album_set3"
      ],
      "metadata": {
        "colab": {
          "base_uri": "https://localhost:8080/"
        },
        "id": "LZhoqFgyG7lO",
        "outputId": "258f31ee-9d05-43c5-bbba-0e2e79c1170a"
      },
      "execution_count": null,
      "outputs": [
        {
          "output_type": "execute_result",
          "data": {
            "text/plain": [
              "{'AC/DC', 'Back in Black', 'The Dark Side of the Moon', 'Thriller'}"
            ]
          },
          "metadata": {},
          "execution_count": 40
        }
      ]
    },
    {
      "cell_type": "code",
      "source": [
        "#Find out if album_set1 is a subset of album_set3:\n",
        "album_set1.issubset(album_set3)"
      ],
      "metadata": {
        "colab": {
          "base_uri": "https://localhost:8080/"
        },
        "id": "r2C6ZDXxHBrz",
        "outputId": "f1d513d2-77d9-463b-dd8b-85fe5c60b984"
      },
      "execution_count": null,
      "outputs": [
        {
          "output_type": "execute_result",
          "data": {
            "text/plain": [
              "True"
            ]
          },
          "metadata": {},
          "execution_count": 41
        }
      ]
    },
    {
      "cell_type": "markdown",
      "source": [
        "#Glosary\n",
        "\n",
        "Term| Definition\n",
        "-------|--------------\n",
        "Compound |Data Type A composite of primitive data types. Lists and tuples are examples.\n",
        "Dictionary |A mutable ordered data structure in Python used to store key-value pairs. A value can be referred to by its key.\n",
        "Intersection |In two or more sets of data, the intersection of those sets is the set of elements that the original data sets have in common.\n",
        "List |A mutable ordered data structure in Python that contains zero or more primitive or compound data type elements.\n",
        "Set| An unordered, mutable collection of unique elements.\n",
        "Tuple |An immutable ordered data structure in Python that contains zero or more primitive or compound data type elements.\n",
        "Union |In two or more sets of data, the union of those data sets is the set of all the elements in each data set"
      ],
      "metadata": {
        "id": "xKhgHZ-eHF4J"
      }
    },
    {
      "cell_type": "markdown",
      "source": [
        "# Module 2 done\n",
        "\n",
        "![image.png](data:image/png;base64,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)"
      ],
      "metadata": {
        "id": "zBxDQ68IMkxf"
      }
    },
    {
      "cell_type": "code",
      "source": [],
      "metadata": {
        "id": "JrzUwslaMmHG"
      },
      "execution_count": null,
      "outputs": []
    }
  ]
}