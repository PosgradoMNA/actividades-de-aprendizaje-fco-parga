{
  "nbformat": 4,
  "nbformat_minor": 0,
  "metadata": {
    "colab": {
      "provenance": [],
      "authorship_tag": "ABX9TyPoHuYPTHyBdoPNERatoJ9Q",
      "include_colab_link": true
    },
    "kernelspec": {
      "name": "python3",
      "display_name": "Python 3"
    },
    "language_info": {
      "name": "python"
    }
  },
  "cells": [
    {
      "cell_type": "markdown",
      "metadata": {
        "id": "view-in-github",
        "colab_type": "text"
      },
      "source": [
        "<a href=\"https://colab.research.google.com/github/PosgradoMNA/actividades-de-aprendizaje-fco-parga/blob/main/Introducci%C3%B3n_a_la_programaci%C3%B3n_en_Python_I_Week_01_Introduccion.ipynb\" target=\"_parent\"><img src=\"https://colab.research.google.com/assets/colab-badge.svg\" alt=\"Open In Colab\"/></a>"
      ]
    },
    {
      "cell_type": "markdown",
      "source": [
        "# 1.1\tIntroduccion"
      ],
      "metadata": {
        "id": "y22jtUQuNNio"
      }
    },
    {
      "cell_type": "markdown",
      "source": [
        "## 1.1.1\t Cómo hablar con un computador: Instrucciones\n",
        "\n",
        "**Imagina que le pides a un computador que cuelgue un cuadro. ¿Cuál de las siguientes respuestas sería la forma más apropiada de hacerlo?**\n",
        "\n",
        ">Toma un martillo, un clavo, y el cuadro a colgar. Localiza el lugar de la pared donde quieras colgar el cuadro. Coloca el clavo en el lugar escogido y sitúa su punta sobre la pared. Toma el martillo y colócalo en el extremo plano del clavo. Golpea el clavo tantas veces como sea necesario hasta que el clavo se inserte en la pared dejando 1 cm fuera. Toma el cuadro y coloca el colgador en el extremo del clavo que quedó saliente en la pared.\n",
        "\n",
        "## 1.1.2\tLenguajes para programar\n",
        "**¿Qué tipo de lenguajes saben interpretar los computadores?**\n",
        "\n",
        ">Lenguajes que se puedan traducir a lenguaje máquina, basado en 0s y 1s\n",
        "\n",
        "**¿Cuál de estas afirmaciones es correcta?**\n",
        "\n",
        "> Los lenguajes de alto nivel son más complejos que el lenguaje máquina, pero más sencillos para programar.\n",
        "\n",
        "## 1.1.3\tEl lenguaje Python\n",
        "**Selecciona la afirmación correcta:**\n",
        "\n",
        ">El lenguaje Python es un lenguaje de alto nivel. \n",
        "\n",
        "**Selecciona la aplicación correcta:**\n",
        "\n",
        ">El lenguaje Python es muy versátil y puede usarse "
      ],
      "metadata": {
        "id": "s_xlzefhNRga"
      }
    },
    {
      "cell_type": "markdown",
      "source": [
        "## 1.1.4 Escribiendo en Python como una calculadora"
      ],
      "metadata": {
        "id": "fhHgpOmONGx_"
      }
    },
    {
      "cell_type": "code",
      "source": [
        "2+2"
      ],
      "metadata": {
        "colab": {
          "base_uri": "https://localhost:8080/"
        },
        "id": "2guJBTUIMzmR",
        "outputId": "62695a1e-682a-4ffe-c7b2-1bbfa5e32e21"
      },
      "execution_count": 4,
      "outputs": [
        {
          "output_type": "execute_result",
          "data": {
            "text/plain": [
              "4"
            ]
          },
          "metadata": {},
          "execution_count": 4
        }
      ]
    },
    {
      "cell_type": "code",
      "source": [
        "123*123"
      ],
      "metadata": {
        "colab": {
          "base_uri": "https://localhost:8080/"
        },
        "id": "ISWzae_ANK8b",
        "outputId": "48ccca13-06a4-4a9a-c223-1a8d86615275"
      },
      "execution_count": 5,
      "outputs": [
        {
          "output_type": "execute_result",
          "data": {
            "text/plain": [
              "15129"
            ]
          },
          "metadata": {},
          "execution_count": 5
        }
      ]
    },
    {
      "cell_type": "code",
      "source": [
        "x=2"
      ],
      "metadata": {
        "id": "bFwzDoCBNyq6"
      },
      "execution_count": 6,
      "outputs": []
    },
    {
      "cell_type": "code",
      "source": [
        "y=2"
      ],
      "metadata": {
        "id": "U_8JRo2DOOdV"
      },
      "execution_count": 7,
      "outputs": []
    },
    {
      "cell_type": "code",
      "source": [
        "x+y"
      ],
      "metadata": {
        "colab": {
          "base_uri": "https://localhost:8080/"
        },
        "id": "WNU2Zc3IOPJR",
        "outputId": "e12fbaa4-fa23-46e2-be36-155e57b67282"
      },
      "execution_count": 8,
      "outputs": [
        {
          "output_type": "execute_result",
          "data": {
            "text/plain": [
              "4"
            ]
          },
          "metadata": {},
          "execution_count": 8
        }
      ]
    },
    {
      "cell_type": "code",
      "source": [
        "x=4"
      ],
      "metadata": {
        "id": "-hckKHUrOQLM"
      },
      "execution_count": 9,
      "outputs": []
    },
    {
      "cell_type": "code",
      "source": [
        "x+y"
      ],
      "metadata": {
        "colab": {
          "base_uri": "https://localhost:8080/"
        },
        "id": "AFi9YdcQOTkD",
        "outputId": "2dbebf08-67c2-4be7-9ec8-34a7aa8fbe38"
      },
      "execution_count": 10,
      "outputs": [
        {
          "output_type": "execute_result",
          "data": {
            "text/plain": [
              "6"
            ]
          },
          "metadata": {},
          "execution_count": 10
        }
      ]
    },
    {
      "cell_type": "code",
      "source": [
        "x*y"
      ],
      "metadata": {
        "colab": {
          "base_uri": "https://localhost:8080/"
        },
        "id": "yIDbRAHvOUfF",
        "outputId": "16a290fd-cab0-4598-ca33-612c2d56efd0"
      },
      "execution_count": 11,
      "outputs": [
        {
          "output_type": "execute_result",
          "data": {
            "text/plain": [
              "8"
            ]
          },
          "metadata": {},
          "execution_count": 11
        }
      ]
    },
    {
      "cell_type": "code",
      "source": [
        "res=x+y"
      ],
      "metadata": {
        "id": "GXHeoCNJOZf5"
      },
      "execution_count": 12,
      "outputs": []
    },
    {
      "cell_type": "code",
      "source": [
        "res"
      ],
      "metadata": {
        "colab": {
          "base_uri": "https://localhost:8080/"
        },
        "id": "cZvCFslIOcy3",
        "outputId": "bf76ca39-8ed4-4d8c-d1d9-28024fb8c955"
      },
      "execution_count": 13,
      "outputs": [
        {
          "output_type": "execute_result",
          "data": {
            "text/plain": [
              "6"
            ]
          },
          "metadata": {},
          "execution_count": 13
        }
      ]
    },
    {
      "cell_type": "markdown",
      "source": [
        "**Imagina que asigno a la variable x el valor 0 (x=0) y a la variable y el valor 2 (y=2). Luego asigno a la variable res la suma de x más y (res=x+y). Luego cambio el valor de x asignándole el valor 6 y repito la suma anterior (res=x+y). ¿Cuánto dará el valor de la variable res al final?**\n",
        ">8"
      ],
      "metadata": {
        "id": "N1tJQtPAOoMp"
      }
    },
    {
      "cell_type": "code",
      "source": [
        "x=0\n",
        "y=2"
      ],
      "metadata": {
        "id": "_PGAwzZJOtQH"
      },
      "execution_count": 15,
      "outputs": []
    },
    {
      "cell_type": "code",
      "source": [
        "res=x+y\n",
        "res"
      ],
      "metadata": {
        "colab": {
          "base_uri": "https://localhost:8080/"
        },
        "id": "P7LmTFWLOzJE",
        "outputId": "7b5bb7b6-f454-404d-bea6-b24cd4350f1b"
      },
      "execution_count": 17,
      "outputs": [
        {
          "output_type": "execute_result",
          "data": {
            "text/plain": [
              "2"
            ]
          },
          "metadata": {},
          "execution_count": 17
        }
      ]
    },
    {
      "cell_type": "code",
      "source": [
        "x=6\n",
        "res=x+y\n",
        "res"
      ],
      "metadata": {
        "colab": {
          "base_uri": "https://localhost:8080/"
        },
        "id": "rLh98rsTO6lv",
        "outputId": "03aaf306-9d5f-445f-8a41-09d66246447a"
      },
      "execution_count": 18,
      "outputs": [
        {
          "output_type": "execute_result",
          "data": {
            "text/plain": [
              "8"
            ]
          },
          "metadata": {},
          "execution_count": 18
        }
      ]
    },
    {
      "cell_type": "code",
      "source": [
        "x+y*y/x-y"
      ],
      "metadata": {
        "colab": {
          "base_uri": "https://localhost:8080/"
        },
        "id": "Kr9r5bg6O_Q-",
        "outputId": "f0a481d6-49f0-4135-905c-134fed9a9e1c"
      },
      "execution_count": 19,
      "outputs": [
        {
          "output_type": "execute_result",
          "data": {
            "text/plain": [
              "4.666666666666667"
            ]
          },
          "metadata": {},
          "execution_count": 19
        }
      ]
    },
    {
      "cell_type": "code",
      "source": [],
      "metadata": {
        "id": "CCR8K7xnPEmT"
      },
      "execution_count": null,
      "outputs": []
    }
  ]
}