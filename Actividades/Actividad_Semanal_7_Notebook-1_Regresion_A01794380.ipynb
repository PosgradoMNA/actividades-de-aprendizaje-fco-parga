{
  "nbformat": 4,
  "nbformat_minor": 0,
  "metadata": {
    "colab": {
      "provenance": [],
      "toc_visible": true,
      "authorship_tag": "ABX9TyPMkgnf0JfU80N+akB8u0FJ",
      "include_colab_link": true
    },
    "kernelspec": {
      "name": "python3",
      "display_name": "Python 3"
    },
    "language_info": {
      "name": "python"
    }
  },
  "cells": [
    {
      "cell_type": "markdown",
      "metadata": {
        "id": "view-in-github",
        "colab_type": "text"
      },
      "source": [
        "<a href=\"https://colab.research.google.com/github/PosgradoMNA/actividades-de-aprendizaje-fco-parga/blob/main/Actividades/Actividad_Semanal_7_Notebook-1_Regresion_A01794380.ipynb\" target=\"_parent\"><img src=\"https://colab.research.google.com/assets/colab-badge.svg\" alt=\"Open In Colab\"/></a>"
      ]
    },
    {
      "cell_type": "markdown",
      "source": [
        "# **Ciencia y analítica de datos**\n",
        "## Profesor: **María de la Paz Rico Fernandez**\n",
        "## **Actividad Semanal -- 7 Regresiones y K means**\n",
        "___\n",
        "\n",
        "# Alumno: **Francissco Javier Parga García**\n",
        "## Matricula: **A01794380**\n",
        "___\n",
        "\n",
        "# Notebook 1. Regresión"
      ],
      "metadata": {
        "id": "CTJ17ENjD240"
      }
    },
    {
      "cell_type": "markdown",
      "source": [
        "# 1. Regresión"
      ],
      "metadata": {
        "id": "LV3aJTXVEGyl"
      }
    },
    {
      "cell_type": "code",
      "execution_count": null,
      "metadata": {
        "id": "fFiDyjLsD2Jq"
      },
      "outputs": [],
      "source": [
        "import numpy as np\n",
        "%matplotlib inline\n",
        "import matplotlib\n",
        "import matplotlib.pyplot as plt\n",
        "import pandas as pd\n",
        "import seaborn as sns\n",
        "\n",
        "from IPython.display import Markdown as md\n",
        "\n",
        "# to make this notebook's output stable across runs\n",
        "np.random.seed(42)"
      ]
    },
    {
      "cell_type": "code",
      "source": [
        "#Datos para ejercicio:\n",
        "\n",
        "df = pd.read_csv('https://raw.githubusercontent.com/marypazrf/bdd/main/EconomiesOfScale.csv')\n",
        "df.sample(10)"
      ],
      "metadata": {
        "colab": {
          "base_uri": "https://localhost:8080/",
          "height": 363
        },
        "id": "Uit2rnigFhkh",
        "outputId": "eea90e30-b3da-4529-e4de-d3815def02ac"
      },
      "execution_count": null,
      "outputs": [
        {
          "output_type": "execute_result",
          "data": {
            "text/plain": [
              "     Number of Units  Manufacturing Cost\n",
              "521         4.518689           38.634483\n",
              "737         5.284690           33.233497\n",
              "740         5.292696           34.550609\n",
              "660         5.030596           34.982985\n",
              "411         4.182289           43.090662\n",
              "678         5.077623           29.087582\n",
              "626         4.925292           39.152161\n",
              "513         4.483809           41.780157\n",
              "859         5.853092           36.344797\n",
              "136         3.049856           54.462176"
            ],
            "text/html": [
              "\n",
              "  <div id=\"df-41d3b275-8026-4286-93a2-161a8746bf31\">\n",
              "    <div class=\"colab-df-container\">\n",
              "      <div>\n",
              "<style scoped>\n",
              "    .dataframe tbody tr th:only-of-type {\n",
              "        vertical-align: middle;\n",
              "    }\n",
              "\n",
              "    .dataframe tbody tr th {\n",
              "        vertical-align: top;\n",
              "    }\n",
              "\n",
              "    .dataframe thead th {\n",
              "        text-align: right;\n",
              "    }\n",
              "</style>\n",
              "<table border=\"1\" class=\"dataframe\">\n",
              "  <thead>\n",
              "    <tr style=\"text-align: right;\">\n",
              "      <th></th>\n",
              "      <th>Number of Units</th>\n",
              "      <th>Manufacturing Cost</th>\n",
              "    </tr>\n",
              "  </thead>\n",
              "  <tbody>\n",
              "    <tr>\n",
              "      <th>521</th>\n",
              "      <td>4.518689</td>\n",
              "      <td>38.634483</td>\n",
              "    </tr>\n",
              "    <tr>\n",
              "      <th>737</th>\n",
              "      <td>5.284690</td>\n",
              "      <td>33.233497</td>\n",
              "    </tr>\n",
              "    <tr>\n",
              "      <th>740</th>\n",
              "      <td>5.292696</td>\n",
              "      <td>34.550609</td>\n",
              "    </tr>\n",
              "    <tr>\n",
              "      <th>660</th>\n",
              "      <td>5.030596</td>\n",
              "      <td>34.982985</td>\n",
              "    </tr>\n",
              "    <tr>\n",
              "      <th>411</th>\n",
              "      <td>4.182289</td>\n",
              "      <td>43.090662</td>\n",
              "    </tr>\n",
              "    <tr>\n",
              "      <th>678</th>\n",
              "      <td>5.077623</td>\n",
              "      <td>29.087582</td>\n",
              "    </tr>\n",
              "    <tr>\n",
              "      <th>626</th>\n",
              "      <td>4.925292</td>\n",
              "      <td>39.152161</td>\n",
              "    </tr>\n",
              "    <tr>\n",
              "      <th>513</th>\n",
              "      <td>4.483809</td>\n",
              "      <td>41.780157</td>\n",
              "    </tr>\n",
              "    <tr>\n",
              "      <th>859</th>\n",
              "      <td>5.853092</td>\n",
              "      <td>36.344797</td>\n",
              "    </tr>\n",
              "    <tr>\n",
              "      <th>136</th>\n",
              "      <td>3.049856</td>\n",
              "      <td>54.462176</td>\n",
              "    </tr>\n",
              "  </tbody>\n",
              "</table>\n",
              "</div>\n",
              "      <button class=\"colab-df-convert\" onclick=\"convertToInteractive('df-41d3b275-8026-4286-93a2-161a8746bf31')\"\n",
              "              title=\"Convert this dataframe to an interactive table.\"\n",
              "              style=\"display:none;\">\n",
              "        \n",
              "  <svg xmlns=\"http://www.w3.org/2000/svg\" height=\"24px\"viewBox=\"0 0 24 24\"\n",
              "       width=\"24px\">\n",
              "    <path d=\"M0 0h24v24H0V0z\" fill=\"none\"/>\n",
              "    <path d=\"M18.56 5.44l.94 2.06.94-2.06 2.06-.94-2.06-.94-.94-2.06-.94 2.06-2.06.94zm-11 1L8.5 8.5l.94-2.06 2.06-.94-2.06-.94L8.5 2.5l-.94 2.06-2.06.94zm10 10l.94 2.06.94-2.06 2.06-.94-2.06-.94-.94-2.06-.94 2.06-2.06.94z\"/><path d=\"M17.41 7.96l-1.37-1.37c-.4-.4-.92-.59-1.43-.59-.52 0-1.04.2-1.43.59L10.3 9.45l-7.72 7.72c-.78.78-.78 2.05 0 2.83L4 21.41c.39.39.9.59 1.41.59.51 0 1.02-.2 1.41-.59l7.78-7.78 2.81-2.81c.8-.78.8-2.07 0-2.86zM5.41 20L4 18.59l7.72-7.72 1.47 1.35L5.41 20z\"/>\n",
              "  </svg>\n",
              "      </button>\n",
              "      \n",
              "  <style>\n",
              "    .colab-df-container {\n",
              "      display:flex;\n",
              "      flex-wrap:wrap;\n",
              "      gap: 12px;\n",
              "    }\n",
              "\n",
              "    .colab-df-convert {\n",
              "      background-color: #E8F0FE;\n",
              "      border: none;\n",
              "      border-radius: 50%;\n",
              "      cursor: pointer;\n",
              "      display: none;\n",
              "      fill: #1967D2;\n",
              "      height: 32px;\n",
              "      padding: 0 0 0 0;\n",
              "      width: 32px;\n",
              "    }\n",
              "\n",
              "    .colab-df-convert:hover {\n",
              "      background-color: #E2EBFA;\n",
              "      box-shadow: 0px 1px 2px rgba(60, 64, 67, 0.3), 0px 1px 3px 1px rgba(60, 64, 67, 0.15);\n",
              "      fill: #174EA6;\n",
              "    }\n",
              "\n",
              "    [theme=dark] .colab-df-convert {\n",
              "      background-color: #3B4455;\n",
              "      fill: #D2E3FC;\n",
              "    }\n",
              "\n",
              "    [theme=dark] .colab-df-convert:hover {\n",
              "      background-color: #434B5C;\n",
              "      box-shadow: 0px 1px 3px 1px rgba(0, 0, 0, 0.15);\n",
              "      filter: drop-shadow(0px 1px 2px rgba(0, 0, 0, 0.3));\n",
              "      fill: #FFFFFF;\n",
              "    }\n",
              "  </style>\n",
              "\n",
              "      <script>\n",
              "        const buttonEl =\n",
              "          document.querySelector('#df-41d3b275-8026-4286-93a2-161a8746bf31 button.colab-df-convert');\n",
              "        buttonEl.style.display =\n",
              "          google.colab.kernel.accessAllowed ? 'block' : 'none';\n",
              "\n",
              "        async function convertToInteractive(key) {\n",
              "          const element = document.querySelector('#df-41d3b275-8026-4286-93a2-161a8746bf31');\n",
              "          const dataTable =\n",
              "            await google.colab.kernel.invokeFunction('convertToInteractive',\n",
              "                                                     [key], {});\n",
              "          if (!dataTable) return;\n",
              "\n",
              "          const docLinkHtml = 'Like what you see? Visit the ' +\n",
              "            '<a target=\"_blank\" href=https://colab.research.google.com/notebooks/data_table.ipynb>data table notebook</a>'\n",
              "            + ' to learn more about interactive tables.';\n",
              "          element.innerHTML = '';\n",
              "          dataTable['output_type'] = 'display_data';\n",
              "          await google.colab.output.renderOutput(dataTable, element);\n",
              "          const docLink = document.createElement('div');\n",
              "          docLink.innerHTML = docLinkHtml;\n",
              "          element.appendChild(docLink);\n",
              "        }\n",
              "      </script>\n",
              "    </div>\n",
              "  </div>\n",
              "  "
            ]
          },
          "metadata": {},
          "execution_count": 9
        }
      ]
    },
    {
      "cell_type": "code",
      "source": [
        "modelos = {}"
      ],
      "metadata": {
        "id": "t9ntw0JTXErn"
      },
      "execution_count": null,
      "outputs": []
    },
    {
      "cell_type": "markdown",
      "source": [
        "## 1.1 Divide los datos del costo de manufactura. \n",
        "\n",
        "Utiliza la función train_test_split"
      ],
      "metadata": {
        "id": "oV8jLF2oFySW"
      }
    },
    {
      "cell_type": "code",
      "source": [
        "from sklearn.model_selection import train_test_split"
      ],
      "metadata": {
        "id": "7geiQcxSF7_T"
      },
      "execution_count": null,
      "outputs": []
    },
    {
      "cell_type": "code",
      "source": [
        "X = df[['Number of Units']]\n",
        "y = df['Manufacturing Cost']\n",
        "\n",
        "X_train, X_test, y_train, y_test = train_test_split(X, y, test_size = 0.2)"
      ],
      "metadata": {
        "id": "92MxNtoJFl0_"
      },
      "execution_count": null,
      "outputs": []
    },
    {
      "cell_type": "markdown",
      "source": [
        "## 1.2 Regresión Lineal.\n",
        "\n",
        "Realiza la regresión lineal: modelo generado (ecuación), su visualización, sus errores y r cuadrada.\n"
      ],
      "metadata": {
        "id": "nfMATZlrGKM8"
      }
    },
    {
      "cell_type": "code",
      "source": [
        "from sklearn.linear_model import LinearRegression\n",
        "\n",
        "linear_reg = LinearRegression(fit_intercept=True)\n",
        "linear_reg.fit(X_train, y_train)\n",
        "\n",
        "modelos['lnr'] = linear_reg"
      ],
      "metadata": {
        "id": "EU_bEtXIF-au"
      },
      "execution_count": null,
      "outputs": []
    },
    {
      "cell_type": "code",
      "source": [
        " linear_reg.coef_, linear_reg.intercept_"
      ],
      "metadata": {
        "colab": {
          "base_uri": "https://localhost:8080/"
        },
        "id": "xk6loG_jHIok",
        "outputId": "45ed51a6-d35a-4a69-89af-183b3d3872cf"
      },
      "execution_count": null,
      "outputs": [
        {
          "output_type": "execute_result",
          "data": {
            "text/plain": [
              "(array([-6.00034747]), 66.97622861902316)"
            ]
          },
          "metadata": {},
          "execution_count": 14
        }
      ]
    },
    {
      "cell_type": "markdown",
      "source": [
        "### Ecuacion Modelo lineal ajustado:\n",
        "\n",
        "$\\hat{y} = -6.0047X + 66.774$"
      ],
      "metadata": {
        "id": "DjYiYHMHHJ68"
      }
    },
    {
      "cell_type": "code",
      "source": [
        "X_fit = np.linspace(0, 10, 100)\n",
        "y_fit = linear_reg.predict(X_fit[:, np.newaxis])\n",
        "\n",
        "plt.scatter(X_train, y_train)\n",
        "plt.plot(X_fit, y_fit, \"r-\", linewidth=2, label=\"Predictions\")\n",
        "plt.xlabel(\"$X$\", fontsize=18)\n",
        "plt.ylabel(\"$y$\", rotation=0, fontsize=18)\n",
        "plt.legend(loc=\"upper left\", fontsize=14);"
      ],
      "metadata": {
        "colab": {
          "base_uri": "https://localhost:8080/",
          "height": 343
        },
        "id": "Hz3MiNMjGphB",
        "outputId": "abe0b0a1-597f-4fb4-fa79-de5034a42a9b"
      },
      "execution_count": null,
      "outputs": [
        {
          "output_type": "stream",
          "name": "stderr",
          "text": [
            "/usr/local/lib/python3.7/dist-packages/sklearn/base.py:451: UserWarning: X does not have valid feature names, but LinearRegression was fitted with feature names\n",
            "  \"X does not have valid feature names, but\"\n"
          ]
        },
        {
          "output_type": "display_data",
          "data": {
            "text/plain": [
              "<Figure size 432x288 with 1 Axes>"
            ],
            "image/png": "[encoded data removed]"
          },
          "metadata": {
            "needs_background": "light"
          }
        }
      ]
    },
    {
      "cell_type": "markdown",
      "source": [
        "## Errores regresion lineal"
      ],
      "metadata": {
        "id": "o06GCSgxHzoS"
      }
    },
    {
      "cell_type": "code",
      "source": [
        "from sklearn.metrics import r2_score\n",
        "from sklearn.metrics import mean_absolute_error\n",
        "from sklearn.metrics import mean_squared_error"
      ],
      "metadata": {
        "id": "oN2mrdtCH2tq"
      },
      "execution_count": null,
      "outputs": []
    },
    {
      "cell_type": "code",
      "source": [
        "yhat_train = linear_reg.predict(X_train)\n",
        "yhat_test = linear_reg.predict(X_test)"
      ],
      "metadata": {
        "id": "URKHeu_OJmM2"
      },
      "execution_count": null,
      "outputs": []
    },
    {
      "cell_type": "code",
      "source": [
        "  print(f\"\"\"\n",
        "          Test    Train\n",
        "  MSE:    {round(mean_squared_error(y_test, yhat_test),2) :<5}   {round(mean_squared_error(y_train, yhat_train),2)}\n",
        "  MAE:    {round(mean_absolute_error(y_test, yhat_test),2) :<5}   {round(mean_absolute_error(y_train, yhat_train),2)}\n",
        "  R2:     {round(r2_score(y_test, yhat_test),2) :<5}   {round(r2_score(y_train, yhat_train),2)}\n",
        "  \"\"\")"
      ],
      "metadata": {
        "colab": {
          "base_uri": "https://localhost:8080/"
        },
        "id": "wKcLD29vIc1Z",
        "outputId": "6e3ee916-5a2f-47dd-d235-9e5169fcf9e3"
      },
      "execution_count": null,
      "outputs": [
        {
          "output_type": "stream",
          "name": "stdout",
          "text": [
            "\n",
            "        Test    Train\n",
            "MSE:    45.8    47.58\n",
            "MAE:    4.64    4.99\n",
            "R2:     0.57    0.58\n",
            "\n"
          ]
        }
      ]
    },
    {
      "cell_type": "markdown",
      "source": [
        "## 1.3 Regresión Polinomial.\n",
        "\n",
        "Realiza la  regresión polinomial completa, tu modelo generado (ecuación), su visualización, sus errores y r cuadrada.\n"
      ],
      "metadata": {
        "id": "Xfv9rm67K9QA"
      }
    },
    {
      "cell_type": "code",
      "source": [
        "from sklearn.preprocessing import PolynomialFeatures"
      ],
      "metadata": {
        "id": "GcgYpg8hLCdu"
      },
      "execution_count": null,
      "outputs": []
    },
    {
      "cell_type": "code",
      "source": [
        "poly_features = PolynomialFeatures(degree=4, include_bias=False)\n",
        "X_poly = poly_features.fit_transform(X_train)"
      ],
      "metadata": {
        "id": "QcHgE_WRLjkx"
      },
      "execution_count": null,
      "outputs": []
    },
    {
      "cell_type": "code",
      "source": [
        "lin_reg_poli = LinearRegression(fit_intercept=True)\n",
        "lin_reg_poli.fit(X_poly, y_train)\n",
        "\n",
        "modelos['lnr-pol'] = lin_reg_poli"
      ],
      "metadata": {
        "id": "BEzl164qLa0V"
      },
      "execution_count": null,
      "outputs": []
    },
    {
      "cell_type": "code",
      "source": [
        "lin_reg_poli.coef_, lin_reg_poli.intercept_"
      ],
      "metadata": {
        "colab": {
          "base_uri": "https://localhost:8080/"
        },
        "id": "a5EXfUQAL05z",
        "outputId": "18e22663-22c1-4e49-d98f-bae5c9ab007e"
      },
      "execution_count": null,
      "outputs": [
        {
          "output_type": "execute_result",
          "data": {
            "text/plain": [
              "(array([-4.99673406e+01,  1.07191231e+01, -1.08666514e+00,  4.11133337e-02]),\n",
              " 127.76148917886916)"
            ]
          },
          "metadata": {},
          "execution_count": 66
        }
      ]
    },
    {
      "cell_type": "markdown",
      "source": [
        "### Ecuacion Modelo polimonial ajustado:\n",
        "\n",
        "$\\hat{y} =  -54.53X + 12.67X^2 + -1.41X^3 + -0.06X^4+ 130.91$"
      ],
      "metadata": {
        "id": "pMsuyGWqMKf1"
      }
    },
    {
      "cell_type": "code",
      "source": [
        "X_new=np.linspace(0, 10, 100).reshape(100, 1)\n",
        "X_new_poly = poly_features.transform(X_new)\n",
        "y_new = lin_reg_poli.predict(X_new_poly)\n",
        "plt.plot(X_train, y_train, \"b.\")\n",
        "plt.plot(X_new, y_new, \"r-\", linewidth=2, label=\"Predictions\")\n",
        "plt.xlabel(\"$x_1$\", fontsize=18)\n",
        "plt.ylabel(\"$y$\", rotation=0, fontsize=18)\n",
        "plt.legend(loc=\"upper left\", fontsize=14)"
      ],
      "metadata": {
        "colab": {
          "base_uri": "https://localhost:8080/",
          "height": 361
        },
        "id": "vjFeq06IL9sS",
        "outputId": "fb31d1f3-dc89-462a-d823-01e7e410b9b6"
      },
      "execution_count": null,
      "outputs": [
        {
          "output_type": "stream",
          "name": "stderr",
          "text": [
            "/usr/local/lib/python3.7/dist-packages/sklearn/base.py:451: UserWarning: X does not have valid feature names, but PolynomialFeatures was fitted with feature names\n",
            "  \"X does not have valid feature names, but\"\n"
          ]
        },
        {
          "output_type": "execute_result",
          "data": {
            "text/plain": [
              "<matplotlib.legend.Legend at 0x7f633012a4d0>"
            ]
          },
          "metadata": {},
          "execution_count": 67
        },
        {
          "output_type": "display_data",
          "data": {
            "text/plain": [
              "<Figure size 432x288 with 1 Axes>"
            ],
            "image/png": "[encoded data removed]"
          },
          "metadata": {
            "needs_background": "light"
          }
        }
      ]
    },
    {
      "cell_type": "code",
      "source": [
        "X_poly_test = poly_features.fit_transform(X_test)\n",
        "\n",
        "yhat_train = lin_reg_poli.predict(X_poly)\n",
        "yhat_test = lin_reg_poli.predict(X_poly_test)"
      ],
      "metadata": {
        "id": "3kQVLmf-N3_H"
      },
      "execution_count": null,
      "outputs": []
    },
    {
      "cell_type": "code",
      "source": [
        "  print(f\"\"\"\n",
        "  Regresion Polinimial\n",
        "          Test    Train\n",
        "  MSE:    {round(mean_squared_error(y_test, yhat_test),2) :<5}   {round(mean_squared_error(y_train, yhat_train),2)}\n",
        "  MAE:    {round(mean_absolute_error(y_test, yhat_test),2) :<5}   {round(mean_absolute_error(y_train, yhat_train),2)}\n",
        "  R2:     {round(r2_score(y_test, yhat_test),2) :<5}   {round(r2_score(y_train, yhat_train),2)}\n",
        "  \"\"\")"
      ],
      "metadata": {
        "colab": {
          "base_uri": "https://localhost:8080/"
        },
        "id": "hOLqlDvkOVb9",
        "outputId": "8db77ffe-cf3b-4c34-ab15-01bf65c7155d"
      },
      "execution_count": null,
      "outputs": [
        {
          "output_type": "stream",
          "name": "stdout",
          "text": [
            "\n",
            "Regresion Polinimial\n",
            "        Test    Train\n",
            "MSE:    33.11   34.78\n",
            "MAE:    4.31    4.48\n",
            "R2:     0.69    0.69\n",
            "\n"
          ]
        }
      ]
    },
    {
      "cell_type": "markdown",
      "source": [
        "## 1.4 Realiza la regresión con Ridge y Lasso. \n",
        "Incluye la ecuación de tu modelo, visualización , errores y r cuadrada."
      ],
      "metadata": {
        "id": "nYed5yXNPAMF"
      }
    },
    {
      "cell_type": "code",
      "source": [
        "from sklearn.linear_model import Ridge, Lasso"
      ],
      "metadata": {
        "id": "S-ecXvftOszE"
      },
      "execution_count": null,
      "outputs": []
    },
    {
      "cell_type": "markdown",
      "source": [
        "### Ridge"
      ],
      "metadata": {
        "id": "CvdjUmyqVqBS"
      }
    },
    {
      "cell_type": "code",
      "source": [
        "RigeModel=Ridge(alpha=2)\n",
        "RigeModel.fit(X_poly, y_train)\n",
        "\n",
        "modelos['ridge'] = RigeModel"
      ],
      "metadata": {
        "id": "S3bZLU5VS5aH"
      },
      "execution_count": null,
      "outputs": []
    },
    {
      "cell_type": "code",
      "source": [
        "RigeModel.coef_, RigeModel.intercept_"
      ],
      "metadata": {
        "colab": {
          "base_uri": "https://localhost:8080/"
        },
        "id": "Orqwmf6PTqUk",
        "outputId": "ca1feb1a-7e66-4d92-d22c-20a119e8d18c"
      },
      "execution_count": null,
      "outputs": [
        {
          "output_type": "execute_result",
          "data": {
            "text/plain": [
              "(array([-16.79854765,  -0.10821274,   0.3541629 ,  -0.02563225]),\n",
              " 93.49096508224179)"
            ]
          },
          "metadata": {},
          "execution_count": 78
        }
      ]
    },
    {
      "cell_type": "markdown",
      "source": [
        "#### Ecuacion Modelo Ridge ajustado:\n",
        "\n",
        "$\\hat{y} =  -4.48X + -4.59X^2 + 1.04X^3 + -0.06X^4+ 81.39$"
      ],
      "metadata": {
        "id": "FHp_JliKUDsb"
      }
    },
    {
      "cell_type": "code",
      "source": [
        "X_new=np.linspace(0, 10, 100).reshape(100, 1)\n",
        "X_new_poly = poly_features.transform(X_new)\n",
        "y_new = RigeModel.predict(X_new_poly)\n",
        "plt.plot(X_train, y_train, \"b.\")\n",
        "plt.plot(X_new, y_new, \"r-\", linewidth=2, label=\"Predictions\")\n",
        "plt.xlabel(\"$x_1$\", fontsize=18)\n",
        "plt.ylabel(\"$y$\", rotation=0, fontsize=18)\n",
        "plt.legend(loc=\"upper left\", fontsize=14)"
      ],
      "metadata": {
        "colab": {
          "base_uri": "https://localhost:8080/",
          "height": 361
        },
        "id": "pkiEP1bPT0Nw",
        "outputId": "46e6aa13-162b-4171-ea73-74d496bc1ac4"
      },
      "execution_count": null,
      "outputs": [
        {
          "output_type": "stream",
          "name": "stderr",
          "text": [
            "/usr/local/lib/python3.7/dist-packages/sklearn/base.py:451: UserWarning: X does not have valid feature names, but PolynomialFeatures was fitted with feature names\n",
            "  \"X does not have valid feature names, but\"\n"
          ]
        },
        {
          "output_type": "execute_result",
          "data": {
            "text/plain": [
              "<matplotlib.legend.Legend at 0x7f632ff8ce90>"
            ]
          },
          "metadata": {},
          "execution_count": 79
        },
        {
          "output_type": "display_data",
          "data": {
            "text/plain": [
              "<Figure size 432x288 with 1 Axes>"
            ],
            "image/png": "[encoded data removed]"
          },
          "metadata": {
            "needs_background": "light"
          }
        }
      ]
    },
    {
      "cell_type": "markdown",
      "source": [
        "#### Metricas Ridge"
      ],
      "metadata": {
        "id": "VlgL0x30Vw2Q"
      }
    },
    {
      "cell_type": "code",
      "source": [
        "X_poly_test = poly_features.fit_transform(X_test)\n",
        "\n",
        "yhat_train = RigeModel.predict(X_poly)\n",
        "yhat_test = RigeModel.predict(X_poly_test)"
      ],
      "metadata": {
        "id": "26smkIFGU2TW"
      },
      "execution_count": null,
      "outputs": []
    },
    {
      "cell_type": "code",
      "source": [
        "  print(f\"\"\"\n",
        "  Regresion Ridge\n",
        "          Test    Train\n",
        "  MSE:    {round(mean_squared_error(y_test, yhat_test),2) :<5}   {round(mean_squared_error(y_train, yhat_train),2)}\n",
        "  MAE:    {round(mean_absolute_error(y_test, yhat_test),2) :<5}   {round(mean_absolute_error(y_train, yhat_train),2)}\n",
        "  R2:     {round(r2_score(y_test, yhat_test),2) :<5}   {round(r2_score(y_train, yhat_train),2)}\n",
        "  \"\"\")"
      ],
      "metadata": {
        "colab": {
          "base_uri": "https://localhost:8080/"
        },
        "id": "06Xae1H-VKEc",
        "outputId": "b71f7207-4f4e-4f0d-cce7-3fe1b8625c04"
      },
      "execution_count": null,
      "outputs": [
        {
          "output_type": "stream",
          "name": "stdout",
          "text": [
            "\n",
            "Regresion Ridge\n",
            "        Test    Train\n",
            "MSE:    36.14   36.17\n",
            "MAE:    4.32    4.53\n",
            "R2:     0.66    0.68\n",
            "\n"
          ]
        }
      ]
    },
    {
      "cell_type": "markdown",
      "source": [
        "### Lasso"
      ],
      "metadata": {
        "id": "eA1GO8oJVvvX"
      }
    },
    {
      "cell_type": "code",
      "source": [
        "LassoModel=Lasso(alpha=0.95, max_iter=50000)\n",
        "LassoModel.fit(X_poly, y_train)\n",
        "\n",
        "modelos['lasso'] = LassoModel"
      ],
      "metadata": {
        "id": "B9W-AVpEVRKi"
      },
      "execution_count": null,
      "outputs": []
    },
    {
      "cell_type": "code",
      "source": [
        "LassoModel.coef_, LassoModel.intercept_"
      ],
      "metadata": {
        "colab": {
          "base_uri": "https://localhost:8080/"
        },
        "id": "LmfGBsuWV75a",
        "outputId": "024a3678-a1e2-4d50-daaa-19a6ec6dab42"
      },
      "execution_count": null,
      "outputs": [
        {
          "output_type": "execute_result",
          "data": {
            "text/plain": [
              "(array([-0.        , -3.23152312,  0.50082083, -0.02164685]),\n",
              " 67.18342602784045)"
            ]
          },
          "metadata": {},
          "execution_count": 105
        }
      ]
    },
    {
      "cell_type": "markdown",
      "source": [
        "#### Ecuacion Modelo Lasso ajustado:\n",
        "\n",
        "$\\hat{y} =  -2.14X^2 + 0.21X^3 + 63.36$"
      ],
      "metadata": {
        "id": "n64OE3x1WKJj"
      }
    },
    {
      "cell_type": "code",
      "source": [
        "X_new=np.linspace(0, 10, 100).reshape(100, 1)\n",
        "X_new_poly = poly_features.transform(X_new)\n",
        "y_new = LassoModel.predict(X_new_poly)\n",
        "plt.plot(X_train, y_train, \"b.\")\n",
        "plt.plot(X_new, y_new, \"r-\", linewidth=2, label=\"Predictions\")\n",
        "plt.xlabel(\"$x_1$\", fontsize=18)\n",
        "plt.ylabel(\"$y$\", rotation=0, fontsize=18)\n",
        "plt.legend(loc=\"upper left\", fontsize=14)"
      ],
      "metadata": {
        "colab": {
          "base_uri": "https://localhost:8080/",
          "height": 361
        },
        "id": "6LbQJ1XnWGs0",
        "outputId": "599249c0-6741-4385-bb8d-0fe62a5a967f"
      },
      "execution_count": null,
      "outputs": [
        {
          "output_type": "stream",
          "name": "stderr",
          "text": [
            "/usr/local/lib/python3.7/dist-packages/sklearn/base.py:451: UserWarning: X does not have valid feature names, but PolynomialFeatures was fitted with feature names\n",
            "  \"X does not have valid feature names, but\"\n"
          ]
        },
        {
          "output_type": "execute_result",
          "data": {
            "text/plain": [
              "<matplotlib.legend.Legend at 0x7f6330218e10>"
            ]
          },
          "metadata": {},
          "execution_count": 106
        },
        {
          "output_type": "display_data",
          "data": {
            "text/plain": [
              "<Figure size 432x288 with 1 Axes>"
            ],
            "image/png": "[encoded data removed]"
          },
          "metadata": {
            "needs_background": "light"
          }
        }
      ]
    },
    {
      "cell_type": "markdown",
      "source": [
        "#### Metricas Lasso"
      ],
      "metadata": {
        "id": "ApEqnT3_WcU-"
      }
    },
    {
      "cell_type": "code",
      "source": [
        "X_poly_test = poly_features.fit_transform(X_test)\n",
        "\n",
        "yhat_train = LassoModel.predict(X_poly)\n",
        "yhat_test = LassoModel.predict(X_poly_test)"
      ],
      "metadata": {
        "id": "RdzfM620WYpv"
      },
      "execution_count": null,
      "outputs": []
    },
    {
      "cell_type": "code",
      "source": [
        "  print(f\"\"\"\n",
        "  Regresion Lasso\n",
        "          Test    Train\n",
        "  MSE:    {round(mean_squared_error(y_test, yhat_test),2) :<5}   {round(mean_squared_error(y_train, yhat_train),2)}\n",
        "  MAE:    {round(mean_absolute_error(y_test, yhat_test),2) :<5}   {round(mean_absolute_error(y_train, yhat_train),2)}\n",
        "  R2:     {round(r2_score(y_test, yhat_test),2) :<5}   {round(r2_score(y_train, yhat_train),2)}\n",
        "  \"\"\")"
      ],
      "metadata": {
        "colab": {
          "base_uri": "https://localhost:8080/"
        },
        "id": "l_31Z7sNWho7",
        "outputId": "00ba2972-a903-411a-a667-7d92fb4b6121"
      },
      "execution_count": null,
      "outputs": [
        {
          "output_type": "stream",
          "name": "stdout",
          "text": [
            "\n",
            "Regresion Lasso\n",
            "        Test    Train\n",
            "MSE:    41.17   40.77\n",
            "MAE:    4.32    4.64\n",
            "R2:     0.62    0.64\n",
            "\n"
          ]
        }
      ]
    },
    {
      "cell_type": "code",
      "source": [
        "modelos"
      ],
      "metadata": {
        "colab": {
          "base_uri": "https://localhost:8080/"
        },
        "id": "WzkWVeKDWktR",
        "outputId": "d148f2d0-058a-4049-e3a5-b20e0f5429c5"
      },
      "execution_count": null,
      "outputs": [
        {
          "output_type": "execute_result",
          "data": {
            "text/plain": [
              "{'lnr': LinearRegression(),\n",
              " 'lnr-pol': LinearRegression(),\n",
              " 'ridge': Ridge(alpha=2),\n",
              " 'lasso': Lasso(alpha=0.95, max_iter=50000)}"
            ]
          },
          "metadata": {},
          "execution_count": 109
        }
      ]
    },
    {
      "cell_type": "code",
      "source": [
        "metricas = {}\n",
        "metricas_fn = {'mse':mean_squared_error,\n",
        "               'mae':mean_absolute_error,\n",
        "               'r2': r2_score}\n",
        "\n",
        "for nombre, modelo in modelos.items():\n",
        "  if nombre == 'lnr':\n",
        "\n",
        "    yhat_train = modelo.predict(X_train)\n",
        "    yhat_test = modelo.predict(X_test)\n",
        "\n",
        "    for error, fn in metricas_fn.items():\n",
        "      metricas[nombre+'_'+error] = [fn(y_test, yhat_test), fn(y_train, yhat_train)]\n",
        "\n",
        "  else:\n",
        "    X_poly_test = poly_features.fit_transform(X_test)\n",
        "\n",
        "    yhat_train = modelo.predict(X_poly)\n",
        "    yhat_test = modelo.predict(X_poly_test)\n",
        "\n",
        "    for error, fn in metricas_fn.items():\n",
        "      metricas[nombre+'_'+error] = [fn(y_test, yhat_test), fn(y_train, yhat_train)]\n",
        "\n"
      ],
      "metadata": {
        "id": "Mb_04VsfX01q"
      },
      "execution_count": null,
      "outputs": []
    },
    {
      "cell_type": "code",
      "source": [
        "pd.DataFrame(metricas).T.rename(columns={0:'Test', 1:'Train'})"
      ],
      "metadata": {
        "colab": {
          "base_uri": "https://localhost:8080/",
          "height": 426
        },
        "id": "tDjUpipUZM83",
        "outputId": "43d835ff-27dd-41e6-e659-b349bbb66052"
      },
      "execution_count": null,
      "outputs": [
        {
          "output_type": "execute_result",
          "data": {
            "text/plain": [
              "                  Test      Train\n",
              "lnr_mse      45.796412  47.583783\n",
              "lnr_mae       4.642591   4.990163\n",
              "lnr_r2        0.572518   0.580392\n",
              "lnr-pol_mse  33.112695  34.780434\n",
              "lnr-pol_mae   4.311094   4.476395\n",
              "lnr-pol_r2    0.690913   0.693295\n",
              "ridge_mse    36.142377  36.169194\n",
              "ridge_mae     4.318356   4.531951\n",
              "ridge_r2      0.662633   0.681049\n",
              "lasso_mse    41.165321  40.769222\n",
              "lasso_mae     4.321702   4.638222\n",
              "lasso_r2      0.615747   0.640484"
            ],
            "text/html": [
              "\n",
              "  <div id=\"df-521b305a-dcef-46a4-b383-bb723ae2b3a0\">\n",
              "    <div class=\"colab-df-container\">\n",
              "      <div>\n",
              "<style scoped>\n",
              "    .dataframe tbody tr th:only-of-type {\n",
              "        vertical-align: middle;\n",
              "    }\n",
              "\n",
              "    .dataframe tbody tr th {\n",
              "        vertical-align: top;\n",
              "    }\n",
              "\n",
              "    .dataframe thead th {\n",
              "        text-align: right;\n",
              "    }\n",
              "</style>\n",
              "<table border=\"1\" class=\"dataframe\">\n",
              "  <thead>\n",
              "    <tr style=\"text-align: right;\">\n",
              "      <th></th>\n",
              "      <th>Test</th>\n",
              "      <th>Train</th>\n",
              "    </tr>\n",
              "  </thead>\n",
              "  <tbody>\n",
              "    <tr>\n",
              "      <th>lnr_mse</th>\n",
              "      <td>45.796412</td>\n",
              "      <td>47.583783</td>\n",
              "    </tr>\n",
              "    <tr>\n",
              "      <th>lnr_mae</th>\n",
              "      <td>4.642591</td>\n",
              "      <td>4.990163</td>\n",
              "    </tr>\n",
              "    <tr>\n",
              "      <th>lnr_r2</th>\n",
              "      <td>0.572518</td>\n",
              "      <td>0.580392</td>\n",
              "    </tr>\n",
              "    <tr>\n",
              "      <th>lnr-pol_mse</th>\n",
              "      <td>33.112695</td>\n",
              "      <td>34.780434</td>\n",
              "    </tr>\n",
              "    <tr>\n",
              "      <th>lnr-pol_mae</th>\n",
              "      <td>4.311094</td>\n",
              "      <td>4.476395</td>\n",
              "    </tr>\n",
              "    <tr>\n",
              "      <th>lnr-pol_r2</th>\n",
              "      <td>0.690913</td>\n",
              "      <td>0.693295</td>\n",
              "    </tr>\n",
              "    <tr>\n",
              "      <th>ridge_mse</th>\n",
              "      <td>36.142377</td>\n",
              "      <td>36.169194</td>\n",
              "    </tr>\n",
              "    <tr>\n",
              "      <th>ridge_mae</th>\n",
              "      <td>4.318356</td>\n",
              "      <td>4.531951</td>\n",
              "    </tr>\n",
              "    <tr>\n",
              "      <th>ridge_r2</th>\n",
              "      <td>0.662633</td>\n",
              "      <td>0.681049</td>\n",
              "    </tr>\n",
              "    <tr>\n",
              "      <th>lasso_mse</th>\n",
              "      <td>41.165321</td>\n",
              "      <td>40.769222</td>\n",
              "    </tr>\n",
              "    <tr>\n",
              "      <th>lasso_mae</th>\n",
              "      <td>4.321702</td>\n",
              "      <td>4.638222</td>\n",
              "    </tr>\n",
              "    <tr>\n",
              "      <th>lasso_r2</th>\n",
              "      <td>0.615747</td>\n",
              "      <td>0.640484</td>\n",
              "    </tr>\n",
              "  </tbody>\n",
              "</table>\n",
              "</div>\n",
              "      <button class=\"colab-df-convert\" onclick=\"convertToInteractive('df-521b305a-dcef-46a4-b383-bb723ae2b3a0')\"\n",
              "              title=\"Convert this dataframe to an interactive table.\"\n",
              "              style=\"display:none;\">\n",
              "        \n",
              "  <svg xmlns=\"http://www.w3.org/2000/svg\" height=\"24px\"viewBox=\"0 0 24 24\"\n",
              "       width=\"24px\">\n",
              "    <path d=\"M0 0h24v24H0V0z\" fill=\"none\"/>\n",
              "    <path d=\"M18.56 5.44l.94 2.06.94-2.06 2.06-.94-2.06-.94-.94-2.06-.94 2.06-2.06.94zm-11 1L8.5 8.5l.94-2.06 2.06-.94-2.06-.94L8.5 2.5l-.94 2.06-2.06.94zm10 10l.94 2.06.94-2.06 2.06-.94-2.06-.94-.94-2.06-.94 2.06-2.06.94z\"/><path d=\"M17.41 7.96l-1.37-1.37c-.4-.4-.92-.59-1.43-.59-.52 0-1.04.2-1.43.59L10.3 9.45l-7.72 7.72c-.78.78-.78 2.05 0 2.83L4 21.41c.39.39.9.59 1.41.59.51 0 1.02-.2 1.41-.59l7.78-7.78 2.81-2.81c.8-.78.8-2.07 0-2.86zM5.41 20L4 18.59l7.72-7.72 1.47 1.35L5.41 20z\"/>\n",
              "  </svg>\n",
              "      </button>\n",
              "      \n",
              "  <style>\n",
              "    .colab-df-container {\n",
              "      display:flex;\n",
              "      flex-wrap:wrap;\n",
              "      gap: 12px;\n",
              "    }\n",
              "\n",
              "    .colab-df-convert {\n",
              "      background-color: #E8F0FE;\n",
              "      border: none;\n",
              "      border-radius: 50%;\n",
              "      cursor: pointer;\n",
              "      display: none;\n",
              "      fill: #1967D2;\n",
              "      height: 32px;\n",
              "      padding: 0 0 0 0;\n",
              "      width: 32px;\n",
              "    }\n",
              "\n",
              "    .colab-df-convert:hover {\n",
              "      background-color: #E2EBFA;\n",
              "      box-shadow: 0px 1px 2px rgba(60, 64, 67, 0.3), 0px 1px 3px 1px rgba(60, 64, 67, 0.15);\n",
              "      fill: #174EA6;\n",
              "    }\n",
              "\n",
              "    [theme=dark] .colab-df-convert {\n",
              "      background-color: #3B4455;\n",
              "      fill: #D2E3FC;\n",
              "    }\n",
              "\n",
              "    [theme=dark] .colab-df-convert:hover {\n",
              "      background-color: #434B5C;\n",
              "      box-shadow: 0px 1px 3px 1px rgba(0, 0, 0, 0.15);\n",
              "      filter: drop-shadow(0px 1px 2px rgba(0, 0, 0, 0.3));\n",
              "      fill: #FFFFFF;\n",
              "    }\n",
              "  </style>\n",
              "\n",
              "      <script>\n",
              "        const buttonEl =\n",
              "          document.querySelector('#df-521b305a-dcef-46a4-b383-bb723ae2b3a0 button.colab-df-convert');\n",
              "        buttonEl.style.display =\n",
              "          google.colab.kernel.accessAllowed ? 'block' : 'none';\n",
              "\n",
              "        async function convertToInteractive(key) {\n",
              "          const element = document.querySelector('#df-521b305a-dcef-46a4-b383-bb723ae2b3a0');\n",
              "          const dataTable =\n",
              "            await google.colab.kernel.invokeFunction('convertToInteractive',\n",
              "                                                     [key], {});\n",
              "          if (!dataTable) return;\n",
              "\n",
              "          const docLinkHtml = 'Like what you see? Visit the ' +\n",
              "            '<a target=\"_blank\" href=https://colab.research.google.com/notebooks/data_table.ipynb>data table notebook</a>'\n",
              "            + ' to learn more about interactive tables.';\n",
              "          element.innerHTML = '';\n",
              "          dataTable['output_type'] = 'display_data';\n",
              "          await google.colab.output.renderOutput(dataTable, element);\n",
              "          const docLink = document.createElement('div');\n",
              "          docLink.innerHTML = docLinkHtml;\n",
              "          element.appendChild(docLink);\n",
              "        }\n",
              "      </script>\n",
              "    </div>\n",
              "  </div>\n",
              "  "
            ]
          },
          "metadata": {},
          "execution_count": 111
        }
      ]
    },
    {
      "cell_type": "code",
      "source": [
        "import re"
      ],
      "metadata": {
        "id": "ytyI1dBgf08R"
      },
      "execution_count": null,
      "outputs": []
    },
    {
      "cell_type": "code",
      "source": [
        "nombres_metricas = ['mse', 'mae', 'r2']\n",
        "\n",
        "for nombre in nombres_metricas:\n",
        "\n",
        "  for metrica, value in metricas.items():\n",
        "\n",
        "    if nombre in metrica:\n",
        "      plt.plot(re.sub('_.*', '', metrica), value[0], '-o', label='Train', color='g')\n",
        "      plt.plot(re.sub('_.*', '', metrica), value[1], '-*', label='Test', color='r')\n",
        "\n",
        "  print('--'+nombre+'--')\n",
        "  plt.xlabel(nombre)\n",
        "  plt.legend( [\"Train\", \"Test\"], bbox_to_anchor= (1.1, 1.15), ncol=2)\n",
        "  plt.title('Metrica '+nombre)\n",
        "  plt.show()\n",
        "  print (\"////////////\\n\")"
      ],
      "metadata": {
        "colab": {
          "base_uri": "https://localhost:8080/",
          "height": 1000
        },
        "id": "wS_0RV8VbX2T",
        "outputId": "0d465f12-ebd3-48fb-d2e2-ba23e839b48e"
      },
      "execution_count": null,
      "outputs": [
        {
          "output_type": "stream",
          "name": "stdout",
          "text": [
            "--mse--\n"
          ]
        },
        {
          "output_type": "display_data",
          "data": {
            "text/plain": [
              "<Figure size 432x288 with 1 Axes>"
            ],
            "image/png": "[encoded data removed]"
          },
          "metadata": {
            "needs_background": "light"
          }
        },
        {
          "output_type": "stream",
          "name": "stdout",
          "text": [
            "////////////\n",
            "\n",
            "--mae--\n"
          ]
        },
        {
          "output_type": "display_data",
          "data": {
            "text/plain": [
              "<Figure size 432x288 with 1 Axes>"
            ],
            "image/png": "[encoded data removed]"
          },
          "metadata": {
            "needs_background": "light"
          }
        },
        {
          "output_type": "stream",
          "name": "stdout",
          "text": [
            "////////////\n",
            "\n",
            "--r2--\n"
          ]
        },
        {
          "output_type": "display_data",
          "data": {
            "text/plain": [
              "<Figure size 432x288 with 1 Axes>"
            ],
            "image/png": "[encoded data removed]"
          },
          "metadata": {
            "needs_background": "light"
          }
        },
        {
          "output_type": "stream",
          "name": "stdout",
          "text": [
            "////////////\n",
            "\n"
          ]
        }
      ]
    },
    {
      "cell_type": "markdown",
      "source": [
        "## 1.5 Conclusiones regresion lineal\n",
        "\n",
        "\n",
        ">Para este problema, la regresión lineal básica, solo logra una eficiencia de `R2` del `57%` para **evaluación** y `58%` de **entrenamiento**, mientras que la regresión **polinomial** alcanza un R2 de `69%` de **evaluación** y un `69.3%` de **entrenamiento** usando un polinomio de `4to` grado.\n",
        "\n",
        "\n",
        ">Para este caso específico, un modelo de regresión no es el más óptimo, dado que aun se puede mejorar las predicciones con un modelo con algún tipo de transformación no lineal que ayude reducir la varianza en los datos de entrada y por lo  tanto, ayude a mejorar las predicciones.\n"
      ],
      "metadata": {
        "id": "rfZBbL0lEvOx"
      }
    },
    {
      "cell_type": "markdown",
      "source": [
        "# 2. Regresión múltiple"
      ],
      "metadata": {
        "id": "7tHt2vKL5-CL"
      }
    },
    {
      "cell_type": "code",
      "source": [
        "df = pd.read_csv('https://raw.githubusercontent.com/marypazrf/bdd/main/kc_house_data.csv')\n",
        "df.sample(10)"
      ],
      "metadata": {
        "colab": {
          "base_uri": "https://localhost:8080/",
          "height": 456
        },
        "id": "dexPP2BE6L5H",
        "outputId": "ebeddd59-26cd-402b-ac10-94ced11e8718"
      },
      "execution_count": null,
      "outputs": [
        {
          "output_type": "execute_result",
          "data": {
            "text/plain": [
              "               id             date      price  bedrooms  bathrooms  \\\n",
              "735    2591820310  20141006T000000   365000.0         4       2.25   \n",
              "2830   7974200820  20140821T000000   865000.0         5       3.00   \n",
              "4106   7701450110  20140815T000000  1038000.0         4       2.50   \n",
              "16218  9522300010  20150331T000000  1490000.0         3       3.50   \n",
              "19964  9510861140  20140714T000000   711000.0         3       2.50   \n",
              "1227   1761300310  20140827T000000   211000.0         4       2.00   \n",
              "18849  7732410120  20140819T000000   790000.0         4       2.50   \n",
              "19369  7010701383  20141017T000000   680000.0         3       2.50   \n",
              "20164   291310170  20140804T000000   384500.0         3       2.50   \n",
              "7139   4232901990  20140516T000000   605000.0         2       1.00   \n",
              "\n",
              "       sqft_living  sqft_lot  floors  waterfront  view  ...  grade  \\\n",
              "735           2070      8893     2.0           0     0  ...      8   \n",
              "2830          2900      6730     1.0           0     0  ...      8   \n",
              "4106          3770     10893     2.0           0     2  ...     11   \n",
              "16218         4560     14608     2.0           0     2  ...     12   \n",
              "19964         2550      5376     2.0           0     0  ...      9   \n",
              "1227          1710      8288     1.5           0     0  ...      7   \n",
              "18849         2690      8036     2.0           0     0  ...      9   \n",
              "19369         1800      4400     1.0           0     0  ...      7   \n",
              "20164         1600      2610     2.0           0     0  ...      8   \n",
              "7139           910      3600     1.0           0     0  ...      7   \n",
              "\n",
              "       sqft_above  sqft_basement  yr_built  yr_renovated  zipcode      lat  \\\n",
              "735          2070              0      1986             0    98058  47.4388   \n",
              "2830         1830           1070      1977             0    98115  47.6784   \n",
              "4106         3770              0      1997             0    98006  47.5646   \n",
              "16218        4560              0      1990             0    98034  47.6995   \n",
              "19964        2550              0      2004             0    98052  47.6647   \n",
              "1227         1710              0      1970             0    98031  47.3947   \n",
              "18849        2690              0      1987             0    98007  47.6596   \n",
              "19369        1350            450      1970             0    98199  47.6599   \n",
              "20164        1600              0      2005             0    98027  47.5344   \n",
              "7139          910              0      1909             0    98119  47.6341   \n",
              "\n",
              "          long  sqft_living15  sqft_lot15  \n",
              "735   -122.162           2390        7700  \n",
              "2830  -122.285           2370        6283  \n",
              "4106  -122.129           3710        9685  \n",
              "16218 -122.228           4050       14226  \n",
              "19964 -122.083           2250        4050  \n",
              "1227  -122.174           1710        7200  \n",
              "18849 -122.144           2420        8087  \n",
              "19369 -122.396           1920        4400  \n",
              "20164 -122.068           1445        1288  \n",
              "7139  -122.361           1720        3600  \n",
              "\n",
              "[10 rows x 21 columns]"
            ],
            "text/html": [
              "\n",
              "  <div id=\"df-cc11c43e-6a66-4a41-b15f-fd00060b8629\">\n",
              "    <div class=\"colab-df-container\">\n",
              "      <div>\n",
              "<style scoped>\n",
              "    .dataframe tbody tr th:only-of-type {\n",
              "        vertical-align: middle;\n",
              "    }\n",
              "\n",
              "    .dataframe tbody tr th {\n",
              "        vertical-align: top;\n",
              "    }\n",
              "\n",
              "    .dataframe thead th {\n",
              "        text-align: right;\n",
              "    }\n",
              "</style>\n",
              "<table border=\"1\" class=\"dataframe\">\n",
              "  <thead>\n",
              "    <tr style=\"text-align: right;\">\n",
              "      <th></th>\n",
              "      <th>id</th>\n",
              "      <th>date</th>\n",
              "      <th>price</th>\n",
              "      <th>bedrooms</th>\n",
              "      <th>bathrooms</th>\n",
              "      <th>sqft_living</th>\n",
              "      <th>sqft_lot</th>\n",
              "      <th>floors</th>\n",
              "      <th>waterfront</th>\n",
              "      <th>view</th>\n",
              "      <th>...</th>\n",
              "      <th>grade</th>\n",
              "      <th>sqft_above</th>\n",
              "      <th>sqft_basement</th>\n",
              "      <th>yr_built</th>\n",
              "      <th>yr_renovated</th>\n",
              "      <th>zipcode</th>\n",
              "      <th>lat</th>\n",
              "      <th>long</th>\n",
              "      <th>sqft_living15</th>\n",
              "      <th>sqft_lot15</th>\n",
              "    </tr>\n",
              "  </thead>\n",
              "  <tbody>\n",
              "    <tr>\n",
              "      <th>735</th>\n",
              "      <td>2591820310</td>\n",
              "      <td>20141006T000000</td>\n",
              "      <td>365000.0</td>\n",
              "      <td>4</td>\n",
              "      <td>2.25</td>\n",
              "      <td>2070</td>\n",
              "      <td>8893</td>\n",
              "      <td>2.0</td>\n",
              "      <td>0</td>\n",
              "      <td>0</td>\n",
              "      <td>...</td>\n",
              "      <td>8</td>\n",
              "      <td>2070</td>\n",
              "      <td>0</td>\n",
              "      <td>1986</td>\n",
              "      <td>0</td>\n",
              "      <td>98058</td>\n",
              "      <td>47.4388</td>\n",
              "      <td>-122.162</td>\n",
              "      <td>2390</td>\n",
              "      <td>7700</td>\n",
              "    </tr>\n",
              "    <tr>\n",
              "      <th>2830</th>\n",
              "      <td>7974200820</td>\n",
              "      <td>20140821T000000</td>\n",
              "      <td>865000.0</td>\n",
              "      <td>5</td>\n",
              "      <td>3.00</td>\n",
              "      <td>2900</td>\n",
              "      <td>6730</td>\n",
              "      <td>1.0</td>\n",
              "      <td>0</td>\n",
              "      <td>0</td>\n",
              "      <td>...</td>\n",
              "      <td>8</td>\n",
              "      <td>1830</td>\n",
              "      <td>1070</td>\n",
              "      <td>1977</td>\n",
              "      <td>0</td>\n",
              "      <td>98115</td>\n",
              "      <td>47.6784</td>\n",
              "      <td>-122.285</td>\n",
              "      <td>2370</td>\n",
              "      <td>6283</td>\n",
              "    </tr>\n",
              "    <tr>\n",
              "      <th>4106</th>\n",
              "      <td>7701450110</td>\n",
              "      <td>20140815T000000</td>\n",
              "      <td>1038000.0</td>\n",
              "      <td>4</td>\n",
              "      <td>2.50</td>\n",
              "      <td>3770</td>\n",
              "      <td>10893</td>\n",
              "      <td>2.0</td>\n",
              "      <td>0</td>\n",
              "      <td>2</td>\n",
              "      <td>...</td>\n",
              "      <td>11</td>\n",
              "      <td>3770</td>\n",
              "      <td>0</td>\n",
              "      <td>1997</td>\n",
              "      <td>0</td>\n",
              "      <td>98006</td>\n",
              "      <td>47.5646</td>\n",
              "      <td>-122.129</td>\n",
              "      <td>3710</td>\n",
              "      <td>9685</td>\n",
              "    </tr>\n",
              "    <tr>\n",
              "      <th>16218</th>\n",
              "      <td>9522300010</td>\n",
              "      <td>20150331T000000</td>\n",
              "      <td>1490000.0</td>\n",
              "      <td>3</td>\n",
              "      <td>3.50</td>\n",
              "      <td>4560</td>\n",
              "      <td>14608</td>\n",
              "      <td>2.0</td>\n",
              "      <td>0</td>\n",
              "      <td>2</td>\n",
              "      <td>...</td>\n",
              "      <td>12</td>\n",
              "      <td>4560</td>\n",
              "      <td>0</td>\n",
              "      <td>1990</td>\n",
              "      <td>0</td>\n",
              "      <td>98034</td>\n",
              "      <td>47.6995</td>\n",
              "      <td>-122.228</td>\n",
              "      <td>4050</td>\n",
              "      <td>14226</td>\n",
              "    </tr>\n",
              "    <tr>\n",
              "      <th>19964</th>\n",
              "      <td>9510861140</td>\n",
              "      <td>20140714T000000</td>\n",
              "      <td>711000.0</td>\n",
              "      <td>3</td>\n",
              "      <td>2.50</td>\n",
              "      <td>2550</td>\n",
              "      <td>5376</td>\n",
              "      <td>2.0</td>\n",
              "      <td>0</td>\n",
              "      <td>0</td>\n",
              "      <td>...</td>\n",
              "      <td>9</td>\n",
              "      <td>2550</td>\n",
              "      <td>0</td>\n",
              "      <td>2004</td>\n",
              "      <td>0</td>\n",
              "      <td>98052</td>\n",
              "      <td>47.6647</td>\n",
              "      <td>-122.083</td>\n",
              "      <td>2250</td>\n",
              "      <td>4050</td>\n",
              "    </tr>\n",
              "    <tr>\n",
              "      <th>1227</th>\n",
              "      <td>1761300310</td>\n",
              "      <td>20140827T000000</td>\n",
              "      <td>211000.0</td>\n",
              "      <td>4</td>\n",
              "      <td>2.00</td>\n",
              "      <td>1710</td>\n",
              "      <td>8288</td>\n",
              "      <td>1.5</td>\n",
              "      <td>0</td>\n",
              "      <td>0</td>\n",
              "      <td>...</td>\n",
              "      <td>7</td>\n",
              "      <td>1710</td>\n",
              "      <td>0</td>\n",
              "      <td>1970</td>\n",
              "      <td>0</td>\n",
              "      <td>98031</td>\n",
              "      <td>47.3947</td>\n",
              "      <td>-122.174</td>\n",
              "      <td>1710</td>\n",
              "      <td>7200</td>\n",
              "    </tr>\n",
              "    <tr>\n",
              "      <th>18849</th>\n",
              "      <td>7732410120</td>\n",
              "      <td>20140819T000000</td>\n",
              "      <td>790000.0</td>\n",
              "      <td>4</td>\n",
              "      <td>2.50</td>\n",
              "      <td>2690</td>\n",
              "      <td>8036</td>\n",
              "      <td>2.0</td>\n",
              "      <td>0</td>\n",
              "      <td>0</td>\n",
              "      <td>...</td>\n",
              "      <td>9</td>\n",
              "      <td>2690</td>\n",
              "      <td>0</td>\n",
              "      <td>1987</td>\n",
              "      <td>0</td>\n",
              "      <td>98007</td>\n",
              "      <td>47.6596</td>\n",
              "      <td>-122.144</td>\n",
              "      <td>2420</td>\n",
              "      <td>8087</td>\n",
              "    </tr>\n",
              "    <tr>\n",
              "      <th>19369</th>\n",
              "      <td>7010701383</td>\n",
              "      <td>20141017T000000</td>\n",
              "      <td>680000.0</td>\n",
              "      <td>3</td>\n",
              "      <td>2.50</td>\n",
              "      <td>1800</td>\n",
              "      <td>4400</td>\n",
              "      <td>1.0</td>\n",
              "      <td>0</td>\n",
              "      <td>0</td>\n",
              "      <td>...</td>\n",
              "      <td>7</td>\n",
              "      <td>1350</td>\n",
              "      <td>450</td>\n",
              "      <td>1970</td>\n",
              "      <td>0</td>\n",
              "      <td>98199</td>\n",
              "      <td>47.6599</td>\n",
              "      <td>-122.396</td>\n",
              "      <td>1920</td>\n",
              "      <td>4400</td>\n",
              "    </tr>\n",
              "    <tr>\n",
              "      <th>20164</th>\n",
              "      <td>291310170</td>\n",
              "      <td>20140804T000000</td>\n",
              "      <td>384500.0</td>\n",
              "      <td>3</td>\n",
              "      <td>2.50</td>\n",
              "      <td>1600</td>\n",
              "      <td>2610</td>\n",
              "      <td>2.0</td>\n",
              "      <td>0</td>\n",
              "      <td>0</td>\n",
              "      <td>...</td>\n",
              "      <td>8</td>\n",
              "      <td>1600</td>\n",
              "      <td>0</td>\n",
              "      <td>2005</td>\n",
              "      <td>0</td>\n",
              "      <td>98027</td>\n",
              "      <td>47.5344</td>\n",
              "      <td>-122.068</td>\n",
              "      <td>1445</td>\n",
              "      <td>1288</td>\n",
              "    </tr>\n",
              "    <tr>\n",
              "      <th>7139</th>\n",
              "      <td>4232901990</td>\n",
              "      <td>20140516T000000</td>\n",
              "      <td>605000.0</td>\n",
              "      <td>2</td>\n",
              "      <td>1.00</td>\n",
              "      <td>910</td>\n",
              "      <td>3600</td>\n",
              "      <td>1.0</td>\n",
              "      <td>0</td>\n",
              "      <td>0</td>\n",
              "      <td>...</td>\n",
              "      <td>7</td>\n",
              "      <td>910</td>\n",
              "      <td>0</td>\n",
              "      <td>1909</td>\n",
              "      <td>0</td>\n",
              "      <td>98119</td>\n",
              "      <td>47.6341</td>\n",
              "      <td>-122.361</td>\n",
              "      <td>1720</td>\n",
              "      <td>3600</td>\n",
              "    </tr>\n",
              "  </tbody>\n",
              "</table>\n",
              "<p>10 rows × 21 columns</p>\n",
              "</div>\n",
              "      <button class=\"colab-df-convert\" onclick=\"convertToInteractive('df-cc11c43e-6a66-4a41-b15f-fd00060b8629')\"\n",
              "              title=\"Convert this dataframe to an interactive table.\"\n",
              "              style=\"display:none;\">\n",
              "        \n",
              "  <svg xmlns=\"http://www.w3.org/2000/svg\" height=\"24px\"viewBox=\"0 0 24 24\"\n",
              "       width=\"24px\">\n",
              "    <path d=\"M0 0h24v24H0V0z\" fill=\"none\"/>\n",
              "    <path d=\"M18.56 5.44l.94 2.06.94-2.06 2.06-.94-2.06-.94-.94-2.06-.94 2.06-2.06.94zm-11 1L8.5 8.5l.94-2.06 2.06-.94-2.06-.94L8.5 2.5l-.94 2.06-2.06.94zm10 10l.94 2.06.94-2.06 2.06-.94-2.06-.94-.94-2.06-.94 2.06-2.06.94z\"/><path d=\"M17.41 7.96l-1.37-1.37c-.4-.4-.92-.59-1.43-.59-.52 0-1.04.2-1.43.59L10.3 9.45l-7.72 7.72c-.78.78-.78 2.05 0 2.83L4 21.41c.39.39.9.59 1.41.59.51 0 1.02-.2 1.41-.59l7.78-7.78 2.81-2.81c.8-.78.8-2.07 0-2.86zM5.41 20L4 18.59l7.72-7.72 1.47 1.35L5.41 20z\"/>\n",
              "  </svg>\n",
              "      </button>\n",
              "      \n",
              "  <style>\n",
              "    .colab-df-container {\n",
              "      display:flex;\n",
              "      flex-wrap:wrap;\n",
              "      gap: 12px;\n",
              "    }\n",
              "\n",
              "    .colab-df-convert {\n",
              "      background-color: #E8F0FE;\n",
              "      border: none;\n",
              "      border-radius: 50%;\n",
              "      cursor: pointer;\n",
              "      display: none;\n",
              "      fill: #1967D2;\n",
              "      height: 32px;\n",
              "      padding: 0 0 0 0;\n",
              "      width: 32px;\n",
              "    }\n",
              "\n",
              "    .colab-df-convert:hover {\n",
              "      background-color: #E2EBFA;\n",
              "      box-shadow: 0px 1px 2px rgba(60, 64, 67, 0.3), 0px 1px 3px 1px rgba(60, 64, 67, 0.15);\n",
              "      fill: #174EA6;\n",
              "    }\n",
              "\n",
              "    [theme=dark] .colab-df-convert {\n",
              "      background-color: #3B4455;\n",
              "      fill: #D2E3FC;\n",
              "    }\n",
              "\n",
              "    [theme=dark] .colab-df-convert:hover {\n",
              "      background-color: #434B5C;\n",
              "      box-shadow: 0px 1px 3px 1px rgba(0, 0, 0, 0.15);\n",
              "      filter: drop-shadow(0px 1px 2px rgba(0, 0, 0, 0.3));\n",
              "      fill: #FFFFFF;\n",
              "    }\n",
              "  </style>\n",
              "\n",
              "      <script>\n",
              "        const buttonEl =\n",
              "          document.querySelector('#df-cc11c43e-6a66-4a41-b15f-fd00060b8629 button.colab-df-convert');\n",
              "        buttonEl.style.display =\n",
              "          google.colab.kernel.accessAllowed ? 'block' : 'none';\n",
              "\n",
              "        async function convertToInteractive(key) {\n",
              "          const element = document.querySelector('#df-cc11c43e-6a66-4a41-b15f-fd00060b8629');\n",
              "          const dataTable =\n",
              "            await google.colab.kernel.invokeFunction('convertToInteractive',\n",
              "                                                     [key], {});\n",
              "          if (!dataTable) return;\n",
              "\n",
              "          const docLinkHtml = 'Like what you see? Visit the ' +\n",
              "            '<a target=\"_blank\" href=https://colab.research.google.com/notebooks/data_table.ipynb>data table notebook</a>'\n",
              "            + ' to learn more about interactive tables.';\n",
              "          element.innerHTML = '';\n",
              "          dataTable['output_type'] = 'display_data';\n",
              "          await google.colab.output.renderOutput(dataTable, element);\n",
              "          const docLink = document.createElement('div');\n",
              "          docLink.innerHTML = docLinkHtml;\n",
              "          element.appendChild(docLink);\n",
              "        }\n",
              "      </script>\n",
              "    </div>\n",
              "  </div>\n",
              "  "
            ]
          },
          "metadata": {},
          "execution_count": 2
        }
      ]
    },
    {
      "cell_type": "code",
      "source": [
        "df.info()"
      ],
      "metadata": {
        "colab": {
          "base_uri": "https://localhost:8080/"
        },
        "id": "LHpL9Yau6Yye",
        "outputId": "7b9dace6-df3f-43c7-d025-e08ca5a4b66e"
      },
      "execution_count": null,
      "outputs": [
        {
          "output_type": "stream",
          "name": "stdout",
          "text": [
            "<class 'pandas.core.frame.DataFrame'>\n",
            "RangeIndex: 21613 entries, 0 to 21612\n",
            "Data columns (total 21 columns):\n",
            " #   Column         Non-Null Count  Dtype  \n",
            "---  ------         --------------  -----  \n",
            " 0   id             21613 non-null  int64  \n",
            " 1   date           21613 non-null  object \n",
            " 2   price          21613 non-null  float64\n",
            " 3   bedrooms       21613 non-null  int64  \n",
            " 4   bathrooms      21613 non-null  float64\n",
            " 5   sqft_living    21613 non-null  int64  \n",
            " 6   sqft_lot       21613 non-null  int64  \n",
            " 7   floors         21613 non-null  float64\n",
            " 8   waterfront     21613 non-null  int64  \n",
            " 9   view           21613 non-null  int64  \n",
            " 10  condition      21613 non-null  int64  \n",
            " 11  grade          21613 non-null  int64  \n",
            " 12  sqft_above     21613 non-null  int64  \n",
            " 13  sqft_basement  21613 non-null  int64  \n",
            " 14  yr_built       21613 non-null  int64  \n",
            " 15  yr_renovated   21613 non-null  int64  \n",
            " 16  zipcode        21613 non-null  int64  \n",
            " 17  lat            21613 non-null  float64\n",
            " 18  long           21613 non-null  float64\n",
            " 19  sqft_living15  21613 non-null  int64  \n",
            " 20  sqft_lot15     21613 non-null  int64  \n",
            "dtypes: float64(5), int64(15), object(1)\n",
            "memory usage: 3.5+ MB\n"
          ]
        }
      ]
    },
    {
      "cell_type": "code",
      "source": [
        "df.describe()"
      ],
      "metadata": {
        "colab": {
          "base_uri": "https://localhost:8080/",
          "height": 364
        },
        "id": "oOK2D2qO6bHT",
        "outputId": "cef03b2d-cff4-467f-8483-c79e92e72ea2"
      },
      "execution_count": null,
      "outputs": [
        {
          "output_type": "execute_result",
          "data": {
            "text/plain": [
              "                 id         price      bedrooms     bathrooms   sqft_living  \\\n",
              "count  2.161300e+04  2.161300e+04  21613.000000  21613.000000  21613.000000   \n",
              "mean   4.580302e+09  5.400881e+05      3.370842      2.114757   2079.899736   \n",
              "std    2.876566e+09  3.671272e+05      0.930062      0.770163    918.440897   \n",
              "min    1.000102e+06  7.500000e+04      0.000000      0.000000    290.000000   \n",
              "25%    2.123049e+09  3.219500e+05      3.000000      1.750000   1427.000000   \n",
              "50%    3.904930e+09  4.500000e+05      3.000000      2.250000   1910.000000   \n",
              "75%    7.308900e+09  6.450000e+05      4.000000      2.500000   2550.000000   \n",
              "max    9.900000e+09  7.700000e+06     33.000000      8.000000  13540.000000   \n",
              "\n",
              "           sqft_lot        floors    waterfront          view     condition  \\\n",
              "count  2.161300e+04  21613.000000  21613.000000  21613.000000  21613.000000   \n",
              "mean   1.510697e+04      1.494309      0.007542      0.234303      3.409430   \n",
              "std    4.142051e+04      0.539989      0.086517      0.766318      0.650743   \n",
              "min    5.200000e+02      1.000000      0.000000      0.000000      1.000000   \n",
              "25%    5.040000e+03      1.000000      0.000000      0.000000      3.000000   \n",
              "50%    7.618000e+03      1.500000      0.000000      0.000000      3.000000   \n",
              "75%    1.068800e+04      2.000000      0.000000      0.000000      4.000000   \n",
              "max    1.651359e+06      3.500000      1.000000      4.000000      5.000000   \n",
              "\n",
              "              grade    sqft_above  sqft_basement      yr_built  yr_renovated  \\\n",
              "count  21613.000000  21613.000000   21613.000000  21613.000000  21613.000000   \n",
              "mean       7.656873   1788.390691     291.509045   1971.005136     84.402258   \n",
              "std        1.175459    828.090978     442.575043     29.373411    401.679240   \n",
              "min        1.000000    290.000000       0.000000   1900.000000      0.000000   \n",
              "25%        7.000000   1190.000000       0.000000   1951.000000      0.000000   \n",
              "50%        7.000000   1560.000000       0.000000   1975.000000      0.000000   \n",
              "75%        8.000000   2210.000000     560.000000   1997.000000      0.000000   \n",
              "max       13.000000   9410.000000    4820.000000   2015.000000   2015.000000   \n",
              "\n",
              "            zipcode           lat          long  sqft_living15     sqft_lot15  \n",
              "count  21613.000000  21613.000000  21613.000000   21613.000000   21613.000000  \n",
              "mean   98077.939805     47.560053   -122.213896    1986.552492   12768.455652  \n",
              "std       53.505026      0.138564      0.140828     685.391304   27304.179631  \n",
              "min    98001.000000     47.155900   -122.519000     399.000000     651.000000  \n",
              "25%    98033.000000     47.471000   -122.328000    1490.000000    5100.000000  \n",
              "50%    98065.000000     47.571800   -122.230000    1840.000000    7620.000000  \n",
              "75%    98118.000000     47.678000   -122.125000    2360.000000   10083.000000  \n",
              "max    98199.000000     47.777600   -121.315000    6210.000000  871200.000000  "
            ],
            "text/html": [
              "\n",
              "  <div id=\"df-284f3116-d458-4c1d-9dc5-df9f392b5952\">\n",
              "    <div class=\"colab-df-container\">\n",
              "      <div>\n",
              "<style scoped>\n",
              "    .dataframe tbody tr th:only-of-type {\n",
              "        vertical-align: middle;\n",
              "    }\n",
              "\n",
              "    .dataframe tbody tr th {\n",
              "        vertical-align: top;\n",
              "    }\n",
              "\n",
              "    .dataframe thead th {\n",
              "        text-align: right;\n",
              "    }\n",
              "</style>\n",
              "<table border=\"1\" class=\"dataframe\">\n",
              "  <thead>\n",
              "    <tr style=\"text-align: right;\">\n",
              "      <th></th>\n",
              "      <th>id</th>\n",
              "      <th>price</th>\n",
              "      <th>bedrooms</th>\n",
              "      <th>bathrooms</th>\n",
              "      <th>sqft_living</th>\n",
              "      <th>sqft_lot</th>\n",
              "      <th>floors</th>\n",
              "      <th>waterfront</th>\n",
              "      <th>view</th>\n",
              "      <th>condition</th>\n",
              "      <th>grade</th>\n",
              "      <th>sqft_above</th>\n",
              "      <th>sqft_basement</th>\n",
              "      <th>yr_built</th>\n",
              "      <th>yr_renovated</th>\n",
              "      <th>zipcode</th>\n",
              "      <th>lat</th>\n",
              "      <th>long</th>\n",
              "      <th>sqft_living15</th>\n",
              "      <th>sqft_lot15</th>\n",
              "    </tr>\n",
              "  </thead>\n",
              "  <tbody>\n",
              "    <tr>\n",
              "      <th>count</th>\n",
              "      <td>2.161300e+04</td>\n",
              "      <td>2.161300e+04</td>\n",
              "      <td>21613.000000</td>\n",
              "      <td>21613.000000</td>\n",
              "      <td>21613.000000</td>\n",
              "      <td>2.161300e+04</td>\n",
              "      <td>21613.000000</td>\n",
              "      <td>21613.000000</td>\n",
              "      <td>21613.000000</td>\n",
              "      <td>21613.000000</td>\n",
              "      <td>21613.000000</td>\n",
              "      <td>21613.000000</td>\n",
              "      <td>21613.000000</td>\n",
              "      <td>21613.000000</td>\n",
              "      <td>21613.000000</td>\n",
              "      <td>21613.000000</td>\n",
              "      <td>21613.000000</td>\n",
              "      <td>21613.000000</td>\n",
              "      <td>21613.000000</td>\n",
              "      <td>21613.000000</td>\n",
              "    </tr>\n",
              "    <tr>\n",
              "      <th>mean</th>\n",
              "      <td>4.580302e+09</td>\n",
              "      <td>5.400881e+05</td>\n",
              "      <td>3.370842</td>\n",
              "      <td>2.114757</td>\n",
              "      <td>2079.899736</td>\n",
              "      <td>1.510697e+04</td>\n",
              "      <td>1.494309</td>\n",
              "      <td>0.007542</td>\n",
              "      <td>0.234303</td>\n",
              "      <td>3.409430</td>\n",
              "      <td>7.656873</td>\n",
              "      <td>1788.390691</td>\n",
              "      <td>291.509045</td>\n",
              "      <td>1971.005136</td>\n",
              "      <td>84.402258</td>\n",
              "      <td>98077.939805</td>\n",
              "      <td>47.560053</td>\n",
              "      <td>-122.213896</td>\n",
              "      <td>1986.552492</td>\n",
              "      <td>12768.455652</td>\n",
              "    </tr>\n",
              "    <tr>\n",
              "      <th>std</th>\n",
              "      <td>2.876566e+09</td>\n",
              "      <td>3.671272e+05</td>\n",
              "      <td>0.930062</td>\n",
              "      <td>0.770163</td>\n",
              "      <td>918.440897</td>\n",
              "      <td>4.142051e+04</td>\n",
              "      <td>0.539989</td>\n",
              "      <td>0.086517</td>\n",
              "      <td>0.766318</td>\n",
              "      <td>0.650743</td>\n",
              "      <td>1.175459</td>\n",
              "      <td>828.090978</td>\n",
              "      <td>442.575043</td>\n",
              "      <td>29.373411</td>\n",
              "      <td>401.679240</td>\n",
              "      <td>53.505026</td>\n",
              "      <td>0.138564</td>\n",
              "      <td>0.140828</td>\n",
              "      <td>685.391304</td>\n",
              "      <td>27304.179631</td>\n",
              "    </tr>\n",
              "    <tr>\n",
              "      <th>min</th>\n",
              "      <td>1.000102e+06</td>\n",
              "      <td>7.500000e+04</td>\n",
              "      <td>0.000000</td>\n",
              "      <td>0.000000</td>\n",
              "      <td>290.000000</td>\n",
              "      <td>5.200000e+02</td>\n",
              "      <td>1.000000</td>\n",
              "      <td>0.000000</td>\n",
              "      <td>0.000000</td>\n",
              "      <td>1.000000</td>\n",
              "      <td>1.000000</td>\n",
              "      <td>290.000000</td>\n",
              "      <td>0.000000</td>\n",
              "      <td>1900.000000</td>\n",
              "      <td>0.000000</td>\n",
              "      <td>98001.000000</td>\n",
              "      <td>47.155900</td>\n",
              "      <td>-122.519000</td>\n",
              "      <td>399.000000</td>\n",
              "      <td>651.000000</td>\n",
              "    </tr>\n",
              "    <tr>\n",
              "      <th>25%</th>\n",
              "      <td>2.123049e+09</td>\n",
              "      <td>3.219500e+05</td>\n",
              "      <td>3.000000</td>\n",
              "      <td>1.750000</td>\n",
              "      <td>1427.000000</td>\n",
              "      <td>5.040000e+03</td>\n",
              "      <td>1.000000</td>\n",
              "      <td>0.000000</td>\n",
              "      <td>0.000000</td>\n",
              "      <td>3.000000</td>\n",
              "      <td>7.000000</td>\n",
              "      <td>1190.000000</td>\n",
              "      <td>0.000000</td>\n",
              "      <td>1951.000000</td>\n",
              "      <td>0.000000</td>\n",
              "      <td>98033.000000</td>\n",
              "      <td>47.471000</td>\n",
              "      <td>-122.328000</td>\n",
              "      <td>1490.000000</td>\n",
              "      <td>5100.000000</td>\n",
              "    </tr>\n",
              "    <tr>\n",
              "      <th>50%</th>\n",
              "      <td>3.904930e+09</td>\n",
              "      <td>4.500000e+05</td>\n",
              "      <td>3.000000</td>\n",
              "      <td>2.250000</td>\n",
              "      <td>1910.000000</td>\n",
              "      <td>7.618000e+03</td>\n",
              "      <td>1.500000</td>\n",
              "      <td>0.000000</td>\n",
              "      <td>0.000000</td>\n",
              "      <td>3.000000</td>\n",
              "      <td>7.000000</td>\n",
              "      <td>1560.000000</td>\n",
              "      <td>0.000000</td>\n",
              "      <td>1975.000000</td>\n",
              "      <td>0.000000</td>\n",
              "      <td>98065.000000</td>\n",
              "      <td>47.571800</td>\n",
              "      <td>-122.230000</td>\n",
              "      <td>1840.000000</td>\n",
              "      <td>7620.000000</td>\n",
              "    </tr>\n",
              "    <tr>\n",
              "      <th>75%</th>\n",
              "      <td>7.308900e+09</td>\n",
              "      <td>6.450000e+05</td>\n",
              "      <td>4.000000</td>\n",
              "      <td>2.500000</td>\n",
              "      <td>2550.000000</td>\n",
              "      <td>1.068800e+04</td>\n",
              "      <td>2.000000</td>\n",
              "      <td>0.000000</td>\n",
              "      <td>0.000000</td>\n",
              "      <td>4.000000</td>\n",
              "      <td>8.000000</td>\n",
              "      <td>2210.000000</td>\n",
              "      <td>560.000000</td>\n",
              "      <td>1997.000000</td>\n",
              "      <td>0.000000</td>\n",
              "      <td>98118.000000</td>\n",
              "      <td>47.678000</td>\n",
              "      <td>-122.125000</td>\n",
              "      <td>2360.000000</td>\n",
              "      <td>10083.000000</td>\n",
              "    </tr>\n",
              "    <tr>\n",
              "      <th>max</th>\n",
              "      <td>9.900000e+09</td>\n",
              "      <td>7.700000e+06</td>\n",
              "      <td>33.000000</td>\n",
              "      <td>8.000000</td>\n",
              "      <td>13540.000000</td>\n",
              "      <td>1.651359e+06</td>\n",
              "      <td>3.500000</td>\n",
              "      <td>1.000000</td>\n",
              "      <td>4.000000</td>\n",
              "      <td>5.000000</td>\n",
              "      <td>13.000000</td>\n",
              "      <td>9410.000000</td>\n",
              "      <td>4820.000000</td>\n",
              "      <td>2015.000000</td>\n",
              "      <td>2015.000000</td>\n",
              "      <td>98199.000000</td>\n",
              "      <td>47.777600</td>\n",
              "      <td>-121.315000</td>\n",
              "      <td>6210.000000</td>\n",
              "      <td>871200.000000</td>\n",
              "    </tr>\n",
              "  </tbody>\n",
              "</table>\n",
              "</div>\n",
              "      <button class=\"colab-df-convert\" onclick=\"convertToInteractive('df-284f3116-d458-4c1d-9dc5-df9f392b5952')\"\n",
              "              title=\"Convert this dataframe to an interactive table.\"\n",
              "              style=\"display:none;\">\n",
              "        \n",
              "  <svg xmlns=\"http://www.w3.org/2000/svg\" height=\"24px\"viewBox=\"0 0 24 24\"\n",
              "       width=\"24px\">\n",
              "    <path d=\"M0 0h24v24H0V0z\" fill=\"none\"/>\n",
              "    <path d=\"M18.56 5.44l.94 2.06.94-2.06 2.06-.94-2.06-.94-.94-2.06-.94 2.06-2.06.94zm-11 1L8.5 8.5l.94-2.06 2.06-.94-2.06-.94L8.5 2.5l-.94 2.06-2.06.94zm10 10l.94 2.06.94-2.06 2.06-.94-2.06-.94-.94-2.06-.94 2.06-2.06.94z\"/><path d=\"M17.41 7.96l-1.37-1.37c-.4-.4-.92-.59-1.43-.59-.52 0-1.04.2-1.43.59L10.3 9.45l-7.72 7.72c-.78.78-.78 2.05 0 2.83L4 21.41c.39.39.9.59 1.41.59.51 0 1.02-.2 1.41-.59l7.78-7.78 2.81-2.81c.8-.78.8-2.07 0-2.86zM5.41 20L4 18.59l7.72-7.72 1.47 1.35L5.41 20z\"/>\n",
              "  </svg>\n",
              "      </button>\n",
              "      \n",
              "  <style>\n",
              "    .colab-df-container {\n",
              "      display:flex;\n",
              "      flex-wrap:wrap;\n",
              "      gap: 12px;\n",
              "    }\n",
              "\n",
              "    .colab-df-convert {\n",
              "      background-color: #E8F0FE;\n",
              "      border: none;\n",
              "      border-radius: 50%;\n",
              "      cursor: pointer;\n",
              "      display: none;\n",
              "      fill: #1967D2;\n",
              "      height: 32px;\n",
              "      padding: 0 0 0 0;\n",
              "      width: 32px;\n",
              "    }\n",
              "\n",
              "    .colab-df-convert:hover {\n",
              "      background-color: #E2EBFA;\n",
              "      box-shadow: 0px 1px 2px rgba(60, 64, 67, 0.3), 0px 1px 3px 1px rgba(60, 64, 67, 0.15);\n",
              "      fill: #174EA6;\n",
              "    }\n",
              "\n",
              "    [theme=dark] .colab-df-convert {\n",
              "      background-color: #3B4455;\n",
              "      fill: #D2E3FC;\n",
              "    }\n",
              "\n",
              "    [theme=dark] .colab-df-convert:hover {\n",
              "      background-color: #434B5C;\n",
              "      box-shadow: 0px 1px 3px 1px rgba(0, 0, 0, 0.15);\n",
              "      filter: drop-shadow(0px 1px 2px rgba(0, 0, 0, 0.3));\n",
              "      fill: #FFFFFF;\n",
              "    }\n",
              "  </style>\n",
              "\n",
              "      <script>\n",
              "        const buttonEl =\n",
              "          document.querySelector('#df-284f3116-d458-4c1d-9dc5-df9f392b5952 button.colab-df-convert');\n",
              "        buttonEl.style.display =\n",
              "          google.colab.kernel.accessAllowed ? 'block' : 'none';\n",
              "\n",
              "        async function convertToInteractive(key) {\n",
              "          const element = document.querySelector('#df-284f3116-d458-4c1d-9dc5-df9f392b5952');\n",
              "          const dataTable =\n",
              "            await google.colab.kernel.invokeFunction('convertToInteractive',\n",
              "                                                     [key], {});\n",
              "          if (!dataTable) return;\n",
              "\n",
              "          const docLinkHtml = 'Like what you see? Visit the ' +\n",
              "            '<a target=\"_blank\" href=https://colab.research.google.com/notebooks/data_table.ipynb>data table notebook</a>'\n",
              "            + ' to learn more about interactive tables.';\n",
              "          element.innerHTML = '';\n",
              "          dataTable['output_type'] = 'display_data';\n",
              "          await google.colab.output.renderOutput(dataTable, element);\n",
              "          const docLink = document.createElement('div');\n",
              "          docLink.innerHTML = docLinkHtml;\n",
              "          element.appendChild(docLink);\n",
              "        }\n",
              "      </script>\n",
              "    </div>\n",
              "  </div>\n",
              "  "
            ]
          },
          "metadata": {},
          "execution_count": 6
        }
      ]
    },
    {
      "cell_type": "code",
      "source": [
        "df.drop('id', axis = 1, inplace = True)\n",
        "df.drop('date', axis = 1, inplace = True)\n",
        "df.drop('zipcode', axis = 1, inplace = True)\n",
        "df.drop('lat', axis = 1, inplace = True)\n",
        "df.drop('long', axis = 1, inplace = True)"
      ],
      "metadata": {
        "id": "uTDlv4SW6c2g"
      },
      "execution_count": null,
      "outputs": []
    },
    {
      "cell_type": "code",
      "source": [
        "plt.figure(figsize=(12,8)) \n",
        "sns.heatmap(df.corr(), annot=True, cmap='Dark2_r', linewidths = 2)\n",
        "plt.show()"
      ],
      "metadata": {
        "colab": {
          "base_uri": "https://localhost:8080/",
          "height": 571
        },
        "id": "3C_k28jk6e5D",
        "outputId": "655dc88d-a686-46d5-f8b6-4cd8052fcab5"
      },
      "execution_count": null,
      "outputs": [
        {
          "output_type": "display_data",
          "data": {
            "text/plain": [
              "<Figure size 864x576 with 2 Axes>"
            ],
            "image/png": "[encoded data removed]"
          },
          "metadata": {
            "needs_background": "light"
          }
        }
      ]
    },
    {
      "cell_type": "code",
      "source": [
        "columns = df.columns.drop('price')\n",
        "\n",
        "features = columns\n",
        "label = ['price']\n",
        "\n",
        "X = df[features]\n",
        "y = df[label]"
      ],
      "metadata": {
        "id": "2Ky51ied6iPR"
      },
      "execution_count": null,
      "outputs": []
    },
    {
      "cell_type": "code",
      "source": [
        "modelos = {}"
      ],
      "metadata": {
        "id": "dICmKr1T7IMP"
      },
      "execution_count": null,
      "outputs": []
    },
    {
      "cell_type": "markdown",
      "source": [
        "## 2.1 Divide los datos. \n",
        "\n",
        "Utiliza la función train_test_split "
      ],
      "metadata": {
        "id": "mojYXQqy6Ey2"
      }
    },
    {
      "cell_type": "code",
      "source": [
        "from sklearn.model_selection import train_test_split\n",
        "X_train, X_test, y_train, y_test = train_test_split(X, y, test_size = 0.1, random_state = 101)\n",
        "\n",
        "print(f'Numero total de registros en la bdd: {len(X)}')\n",
        "print(\"*****\"*10)\n",
        "print(f'Numero total de registros en el training set: {len(X_train)}')\n",
        "print(f'Tamaño de X_train: {X_train.shape}')\n",
        "print(\"*****\"*10)\n",
        "print(f'Mumero total de registros en el test dataset: {len(X_test)}')\n",
        "print(f'Tamaño del X_test: {X_test.shape}')"
      ],
      "metadata": {
        "colab": {
          "base_uri": "https://localhost:8080/"
        },
        "id": "Qqt9o1mG6C8l",
        "outputId": "75b49ef2-441c-4afa-f7ea-2d4a800a585e"
      },
      "execution_count": null,
      "outputs": [
        {
          "output_type": "stream",
          "name": "stdout",
          "text": [
            "Numero total de registros en la bdd: 21613\n",
            "**************************************************\n",
            "Numero total de registros en el training set: 19451\n",
            "Tamaño de X_train: (19451, 15)\n",
            "**************************************************\n",
            "Mumero total de registros en el test dataset: 2162\n",
            "Tamaño del X_test: (2162, 15)\n"
          ]
        }
      ]
    },
    {
      "cell_type": "markdown",
      "source": [
        "## 2.2 Regresión Múltiple Lineal.\n",
        "\n",
        "Realiza la regresión lineal: modelo generado (ecuación), su visualización, sus errores y r cuadrada.\n"
      ],
      "metadata": {
        "id": "-2UhXShi64zD"
      }
    },
    {
      "cell_type": "code",
      "source": [
        "from sklearn.linear_model import LinearRegression\n",
        "\n",
        "linear_reg = LinearRegression(fit_intercept=True)\n",
        "linear_reg.fit(X_train, y_train)\n",
        "\n",
        "modelos['lnr'] = linear_reg"
      ],
      "metadata": {
        "id": "tnI0mrLc6T9d"
      },
      "execution_count": null,
      "outputs": []
    },
    {
      "cell_type": "code",
      "source": [
        " linear_reg.coef_, linear_reg.intercept_"
      ],
      "metadata": {
        "colab": {
          "base_uri": "https://localhost:8080/"
        },
        "outputId": "096bdd42-3414-4ea5-f295-57dfdcae1216",
        "id": "RT18uPYe7PTY"
      },
      "execution_count": null,
      "outputs": [
        {
          "output_type": "execute_result",
          "data": {
            "text/plain": [
              "(array([[-3.82008048e+04,  4.14661380e+04,  1.07992584e+02,\n",
              "          1.71356997e-02,  3.16916913e+04,  5.52691023e+05,\n",
              "          4.12493228e+04,  2.12221443e+04,  1.19493216e+05,\n",
              "          4.77750271e+01,  6.02175565e+01, -3.55090216e+03,\n",
              "          1.32602215e+01,  2.90059284e+01, -5.48132603e-01]]),\n",
              " array([6151359.2627409]))"
            ]
          },
          "metadata": {},
          "execution_count": 20
        }
      ]
    },
    {
      "cell_type": "markdown",
      "source": [
        "### Ecuacion Modelo lineal ajustado:\n",
        "\n",
        "$\\hat{y} = -3.82008048e+04X_1 + 4.14661380e+04X_2 + 1.07992584e+02X_3 + 1.71356997e-02X_4 + 3.16916913e+04X_5 + 5.52691023e+05,X_6 +  4.12493228e+04X_7 + 2.12221443e+04X_8 + 1.19493216e+05X_9 + 4.77750271e+01X_{10} + 6.02175565e+01X_{11} -3.55090216e+03X_{12} + 1.32602215e+01X_{13} + 2.90059284e+01X_{14} -5.48132603e-014X_{15} + 6151359.2627409$"
      ],
      "metadata": {
        "id": "KdZTP7Fe7PTZ"
      }
    },
    {
      "cell_type": "code",
      "source": [
        "y_hat= linear_reg.predict(X_train)\n",
        "\n",
        "plt.scatter(y_train, y_hat)\n",
        "#plt.plot(X_fit, y_fit, \"r-\", linewidth=2, label=\"Predictions\")\n",
        "plt.xlabel(\"$y_{real}$\", fontsize=18)\n",
        "plt.ylabel(\"$y_{hat}$\", rotation=90, fontsize=18)\n",
        "plt.legend(loc=\"upper left\", fontsize=14);"
      ],
      "metadata": {
        "colab": {
          "base_uri": "https://localhost:8080/",
          "height": 315
        },
        "outputId": "d7499671-97fb-4862-c679-620de9155b62",
        "id": "wCpZuGoR7PTa"
      },
      "execution_count": null,
      "outputs": [
        {
          "output_type": "stream",
          "name": "stderr",
          "text": [
            "WARNING:matplotlib.legend:No handles with labels found to put in legend.\n"
          ]
        },
        {
          "output_type": "display_data",
          "data": {
            "text/plain": [
              "<Figure size 432x288 with 1 Axes>"
            ],
            "image/png": "[encoded data removed]"
          },
          "metadata": {
            "needs_background": "light"
          }
        }
      ]
    },
    {
      "cell_type": "markdown",
      "source": [
        "## Errores regresion lineal"
      ],
      "metadata": {
        "id": "R8Bb7gTn7PTa"
      }
    },
    {
      "cell_type": "code",
      "source": [
        "from sklearn.metrics import r2_score\n",
        "from sklearn.metrics import mean_absolute_error\n",
        "from sklearn.metrics import mean_squared_error"
      ],
      "metadata": {
        "id": "l63BnrMJ7PTa"
      },
      "execution_count": null,
      "outputs": []
    },
    {
      "cell_type": "code",
      "source": [
        "yhat_train = linear_reg.predict(X_train)\n",
        "yhat_test = linear_reg.predict(X_test)"
      ],
      "metadata": {
        "id": "VaS9za_c7PTb"
      },
      "execution_count": null,
      "outputs": []
    },
    {
      "cell_type": "code",
      "source": [
        "  print(f\"\"\"\n",
        "          Test        Train\n",
        "  MSE:    {\"{:.3e}\".format(mean_squared_error(y_test, yhat_test)) :<5}   {\"{:.3e}\".format(mean_squared_error(y_train, yhat_train))}\n",
        "  MAE:    {\"{:.3e}\".format(mean_absolute_error(y_test, yhat_test)) :<5}   {\"{:.3e}\".format(mean_absolute_error(y_train, yhat_train))}\n",
        "  R2:     {\"{:.3e}\".format(r2_score(y_test, yhat_test)) :<5}   {\"{:.3e}\".format(r2_score(y_train, yhat_train))}\n",
        "  \"\"\")"
      ],
      "metadata": {
        "colab": {
          "base_uri": "https://localhost:8080/"
        },
        "outputId": "07579348-31cd-4766-e35e-5e0676bdc382",
        "id": "lRZI6rfv7PTb"
      },
      "execution_count": null,
      "outputs": [
        {
          "output_type": "stream",
          "name": "stdout",
          "text": [
            "\n",
            "        Test        Train\n",
            "MSE:    5.389e+10   4.590e+10\n",
            "MAE:    1.375e+05   1.393e+05\n",
            "R2:     6.580e-01   6.529e-01\n",
            "\n"
          ]
        }
      ]
    },
    {
      "cell_type": "markdown",
      "source": [
        "## 2.3 Regresión Múltiple Polinomial.\n",
        "\n",
        "Realiza la  regresión polinomial completa, tu modelo generado (ecuación), su visualización, sus errores y r cuadrada.\n"
      ],
      "metadata": {
        "id": "JbI6NLiH-x5G"
      }
    },
    {
      "cell_type": "code",
      "source": [
        "from sklearn.preprocessing import PolynomialFeatures"
      ],
      "metadata": {
        "id": "evisckWZ-8XY"
      },
      "execution_count": null,
      "outputs": []
    },
    {
      "cell_type": "code",
      "source": [
        "poly_features = PolynomialFeatures(degree=3, include_bias=False)\n",
        "X_poly = poly_features.fit_transform(X_train)"
      ],
      "metadata": {
        "id": "OrH2zBvT-8Xa"
      },
      "execution_count": null,
      "outputs": []
    },
    {
      "cell_type": "code",
      "source": [
        "lin_reg_poli = LinearRegression(fit_intercept=True)\n",
        "lin_reg_poli.fit(X_poly, y_train)\n",
        "\n",
        "modelos['lnr-pol'] = lin_reg_poli"
      ],
      "metadata": {
        "id": "mEkD40Mk-8Xc"
      },
      "execution_count": null,
      "outputs": []
    },
    {
      "cell_type": "code",
      "source": [
        "lin_reg_poli.coef_, lin_reg_poli.intercept_"
      ],
      "metadata": {
        "colab": {
          "base_uri": "https://localhost:8080/"
        },
        "outputId": "1c0f39f1-c601-48b1-9c4d-61553f8e57fd",
        "id": "5UnMmJ1U-8Xe"
      },
      "execution_count": null,
      "outputs": [
        {
          "output_type": "execute_result",
          "data": {
            "text/plain": [
              "(array([[ 3.17395792e+02, -2.70130239e+02,  1.30610945e+01,\n",
              "         -1.40757708e+01,  2.62496809e+00,  3.24633595e+00,\n",
              "         -8.08938960e-01,  3.60826046e-01, -6.17577143e-01,\n",
              "          1.54124566e-01,  9.07922470e-01, -2.42302232e-01,\n",
              "          1.57944629e-01, -4.12303248e-01, -1.89494993e+01,\n",
              "          2.57497810e-01,  3.31180922e-01,  2.56156276e+01,\n",
              "         -9.51793255e-02, -6.36531339e-01,  6.24165339e-01,\n",
              "         -6.14143248e-02,  9.57006257e-01,  1.21507890e+00,\n",
              "          1.85183285e+01,  7.24785462e+00,  3.94289500e+02,\n",
              "          4.24069045e+00,  5.07845227e+00, -1.89095034e+01,\n",
              "         -4.03258004e-01, -2.08156624e+02, -6.15751437e+01,\n",
              "         -4.82898236e-01, -6.40532068e-02, -8.73845428e-02,\n",
              "         -1.73829295e-01, -5.97615346e-01, -1.69018199e+02,\n",
              "         -3.91260224e+01, -1.76779529e+02, -4.47565136e+00,\n",
              "         -1.70541213e+02,  1.09037853e+02, -3.48181375e-01,\n",
              "          5.54961266e-03, -3.10542727e+02, -2.04577118e+01,\n",
              "         -5.10909707e+01,  1.44081886e+02,  1.11581166e+02,\n",
              "          2.16670060e-01, -5.64909219e-01, -1.27410167e-01,\n",
              "         -1.12568260e-01,  1.58018890e+00, -3.54328039e-02,\n",
              "          4.38742488e-05,  6.16058584e+01, -2.69898947e+01,\n",
              "          1.91781121e+01,  1.20426825e+01,  1.31650265e+01,\n",
              "          9.34375304e-03, -3.73525411e-03, -1.04398912e-01,\n",
              "          1.38884709e-02,  3.01381870e-02,  6.78520767e-05,\n",
              "         -5.34102837e-01, -5.78470986e-02, -1.13822284e-01,\n",
              "         -4.03570695e-01, -1.05966620e+00, -2.67524020e+02,\n",
              "         -4.30187377e+01, -2.93222557e+02, -3.35793147e+00,\n",
              "         -2.91958127e+02, -9.76415380e+01, -1.57122761e-02,\n",
              "         -1.68119414e-01, -1.13491517e-01, -1.64619588e-01,\n",
              "         -1.74203932e+01, -3.03731175e+00, -1.52993218e+01,\n",
              "          2.89521925e-01, -1.93075606e+01, -1.08573905e+02,\n",
              "         -1.08424368e-01, -7.86651310e-02, -1.31888702e-01,\n",
              "         -4.03527763e+01, -1.07382336e+01, -4.51049163e+01,\n",
              "         -3.19195216e+00, -5.69571664e+01, -2.42072671e+01,\n",
              "          5.39400863e-01,  6.90456940e-01,  1.18106862e+02,\n",
              "          2.59750399e+01,  1.42884610e+02, -1.84020119e+00,\n",
              "          1.37140757e+02,  4.79912276e+00,  7.61197307e-01,\n",
              "          8.82755148e+01,  2.33056421e+01,  9.42517326e+01,\n",
              "          7.84046146e-01,  9.95172836e+01, -1.51103170e+01,\n",
              "         -2.02758252e+00,  2.24427261e+00,  9.40121740e-01,\n",
              "         -1.85322322e+00,  1.45017708e+00, -1.97077053e-03,\n",
              "         -2.80914700e+00, -1.06751495e+00,  1.74066651e+00,\n",
              "          1.30002356e-01, -3.34363391e-02, -1.65748055e+01,\n",
              "          4.33882740e+01,  1.57874743e+00,  2.34932788e-02,\n",
              "         -4.25386312e+01, -4.37936627e-01,  8.20919268e-02,\n",
              "         -1.48254749e+00,  6.97841641e-03,  3.89241075e-04,\n",
              "          1.29106646e+02, -7.16509286e-01,  4.15395793e+00,\n",
              "          2.29637081e-01,  4.75102521e-01, -7.01819595e-01,\n",
              "         -1.06920772e+00,  7.56507260e+00,  2.69567648e+00,\n",
              "         -4.22023433e+00,  8.37419219e+00, -6.85156850e+00,\n",
              "          3.79756814e+00,  3.61539631e-01,  1.60344901e-02,\n",
              "         -1.34799509e+00,  2.13243059e+00, -6.39846626e-01,\n",
              "         -1.28598317e+00, -1.03087982e-01,  1.41973419e-01,\n",
              "          4.08102711e-01, -1.10957527e-01, -8.95127159e+00,\n",
              "          1.10837021e+01, -2.37618609e+01, -1.72495794e+01,\n",
              "          3.64892153e+01,  5.39841200e-01, -5.29031580e-03,\n",
              "          5.17471543e-06, -1.82434474e+01,  2.48592345e+01,\n",
              "          9.70652876e+00, -2.58285326e+00, -1.18894778e+00,\n",
              "          1.25486887e-02, -1.78456991e-02,  1.38371287e-02,\n",
              "         -3.16366807e-03, -2.76695021e-02, -3.29956251e-04,\n",
              "          2.69713922e-07,  2.68861634e-02, -1.26045363e+00,\n",
              "         -4.18980491e-01, -4.03773592e-01,  3.84495844e-01,\n",
              "          1.00009887e-04,  1.72947060e-04, -4.46077509e-04,\n",
              "         -2.66607598e-04, -5.94941557e-04,  3.24147493e-06,\n",
              "         -2.49302358e+00, -1.55857429e-01, -7.95747451e-01,\n",
              "          1.24820294e+00, -6.92302224e-01,  9.99272306e+01,\n",
              "         -1.18170678e+02, -1.80234841e+01,  1.24341160e+01,\n",
              "         -3.70454114e+01, -3.05722749e-01, -9.04086603e-02,\n",
              "         -5.54890277e-01, -3.59312692e-01, -6.56997578e-01,\n",
              "          1.12996769e+02, -8.81375345e+01, -1.38295581e+02,\n",
              "          8.41445143e+01, -1.22832637e+02,  1.06470389e+01,\n",
              "         -5.84909805e-01,  1.47878446e+00,  6.55293735e-02,\n",
              "          6.31688822e+00,  3.38964053e+00, -1.49911162e-01,\n",
              "          1.23410332e+00, -1.84879607e+01,  4.21295051e-01,\n",
              "          2.45723093e+00,  9.90569038e-01,  2.15124127e+01,\n",
              "         -2.40952660e+01, -1.15695968e+01, -3.13201438e+01,\n",
              "          5.90213583e+00,  3.09699217e-01, -3.88409775e-02,\n",
              "         -7.99214707e+00,  6.80319927e+00,  2.45000153e+01,\n",
              "          3.67706825e+01, -1.67485536e+01, -4.06624858e-01,\n",
              "          1.14757304e-02,  1.09266872e-03, -5.96769381e-02,\n",
              "         -1.95002819e-02, -2.81401540e-02, -2.94626129e-04,\n",
              "         -1.89352314e-02,  7.35075788e-02,  1.63374584e-02,\n",
              "          4.72825090e-04, -2.84364091e-04, -2.06261496e-01,\n",
              "          7.03779070e-01, -2.20908745e-02,  1.01743906e-02,\n",
              "         -7.37616533e-01, -3.05428264e-02,  1.98429300e-04,\n",
              "          5.61092921e-02,  1.07510547e-03, -6.21875575e-06,\n",
              "         -1.45227271e+00, -1.50402720e+01,  4.38941293e-01,\n",
              "         -8.57029035e-01, -2.82844361e-01, -6.23263138e-01,\n",
              "         -9.51509340e-01,  8.44226113e-01,  1.46131191e+01,\n",
              "         -2.96533911e+01,  2.44930141e+01,  4.37018048e+01,\n",
              "         -2.32234541e+01,  3.01150805e-02,  7.16276634e-03,\n",
              "          2.66921952e-04,  1.63637824e+01,  8.64544575e+00,\n",
              "         -7.62589311e+00, -1.73031199e+01,  4.66732372e-01,\n",
              "         -1.44705438e-02,  2.16317524e-02,  1.47635930e-01,\n",
              "          1.69065736e-04,  2.48865022e-02, -8.63550868e-04,\n",
              "         -1.25196244e-06,  1.32670771e-01,  1.46460209e+01,\n",
              "          7.90605601e-01,  5.21564376e-01, -1.50188397e+00,\n",
              "          6.69195364e-04, -4.21705140e-04,  3.42821759e-02,\n",
              "         -2.60826466e-04,  7.74301563e-04,  3.42603757e-06,\n",
              "         -5.18806542e-01, -3.62736394e-01, -3.75937935e-01,\n",
              "         -9.68662133e-01, -2.91534826e-01, -2.38316465e+01,\n",
              "          4.01954289e+01, -3.52413893e+01, -4.34339663e+01,\n",
              "          2.19108836e+01, -8.29622275e-01, -6.40296452e-02,\n",
              "         -3.46698619e-01, -2.08141474e-01, -5.42973196e-01,\n",
              "         -1.80222051e+02,  1.88867496e+02, -9.25135211e+01,\n",
              "          1.04133954e+02,  7.54682489e+01, -1.21674559e+00,\n",
              "         -6.56769667e-01,  2.39971956e-01, -1.34146108e-01,\n",
              "         -1.53732288e+01,  7.74733564e+00, -4.31467113e+00,\n",
              "         -4.75471192e+00,  2.75402168e+01, -9.21712475e-01,\n",
              "          3.00836977e-01,  1.14137571e-01, -1.05184700e+01,\n",
              "         -6.78464992e+00, -1.84413585e+00,  6.94897334e+00,\n",
              "          3.64400667e+01, -1.42405322e+00, -2.15051706e+00,\n",
              "          3.69261608e+01, -3.64594285e+01, -2.97260222e+01,\n",
              "         -4.85093599e+01,  6.83687484e+00,  1.27722762e+00,\n",
              "         -2.84662395e-02,  1.40199152e-02,  4.16508827e-02,\n",
              "         -1.59705452e-02, -1.32942168e-02, -5.23843603e-04,\n",
              "          7.61246197e-03,  1.05979764e-01,  1.61383753e-02,\n",
              "          3.81807737e-02, -4.42915234e-04,  1.98033501e-01,\n",
              "          1.60207529e-01, -2.11904257e-02, -5.73440692e-02,\n",
              "         -2.51331108e-03, -3.42451138e-03,  7.07283993e-04,\n",
              "         -2.53785761e-02,  2.88473235e-04,  3.36430025e-06,\n",
              "          3.59283801e-03, -1.84543837e-03,  3.51393591e-02,\n",
              "         -1.56488409e-02, -7.36802083e-03,  2.72790437e-02,\n",
              "         -9.74584664e-03,  5.31436971e-03, -2.89783411e-03,\n",
              "          1.88096217e-03,  9.77756527e-05, -1.47386872e-03,\n",
              "         -3.14929070e-02, -1.18564729e+00,  6.39139907e-05,\n",
              "          7.62966605e-04,  1.18795819e-04,  3.60996606e-04,\n",
              "         -7.04687865e-05, -2.55131381e-02,  2.61641961e-02,\n",
              "         -8.38328870e-03,  4.37721589e-05, -6.76226852e-03,\n",
              "          1.96909848e-01, -3.74988590e+01, -1.25772996e+02,\n",
              "          9.85844849e+00, -1.74191333e+01, -2.17969135e+01,\n",
              "         -3.87553188e-02,  7.39008980e-02,  3.81014000e-01,\n",
              "         -2.81996898e-02, -7.59491930e-02,  2.28709969e-04,\n",
              "         -2.04577060e+01, -2.96410265e+01, -3.02065616e+00,\n",
              "         -2.47155910e+01, -2.63004119e-03, -1.30188019e-02,\n",
              "          6.07366938e-01, -2.12979332e-02, -7.32270956e-02,\n",
              "         -3.32121052e-03,  4.31279090e+00,  1.15926026e+01,\n",
              "         -2.45855576e-01,  2.93857622e-03, -1.03026069e-02,\n",
              "         -1.48711871e-02, -6.90015638e-04,  1.53016556e-02,\n",
              "         -4.23944850e-05,  7.03912510e+00, -5.55238707e+00,\n",
              "          1.46594362e-02,  1.26188617e-02, -5.48376436e-02,\n",
              "          4.32976387e-02, -3.59796803e-02,  7.78085738e-06,\n",
              "          1.19083107e+01, -1.69935336e-02,  7.16494952e-03,\n",
              "         -9.25624119e-02, -1.56590397e-02,  1.07752061e-02,\n",
              "         -2.92264998e-04, -1.41674597e-02, -3.67190082e-03,\n",
              "         -9.63817036e-04, -1.28842069e-04, -3.07455821e-03,\n",
              "          5.76043085e-02, -2.59163770e-03, -1.11586897e-03,\n",
              "         -8.40278852e-05,  2.19554870e-03,  1.20956853e-02,\n",
              "          1.22902845e-03, -8.26028056e-04, -7.99929450e-04,\n",
              "          3.76727902e-03,  8.14910046e-04,  1.06110550e-04,\n",
              "         -1.52576157e-04, -1.79990905e-03,  1.13170795e-02,\n",
              "         -7.21893263e-04,  1.56319402e-12,  6.28492668e-07,\n",
              "          1.43752817e-05,  4.55802656e-07,  7.88525817e-07,\n",
              "          5.98612587e-07,  1.18564729e+00,  1.18564729e+00,\n",
              "         -2.66691678e-08, -1.51686486e-09,  1.43636747e-09,\n",
              "         -1.06012976e-11, -2.18140647e+00,  1.80461936e+00,\n",
              "         -3.43976752e-01, -1.86994897e-01,  6.55163812e-01,\n",
              "          9.42837441e-04, -9.42457290e-04, -3.23406635e-02,\n",
              "          2.49112696e-04,  9.75376495e-04,  7.03160766e-07,\n",
              "         -2.69899072e+01,  5.54829858e+00, -1.07369914e+01,\n",
              "          2.93981158e+00, -1.28206764e-03,  2.04488923e-03,\n",
              "         -4.97838618e-03, -4.43845228e-03,  3.95130727e-03,\n",
              "          3.81637757e-04, -2.66153406e-01, -1.43284649e-01,\n",
              "         -1.06445616e-02, -1.88013074e-04,  3.02764317e-04,\n",
              "         -9.35720099e-03, -9.52296325e-04,  4.25360700e-05,\n",
              "          1.73309474e-06, -7.23982842e-03, -5.22633604e-01,\n",
              "          5.01100257e-04, -1.13217134e-04, -4.96230936e-03,\n",
              "         -9.12900757e-04,  2.36211990e-04, -1.66912536e-06,\n",
              "          4.10504239e-01, -2.61569857e-04,  4.21009295e-04,\n",
              "         -8.37562992e-03, -6.97448634e-05, -1.30724275e-04,\n",
              "          3.13172729e-06,  2.73582114e-02,  3.03931892e-03,\n",
              "          8.37552891e-03, -4.42483050e-05,  6.76165926e-03,\n",
              "         -1.96909853e-01, -2.43185437e-02,  8.38261894e-03,\n",
              "         -4.24387279e-05,  6.76149902e-03, -1.96909850e-01,\n",
              "          5.95765576e-05,  4.17972437e-05, -1.70540308e-05,\n",
              "         -3.76509171e-08, -4.37969719e-05, -1.55191986e-06,\n",
              "          2.01351087e-08,  7.75584653e-07,  2.34146924e-10,\n",
              "         -3.05533376e-11,  2.68755049e-01, -7.25118493e-02,\n",
              "          6.79437956e-01, -1.12171144e+00, -5.09293001e-01,\n",
              "          7.52892733e+01, -1.12788132e+02, -7.09533359e+01,\n",
              "         -8.81914932e+00,  8.93412573e+01, -1.46832270e-01,\n",
              "         -5.78488049e-02, -1.49004060e-01, -1.95330837e-01,\n",
              "         -4.34654331e-01, -1.43073943e+00, -1.24342257e+02,\n",
              "         -8.87112714e+01,  3.25160687e+01,  1.24848922e+01,\n",
              "          1.15373949e+01,  1.74841287e-01, -2.46036922e-01,\n",
              "         -4.67870640e-01,  8.29039979e+01, -7.30455494e+01,\n",
              "         -7.05336575e+01,  3.18346793e+01, -8.80748478e+00,\n",
              "          5.50003064e-02,  4.39961403e-03,  5.29724222e-02,\n",
              "          5.82422296e+01, -7.56613629e+01, -4.49601654e+00,\n",
              "         -6.18485344e+01, -1.09929597e+01,  2.18344980e-01,\n",
              "         -1.44378877e+00, -6.94795800e+01,  4.76826664e+01,\n",
              "          1.32718828e+01, -4.29775822e-01,  6.39028060e+01,\n",
              "         -2.55128016e-01, -1.09211208e-02, -2.78394016e-02,\n",
              "          1.40554974e-02, -1.77758749e-02,  5.37287138e-02,\n",
              "          1.43736533e-04,  1.01741320e-01,  3.66956193e-01,\n",
              "         -1.04239339e-02, -1.29680845e-01,  1.12743669e-04,\n",
              "          2.14438570e-01, -1.06553043e-01, -2.58109659e-02,\n",
              "          5.13978189e-02,  3.16111165e-01, -4.22932681e-02,\n",
              "          2.92504892e-03, -5.65068282e-02, -4.42405736e-04,\n",
              "         -5.27287605e-07, -1.57104967e-02, -1.68118254e-01,\n",
              "         -1.13493700e-01, -1.64617238e-01, -1.74203935e+01,\n",
              "         -3.03731255e+00, -1.52993229e+01,  2.89522699e-01,\n",
              "         -1.93075602e+01, -1.08573908e+02, -6.93650227e-01,\n",
              "         -1.19479841e+00, -1.14163326e+00,  2.48304145e+02,\n",
              "         -2.77945171e+02, -2.61408481e+02, -1.37394239e+02,\n",
              "          3.40817499e+00,  6.38013960e+00, -5.03329408e-01,\n",
              "         -3.48305669e-01, -9.48674950e+00,  6.46609334e+00,\n",
              "         -1.63718948e+02,  8.00929432e+01,  1.27317612e+02,\n",
              "          1.22873706e+01, -1.16579215e+00,  9.14388072e+01,\n",
              "         -1.16154398e+02, -1.98296674e+02, -1.34421850e+02,\n",
              "          7.91772836e+01, -4.88626598e+00, -3.63568345e-02,\n",
              "          3.37268058e-02, -6.37509651e-01,  6.59388664e-02,\n",
              "          8.27740497e-02, -9.57908560e-03, -4.67456104e-02,\n",
              "          1.24487659e+00, -8.72368049e-02, -1.56001142e-01,\n",
              "          6.25797347e-03,  1.47927098e+00, -3.42394083e+00,\n",
              "         -1.63280413e-01,  6.92835904e-02,  3.85056321e+00,\n",
              "         -3.61221510e-02, -5.51483282e-03, -1.15578496e-01,\n",
              "          1.10086886e-02,  1.50008209e-05,  4.54070134e-01,\n",
              "         -2.44457033e+00, -1.00519157e+00, -2.00885393e+00,\n",
              "          6.32164483e+00, -1.26392414e-01,  4.39471527e+00,\n",
              "         -4.09385406e-01,  2.59171994e-01, -1.61502467e-01,\n",
              "          1.41658957e+00,  1.57664036e+01, -4.17380104e+00,\n",
              "         -8.43096327e+00, -1.89620838e+01, -1.68180224e+01,\n",
              "          3.20455413e-01, -8.70956241e-01, -1.32718235e+00,\n",
              "          1.08132677e+00,  1.57202151e+01, -1.54890768e+00,\n",
              "         -7.18607679e+00,  3.46714427e-03, -1.50945112e-02,\n",
              "          1.80302402e-02, -4.20327046e-02, -2.37774971e-02,\n",
              "          2.53359185e-03,  4.81332248e-04, -2.83331543e-02,\n",
              "          2.71623330e-02,  2.30876937e-02,  1.27679386e-02,\n",
              "         -5.13280151e-04,  5.78976846e-02,  6.88571639e-01,\n",
              "          5.91282483e-02,  1.21094057e-02, -6.20814960e-01,\n",
              "         -2.02957147e-02,  9.98421113e-04,  4.14110214e-03,\n",
              "         -3.97032219e-04, -3.74076566e-06,  2.44302779e+00,\n",
              "         -4.11706841e-01,  6.48602638e+00,  5.53098732e-01,\n",
              "          3.15429808e+00, -8.13511641e+01, -1.60550182e+01,\n",
              "         -4.08803989e-02,  6.75062796e-01, -1.12868923e+01,\n",
              "          5.73450524e+00,  2.97836014e+00, -1.24035844e+01,\n",
              "          8.55907440e+00,  9.14003901e-01, -4.56271014e-02,\n",
              "          6.02815768e-02, -9.68985296e-02,  2.42740534e-02,\n",
              "          8.88306066e-03,  2.17226633e-05, -4.76615165e-02,\n",
              "          4.20572757e-02,  1.90238204e-02, -4.48647075e-02,\n",
              "         -7.40493560e-05, -8.37915721e-02, -4.02191870e-01,\n",
              "         -6.96606069e-02, -3.26187220e-03,  7.96631254e-01,\n",
              "         -2.38502696e-02,  2.64611349e-04,  3.05449387e-02,\n",
              "         -1.28392056e-03, -2.58029153e-06, -6.51035957e+00,\n",
              "          4.33247110e+00,  7.57583963e+00,  2.05400166e+00,\n",
              "          1.81580413e-01, -1.59666958e+01, -2.70606123e-01,\n",
              "          6.44973276e-03, -2.34108211e-02,  2.54178730e-02,\n",
              "          6.69852179e-03, -2.13896691e-02,  8.72879033e-05,\n",
              "          3.05783032e-02, -1.17980814e-01, -2.23585251e-02,\n",
              "          3.21823186e-02, -3.15069971e-04, -7.62892903e-02,\n",
              "          4.54886433e-02, -2.20435019e-02,  6.94872595e-03,\n",
              "         -5.03128858e-02,  3.89528412e-02,  8.03320893e-05,\n",
              "          1.72347306e-02,  4.78859480e-04,  1.40078675e-06,\n",
              "          5.26912617e-03, -6.25908363e-04,  1.63856457e-04,\n",
              "          5.81114324e-05,  4.61376278e-03, -2.61106795e-02,\n",
              "         -4.14331918e-03, -2.56126508e-03,  5.41679594e-05,\n",
              "          3.93859867e-03, -6.71368049e-03, -1.81123271e-03,\n",
              "         -3.15288435e-04, -5.13667584e-04, -3.74704535e-03,\n",
              "          1.19793070e-03, -3.69267847e-05,  1.51360414e-04,\n",
              "          1.72833542e-03, -1.13173783e-02,  7.21899744e-04,\n",
              "          1.98690809e-03,  9.98044581e-04,  3.50368542e-06,\n",
              "         -7.99844642e-04,  1.93984379e-02, -7.26814093e-04,\n",
              "         -7.21344526e-04,  1.53503423e-04, -3.73151278e-03,\n",
              "         -1.79164423e-04, -6.17807233e-05,  1.51716408e-04,\n",
              "          1.70905097e-03, -1.13160810e-02,  7.21905751e-04,\n",
              "          5.88194588e-03, -1.16677311e-02, -7.60362192e-04,\n",
              "         -6.79225045e-06,  1.42920988e-03,  1.16093701e-04,\n",
              "         -5.08326429e-05,  6.77824183e-04, -1.95787374e-06,\n",
              "         -1.88391878e-07,  9.40313981e-03,  5.20258503e-05,\n",
              "          5.23455311e-06, -1.13821847e-05,  5.18239567e-07,\n",
              "         -1.28929738e-08,  1.22511760e-05, -7.83032817e-07,\n",
              "         -7.37585815e-09, -4.67537120e-12]]), array([19759145.24258333]))"
            ]
          },
          "metadata": {},
          "execution_count": 38
        }
      ]
    },
    {
      "cell_type": "code",
      "source": [
        "y_hat= lin_reg_poli.predict(X_poly)\n",
        "\n",
        "plt.scatter(y_train, y_hat)\n",
        "#plt.plot(X_fit, y_fit, \"r-\", linewidth=2, label=\"Predictions\")\n",
        "plt.xlabel(\"$y_{real}$\", fontsize=18)\n",
        "plt.ylabel(\"$y_{hat}$\", rotation=90, fontsize=18)\n",
        "plt.legend(loc=\"upper left\", fontsize=14);"
      ],
      "metadata": {
        "colab": {
          "base_uri": "https://localhost:8080/",
          "height": 315
        },
        "outputId": "705f6dc0-0de8-44f2-85e9-f01964dbe98b",
        "id": "KI-7mRzY-8Xi"
      },
      "execution_count": null,
      "outputs": [
        {
          "output_type": "stream",
          "name": "stderr",
          "text": [
            "WARNING:matplotlib.legend:No handles with labels found to put in legend.\n"
          ]
        },
        {
          "output_type": "display_data",
          "data": {
            "text/plain": [
              "<Figure size 432x288 with 1 Axes>"
            ],
            "image/png": "[encoded data removed]"
          },
          "metadata": {
            "needs_background": "light"
          }
        }
      ]
    },
    {
      "cell_type": "code",
      "source": [
        "X_poly_test = poly_features.fit_transform(X_test)\n",
        "\n",
        "yhat_train = lin_reg_poli.predict(X_poly)\n",
        "yhat_test = lin_reg_poli.predict(X_poly_test)"
      ],
      "metadata": {
        "id": "saEM496u-8Xj"
      },
      "execution_count": null,
      "outputs": []
    },
    {
      "cell_type": "code",
      "source": [
        "  print(f\"\"\"\n",
        "          Test        Train\n",
        "  MSE:    {\"{:.3e}\".format(mean_squared_error(y_test, yhat_test)) :<5}   {\"{:.3e}\".format(mean_squared_error(y_train, yhat_train))}\n",
        "  MAE:    {\"{:.3e}\".format(mean_absolute_error(y_test, yhat_test)) :<5}   {\"{:.3e}\".format(mean_absolute_error(y_train, yhat_train))}\n",
        "  R2:     {\"{:.3e}\".format(r2_score(y_test, yhat_test)) :<5}   {\"{:.3e}\".format(r2_score(y_train, yhat_train))}\n",
        "  \"\"\")"
      ],
      "metadata": {
        "colab": {
          "base_uri": "https://localhost:8080/"
        },
        "outputId": "d01392ba-b123-47ad-98e3-275f9da0a20f",
        "id": "7PkWLbmc-8Xk"
      },
      "execution_count": null,
      "outputs": [
        {
          "output_type": "stream",
          "name": "stdout",
          "text": [
            "\n",
            "        Test        Train\n",
            "MSE:    4.510e+10   3.033e+10\n",
            "MAE:    1.276e+05   1.201e+05\n",
            "R2:     7.137e-01   7.706e-01\n",
            "\n"
          ]
        }
      ]
    },
    {
      "cell_type": "markdown",
      "source": [
        "## 2.4 Realiza la regresión con Ridge y Lasso. \n",
        "Incluye la ecuación de tu modelo, visualización , errores y r cuadrada."
      ],
      "metadata": {
        "id": "htcpICsKEkyZ"
      }
    },
    {
      "cell_type": "code",
      "source": [
        "from sklearn.linear_model import Ridge, Lasso"
      ],
      "metadata": {
        "id": "KxhmBsPREkya"
      },
      "execution_count": null,
      "outputs": []
    },
    {
      "cell_type": "markdown",
      "source": [
        "### Ridge"
      ],
      "metadata": {
        "id": "ywhsv82YEkyc"
      }
    },
    {
      "cell_type": "code",
      "source": [
        "RigeModel=Ridge(alpha=2)\n",
        "RigeModel.fit(X_poly, y_train)\n",
        "\n",
        "modelos['ridge'] = RigeModel"
      ],
      "metadata": {
        "id": "5uNuORutEkyc"
      },
      "execution_count": null,
      "outputs": []
    },
    {
      "cell_type": "code",
      "source": [
        "RigeModel.coef_, RigeModel.intercept_"
      ],
      "metadata": {
        "colab": {
          "base_uri": "https://localhost:8080/"
        },
        "outputId": "388c3523-8357-4cd0-8cee-7347d4f9a9b7",
        "id": "tIopV0SlEkyd"
      },
      "execution_count": null,
      "outputs": [
        {
          "output_type": "execute_result",
          "data": {
            "text/plain": [
              "(array([[ 7.69359822e+03, -3.57106267e+02,  2.85677539e+02,\n",
              "          1.93962862e+03, -4.62663942e+02, -1.28817731e+03,\n",
              "          1.08987556e+03, -5.40288433e+02,  8.68735382e+02,\n",
              "          7.18421902e+02,  8.78854181e+02,  6.13676900e+02,\n",
              "         -6.69286340e+02, -1.51824889e+03, -1.72761614e+03,\n",
              "          1.98565914e+03,  1.69427626e+01,  6.23837975e+02,\n",
              "         -1.04956851e+01, -2.09696143e+03,  5.27893137e+02,\n",
              "         -1.49922527e+03,  1.00171454e+03, -1.83631616e+02,\n",
              "          9.17303806e+02,  7.22619014e+02,  8.89089607e+02,\n",
              "         -1.76808212e+03, -2.50485262e+03,  9.67979293e+00,\n",
              "          1.19624107e+03, -3.07589003e+03, -2.95208928e+01,\n",
              "          1.06593323e+03, -4.70936557e+02,  2.07894164e+02,\n",
              "         -1.34559533e+02, -1.68994344e+03, -6.98393260e+02,\n",
              "         -1.10661214e+03, -4.36311190e+03, -1.17762577e+03,\n",
              "          8.25785019e+03,  3.01969380e+01, -1.95570500e+02,\n",
              "         -6.10576465e+01,  2.35575202e+03, -1.38071961e+03,\n",
              "          1.68276134e+01,  3.96996919e+02, -1.06765201e+03,\n",
              "         -1.72167570e+02,  4.27596987e+02,  3.77890681e+02,\n",
              "          7.40524013e+02,  1.72096143e+02, -9.50704347e+01,\n",
              "          1.66789881e-04,  7.07497216e+01,  5.97170673e+02,\n",
              "          1.14508934e+01, -1.12393621e+01,  1.50032270e+01,\n",
              "          6.13127054e+01,  6.15400192e+01, -1.94722019e+00,\n",
              "         -3.08122807e-01, -3.92389949e-01,  3.81613591e-04,\n",
              "         -1.39132813e+03, -7.39722148e+02,  3.79664479e+02,\n",
              "         -1.59394391e+03, -5.80553662e+02,  3.57770473e+02,\n",
              "          9.74645565e+02, -4.61709418e+03,  2.88991778e+02,\n",
              "         -7.98250949e+02, -5.92306939e+01,  1.47025715e+03,\n",
              "          6.19279085e+02,  1.38528438e+00, -1.21810627e+03,\n",
              "         -6.71826034e+02, -4.67641625e+02, -2.99885233e+02,\n",
              "          3.59720257e+02, -1.06113663e+03,  8.02938999e+02,\n",
              "          8.12480414e+02, -1.39329377e+03, -4.43254528e+01,\n",
              "          6.41392533e+02, -8.71208811e+02,  3.85080143e+02,\n",
              "          5.78282418e+02, -9.07173402e+02,  3.23356829e-01,\n",
              "         -5.07547865e+02,  2.20331897e+02,  1.48293423e+03,\n",
              "          1.44952389e+02, -1.42081951e+03, -1.35450658e+03,\n",
              "          2.50356912e+01,  7.05726080e+00, -5.97602225e+02,\n",
              "         -4.45027742e+02, -1.18983153e+02,  3.00855383e+03,\n",
              "         -2.52027594e+02, -5.99426044e+02, -2.59594164e+01,\n",
              "          3.67038656e+02,  1.38622699e+02, -3.73918056e+02,\n",
              "         -7.39462052e+02, -1.72889653e+02,  9.47469841e+01,\n",
              "         -2.31568067e+02, -3.76441158e+02, -7.34637794e+02,\n",
              "         -1.74117823e+02,  9.49471651e+01, -1.92893727e+01,\n",
              "          6.16782560e+01,  3.13464303e+00,  1.67035773e+00,\n",
              "         -5.39217771e+01, -1.95471962e+00,  1.81977028e-02,\n",
              "         -1.54559204e+00,  4.42436292e-01,  1.79786069e-05,\n",
              "          2.53432613e+02,  5.76052521e+02,  3.41717100e+01,\n",
              "          5.29303669e-01,  2.28182101e+01,  8.98781323e+02,\n",
              "          4.01379614e+02, -2.00157673e+03,  2.23189406e+01,\n",
              "         -3.88863794e+01, -3.14834825e+01, -6.85470627e+00,\n",
              "         -2.18856459e+00,  8.82898996e+00,  9.98932971e-01,\n",
              "         -4.17962029e+02, -2.41966098e+01,  1.53591836e+00,\n",
              "          5.61191941e+02,  2.32448504e+02,  3.44686235e+02,\n",
              "          2.18779531e+03,  6.63356685e+02,  5.27570191e+01,\n",
              "          5.75342710e+01, -1.25431510e+01,  2.02255199e+00,\n",
              "         -3.07194508e+01,  1.80620598e+00,  1.49713825e+02,\n",
              "         -6.34700727e+02, -7.68163026e+01, -3.08314410e+02,\n",
              "          1.63063797e+02,  1.60308745e+02,  5.44498313e+01,\n",
              "         -4.91952655e+02, -3.17047562e+02, -1.24012526e+02,\n",
              "          1.29451211e+02, -5.02053321e+02,  2.81738764e+02,\n",
              "         -9.29087405e-07,  2.54922266e-01, -1.74567717e+00,\n",
              "         -8.01340644e-01, -5.75571982e-01,  8.12913831e-01,\n",
              "          6.34698956e+02,  6.34701026e+02,  2.14926756e-03,\n",
              "         -1.69938066e-03, -1.09055161e-03,  1.24574445e-05,\n",
              "          2.86894246e+02,  9.38736773e+02,  1.39617326e+03,\n",
              "          2.35591212e+02,  3.10531056e+02,  6.81888513e+01,\n",
              "          2.44256509e+01,  3.14852891e+01,  3.59218448e+01,\n",
              "         -1.30412538e+01, -6.63209113e-01, -8.41321402e+02,\n",
              "          9.56996163e+02,  8.43515223e+02,  4.38050689e+02,\n",
              "          4.32346266e+02,  2.14060979e+02, -1.36111852e+02,\n",
              "          4.31721783e+01, -1.14283991e+02,  1.48637707e+01,\n",
              "         -2.20040851e+02,  1.36961827e+03,  8.91414033e+02,\n",
              "         -1.44136903e+02, -1.44404083e+02, -7.22473468e+00,\n",
              "          3.85459739e+00, -2.29059554e+01, -1.72539550e-01,\n",
              "         -1.46414655e+03,  1.71034688e+03, -1.55971447e+02,\n",
              "         -1.91141882e+02, -1.95316996e+00, -1.42637314e+01,\n",
              "          1.75829930e+01,  6.71883874e-01, -4.14686791e+02,\n",
              "         -6.23088344e+01, -5.07828137e+01,  3.25697329e+00,\n",
              "          2.11468049e+00, -1.51354135e+00, -5.46431890e-02,\n",
              "          3.42280028e+02,  5.09376242e+02,  1.23287463e+02,\n",
              "         -1.29485913e+02,  5.01974208e+02, -2.81742257e+02,\n",
              "          1.67522733e+02,  1.23149181e+02, -1.29502150e+02,\n",
              "          5.02268376e+02, -2.81745797e+02, -4.71385700e-01,\n",
              "          1.57852281e-01,  1.25252737e+00, -8.66603131e-03,\n",
              "          6.34039896e-01,  1.45199734e-01,  2.30253316e-03,\n",
              "          1.48719183e-02,  3.00381429e-03, -1.50326556e-05,\n",
              "         -6.81575122e+02, -2.42123364e+01,  2.19265632e-01,\n",
              "          1.17418343e+03, -4.36620235e+01, -1.84728653e+03,\n",
              "          1.16354032e+03,  9.23948109e+02, -1.54638429e+00,\n",
              "         -3.17734187e+01, -1.13993535e+01,  2.23403245e+01,\n",
              "          3.61256693e+01,  1.74748223e-01, -4.13619412e+01,\n",
              "          2.16217604e+02, -9.80055302e+01,  3.84779816e+00,\n",
              "         -1.15800392e+02,  4.52547355e+02,  3.78729789e+02,\n",
              "         -1.19936953e+02,  2.50863361e+02, -1.13190517e+02,\n",
              "          1.63309904e+02,  8.18102224e+01, -1.77451507e+02,\n",
              "         -7.54066721e-07, -1.50725013e-01,  1.25060931e+01,\n",
              "          3.37952249e-01,  3.95015372e-03, -1.41093914e+00,\n",
              "         -2.16216005e+02, -2.16218358e+02,  1.72432761e-02,\n",
              "         -4.22004823e-03, -9.10024498e-04,  1.08202641e-05,\n",
              "          1.81014634e+02, -8.33737699e+02, -2.36511584e+02,\n",
              "         -2.02629549e+02, -8.12031432e+02,  1.06508308e+02,\n",
              "          1.96301537e+02, -6.31001705e+01, -2.31102875e+01,\n",
              "          1.84000686e+01, -1.14669167e+00, -2.58124363e+02,\n",
              "          5.10644841e+02,  2.45497149e+02,  1.91738791e+03,\n",
              "         -2.47737470e+02,  2.59072814e+02,  1.05375529e+02,\n",
              "          1.37718300e+02,  3.60584762e+01, -7.64745250e+00,\n",
              "         -3.86461040e+01, -1.35731148e+03, -5.90588457e+02,\n",
              "          1.15510098e+02,  1.00116529e+02, -2.53426276e+00,\n",
              "         -3.83054482e+00,  1.31636228e+01, -9.77096978e-01,\n",
              "          7.85429520e+02, -4.79413084e+02, -4.41242251e+02,\n",
              "         -4.15821766e+02,  3.14143000e+01,  1.34350799e+01,\n",
              "         -5.75206408e+01, -7.57676089e-01,  1.05488815e+02,\n",
              "         -3.52498150e+02, -4.21671288e+02,  1.20496875e+01,\n",
              "         -5.44535042e+00, -2.05618089e+01,  8.63578986e-01,\n",
              "          1.61268836e+02, -4.81799426e+01,  1.14925465e+02,\n",
              "         -1.63172978e+02, -8.16866568e+01,  1.77448646e+02,\n",
              "         -2.09556470e+02,  1.15374937e+02, -1.62927895e+02,\n",
              "         -8.17113764e+01,  1.77452721e+02,  2.18051639e+00,\n",
              "          4.77040414e-01, -3.92119353e+00, -2.50993692e-02,\n",
              "          1.11712193e-01, -2.95165313e-01,  9.58103260e-03,\n",
              "         -1.33023840e-01,  5.48210460e-03,  8.23085852e-06,\n",
              "         -3.24219997e+02, -2.74611774e+02,  5.83522996e+01,\n",
              "         -2.44184518e+02, -5.89087710e+02, -4.97917849e+02,\n",
              "          3.67119818e+02, -7.53919800e+02,  3.04670911e+02,\n",
              "         -2.54206078e+02, -1.41674025e+02,  1.78967285e+02,\n",
              "         -9.98412634e+02,  3.85739846e+02,  7.00223116e+01,\n",
              "         -6.03674658e+02, -1.45351677e+02, -4.36723078e+02,\n",
              "          2.92517502e+02,  9.74151193e+02, -1.24488689e+02,\n",
              "          7.46126977e+02,  3.08360756e+02,  1.27795352e+01,\n",
              "         -5.36494789e+02,  1.04655287e+02, -4.75657853e+01,\n",
              "         -7.88831863e+02,  1.07264105e+02, -2.27566984e+02,\n",
              "          7.90938236e+02, -1.92124046e+02, -9.45441066e+01,\n",
              "          4.41466469e+01, -5.59128740e+01, -1.80917395e+02,\n",
              "         -7.40380156e+02,  5.28876434e+02,  4.59037203e+01,\n",
              "          7.54549353e+01,  2.44570424e+02,  5.57563456e+02,\n",
              "         -2.36425731e+02, -4.24284061e+02, -1.27111973e+02,\n",
              "          2.88901200e+02, -2.39525970e+02, -6.76516347e+02,\n",
              "         -2.65045589e+02,  9.46595764e+02,  8.42317379e+01,\n",
              "          4.81466604e+01, -5.59997978e+02,  1.46190036e+02,\n",
              "         -5.76035474e+01, -3.59703198e+02,  1.20782543e+02,\n",
              "          1.18719483e+03, -8.96826243e+01,  2.87966588e+02,\n",
              "         -1.44834882e+02, -2.34864219e+02,  6.00674072e+02,\n",
              "          6.97402747e+02, -8.62500319e+02, -3.20089769e+02,\n",
              "         -1.13310220e+02, -2.06258837e+02, -1.58735001e+02,\n",
              "          3.34409382e+02,  1.08165826e+03,  1.78335493e+00,\n",
              "          1.45303189e+01, -2.73713733e+02, -1.71389763e+02,\n",
              "          1.00511225e+03,  3.28716366e+02, -1.00583937e+02,\n",
              "          3.13949374e+02, -1.05009436e+02,  6.44169663e+02,\n",
              "          1.93782464e+02, -2.49626176e+02, -1.40066942e+02,\n",
              "         -4.31463896e+02,  1.84272338e+02,  4.02535151e+02,\n",
              "         -4.12838992e+02,  2.30153889e+00,  9.41372594e+02,\n",
              "         -2.87398152e+01,  2.08671182e-12, -1.81180697e-06,\n",
              "          1.53939837e-04,  9.18154717e-07,  2.61535429e-06,\n",
              "          3.38062607e-06, -3.85739846e+02, -3.85739846e+02,\n",
              "         -8.88870533e-08, -7.11302773e-09, -6.76268730e-09,\n",
              "         -6.08108615e-13, -2.27106776e+00, -1.20572512e+00,\n",
              "         -1.79416517e-01, -4.01879407e-01,  1.13650455e+00,\n",
              "         -7.00183367e+01, -7.00231582e+01, -3.68717631e-02,\n",
              "          1.48207141e-03, -3.12860728e-03, -8.62564566e-06,\n",
              "         -5.56972106e+02,  1.04224394e+01, -5.58165934e+00,\n",
              "          4.01606588e+00,  6.03674405e+02,  6.03693415e+02,\n",
              "         -2.46601409e-01,  8.25674339e-03,  1.16057529e-01,\n",
              "          1.17347413e-03,  7.84512986e-02,  3.40365445e-01,\n",
              "         -3.36055996e-01,  1.45353260e+02,  1.45353728e+02,\n",
              "         -5.36593902e-03, -5.01124636e-03, -1.13758762e-03,\n",
              "          5.22103231e-06, -6.96048476e-01, -1.41922469e+00,\n",
              "          4.36724551e+02,  4.36721991e+02,  1.32358020e-02,\n",
              "          6.59129036e-03, -1.24859168e-04, -2.28379351e-05,\n",
              "          1.40009584e+00, -2.92519093e+02, -2.92516413e+02,\n",
              "         -1.44429917e-02,  1.65402301e-03, -1.72742920e-03,\n",
              "         -3.65008117e-06, -6.99539419e+02, -3.00438957e+02,\n",
              "         -7.46127105e+02, -3.08360756e+02, -1.27795332e+01,\n",
              "          5.36494789e+02,  3.99100464e+02, -7.46127223e+02,\n",
              "         -3.08360762e+02, -1.27795343e+01,  5.36494789e+02,\n",
              "          4.93066189e-04,  1.05782707e-04,  2.07906566e-04,\n",
              "         -1.60080110e-07,  4.24170730e-05, -5.29853919e-07,\n",
              "          3.64315722e-08,  6.07537278e-07,  1.01184581e-08,\n",
              "         -5.03859685e-11, -8.06537336e+02, -7.58757525e+02,\n",
              "          8.54113320e+00, -5.13824608e+02, -2.76434536e+02,\n",
              "         -9.38394768e+01, -2.79293517e+02, -4.51117887e+01,\n",
              "         -9.13623122e+00,  7.63051579e+01,  2.58934985e-01,\n",
              "         -1.40999642e+02, -7.50359360e+02, -5.34565035e+02,\n",
              "         -2.43879118e+02,  1.96892822e+02, -2.01179822e+02,\n",
              "         -1.38403942e+02,  3.28582978e+01, -2.06001086e+02,\n",
              "          2.01434994e+01,  2.52681484e+02,  2.87866206e+02,\n",
              "          5.71715249e+02,  8.04465605e+02,  8.03427188e+02,\n",
              "         -1.36301249e+01,  2.12800723e+01, -3.19107485e+00,\n",
              "          1.71408827e-01, -9.30958677e+02, -6.29998416e+02,\n",
              "         -9.37006652e+01, -1.87416024e+02,  3.55354127e+01,\n",
              "         -6.44657347e+01, -9.45775612e+00,  1.30348134e-01,\n",
              "         -1.92764921e+02,  1.92087484e+02,  2.79038729e+02,\n",
              "          3.11267352e+01, -4.90856013e-01, -3.92156027e+00,\n",
              "          6.31400564e-03, -8.49407248e+02, -7.15325745e+02,\n",
              "          9.28863842e+01, -4.46460275e+01,  5.64319874e+01,\n",
              "          1.80910957e+02,  1.34642200e+02,  9.32674116e+01,\n",
              "         -4.45176274e+01,  5.51198945e+01,  1.80922814e+02,\n",
              "          2.22651913e+00, -3.90306831e-01,  6.76717456e-01,\n",
              "          3.55332623e-02,  6.12407740e-01,  3.13042779e-01,\n",
              "          1.78887126e-03, -3.27349874e-01,  1.58452475e-03,\n",
              "          1.04064249e-05,  2.10291911e+01,  1.06224727e+01,\n",
              "          6.00281129e+02,  8.63616067e+02, -4.05603596e+01,\n",
              "         -2.60460991e+02, -9.13094887e+02,  7.21434570e+02,\n",
              "          3.02300688e+02, -6.27524702e+02,  7.15362160e+02,\n",
              "         -2.14281445e+02,  5.10113496e+02, -3.49200732e+02,\n",
              "         -6.73569173e+02, -1.15343959e+02, -9.28377284e+01,\n",
              "         -1.91817573e+02,  7.83335861e+00, -9.74320126e+02,\n",
              "         -8.43434632e+02, -5.44950776e+01, -6.33508845e+01,\n",
              "         -1.20579457e+02,  8.30554806e+01,  7.31410561e+01,\n",
              "          1.19945573e+01, -7.20532295e+02, -1.47663289e+01,\n",
              "         -1.96441901e+02, -1.70243753e+02, -1.28890366e+02,\n",
              "          2.30430900e+01, -9.58539358e-01, -2.88596013e-01,\n",
              "         -3.13947721e+02,  2.37894702e+02,  4.24348574e+02,\n",
              "          1.26803191e+02, -2.88919460e+02, -3.13368832e+02,\n",
              "          2.40094025e+02,  4.24396509e+02,  1.26799206e+02,\n",
              "         -2.88950588e+02,  2.45709986e+00, -3.47004395e+00,\n",
              "          8.34912637e-01, -1.65654506e-01,  3.87316792e+00,\n",
              "         -1.25225096e-01, -6.26754598e-02, -3.43134342e-01,\n",
              "          1.79513068e-02,  3.14213117e-04,  2.77410762e+03,\n",
              "         -1.08756956e+03,  3.91397738e+02,  2.46509098e+02,\n",
              "          2.49552605e+02, -1.02286292e+01, -6.85181254e-01,\n",
              "         -2.67377321e+00,  3.39172124e-01, -3.01543999e+02,\n",
              "          6.72860882e+02,  6.93912970e+02,  6.93350372e+02,\n",
              "         -1.51322299e+01,  3.34220220e-01, -7.85165154e+00,\n",
              "          7.48307755e-01,  5.99664111e+02,  2.72173779e+02,\n",
              "          2.61857469e+02, -3.53667033e+00,  1.10088443e+00,\n",
              "         -6.22328529e+00, -1.73188239e-01, -3.57541559e+02,\n",
              "          1.47275232e+02, -4.85192547e+01,  5.59962453e+02,\n",
              "         -1.46171932e+02,  5.76021131e+01,  5.04830547e+02,\n",
              "         -4.75927852e+01,  5.60070026e+02, -1.46247320e+02,\n",
              "          5.76015729e+01, -1.14680300e-02,  3.00843642e-01,\n",
              "          2.43364063e-01,  8.42890132e-04, -6.82006875e-01,\n",
              "          5.25748243e-02,  1.03795433e-02,  1.01418952e-01,\n",
              "          1.15637504e-03, -3.30545463e-06, -2.59725448e+02,\n",
              "          2.61913260e+02,  3.59388272e+02,  3.57925315e+02,\n",
              "          9.19330751e+00, -3.73881721e+01, -6.27912295e+00,\n",
              "         -7.67463635e-01, -3.52642001e+02, -1.17881496e+02,\n",
              "         -1.11600879e+02, -1.53206926e+01, -2.88886676e+01,\n",
              "          5.34208863e+00,  9.01847409e-01, -6.89254128e+02,\n",
              "         -1.01001476e+02, -2.88799899e+02,  1.44756089e+02,\n",
              "          2.34558831e+02, -6.00671661e+02,  5.87020595e+02,\n",
              "         -2.88031094e+02,  1.44686104e+02,  2.34447443e+02,\n",
              "         -6.00670339e+02,  6.04607977e-01, -5.42934472e-01,\n",
              "         -6.20025293e-03, -2.87952512e-03,  1.85759865e+00,\n",
              "         -2.43019319e-01, -3.75767744e-03,  2.39812702e-01,\n",
              "         -3.12809949e-03,  7.86072213e-06, -1.00764093e+03,\n",
              "         -6.86867049e+02, -6.81533496e+02,  1.31372866e+01,\n",
              "         -5.87234491e+00, -3.49200637e+00, -5.46251012e-01,\n",
              "          4.95368287e+02,  4.48291763e+02,  1.14271530e+02,\n",
              "          2.06379118e+02,  1.58563988e+02, -3.34410572e+02,\n",
              "         -4.69013997e+01,  1.13589137e+02,  2.06103113e+02,\n",
              "          1.58847738e+02, -3.34410855e+02, -1.53590797e+00,\n",
              "          2.78568006e-01,  7.41039986e-02,  1.64174601e-02,\n",
              "          1.73362596e-02, -1.40363269e-01, -2.38950100e-03,\n",
              "          1.71789528e-01,  8.09119892e-04,  7.59914125e-08,\n",
              "         -3.51844309e+00,  1.09238716e+03,  2.39676122e+02,\n",
              "          4.15387755e+02, -7.57753729e+00, -6.69961270e+00,\n",
              "          7.86737784e+02,  5.94463464e+02,  2.43112363e+02,\n",
              "         -8.15351351e+01,  3.47543357e+02, -1.93785403e+02,\n",
              "          2.49625421e+02,  1.40067972e+02,  4.31464070e+02,\n",
              "         -1.84272182e+02, -4.02535093e+02,  4.12838986e+02,\n",
              "         -2.30146384e+00, -9.41372596e+02,  2.87398152e+01,\n",
              "         -3.09166986e+02,  3.54789954e+02, -1.72275738e+02,\n",
              "         -7.39582042e+01,  3.54242974e+02, -1.93783038e+02,\n",
              "          2.49626000e+02,  1.40068681e+02,  4.31463965e+02,\n",
              "         -1.84274201e+02, -4.02534992e+02,  4.12838989e+02,\n",
              "         -2.30172145e+00, -9.41372599e+02,  2.87398152e+01,\n",
              "          7.39583712e-03,  4.78290538e-02, -9.01386317e-04,\n",
              "         -4.08844540e-04, -1.21690056e-01, -1.53696423e-03,\n",
              "         -1.95178583e-04,  3.59526233e-04, -2.28725150e-04,\n",
              "         -1.49647338e-08,  6.89851376e-02,  3.00936755e-03,\n",
              "          1.84589604e-04,  7.67605051e-05,  2.55315766e-06,\n",
              "         -3.67137797e-08, -8.90034988e-05, -8.29395485e-07,\n",
              "         -7.46753033e-09,  6.30161528e-12]]), array([19163063.68840441]))"
            ]
          },
          "metadata": {},
          "execution_count": 47
        }
      ]
    },
    {
      "cell_type": "code",
      "source": [
        "y_hat= lin_reg_poli.predict(X_poly)\n",
        "\n",
        "plt.scatter(y_train, y_hat)\n",
        "#plt.plot(X_fit, y_fit, \"r-\", linewidth=2, label=\"Predictions\")\n",
        "plt.xlabel(\"$y_{real}$\", fontsize=18)\n",
        "plt.ylabel(\"$y_{hat}$\", rotation=90, fontsize=18)\n",
        "plt.legend(loc=\"upper left\", fontsize=14);"
      ],
      "metadata": {
        "colab": {
          "base_uri": "https://localhost:8080/",
          "height": 315
        },
        "outputId": "56970990-de98-46cb-f830-2d583bd3e44f",
        "id": "d7i_4BpHEkye"
      },
      "execution_count": null,
      "outputs": [
        {
          "output_type": "stream",
          "name": "stderr",
          "text": [
            "WARNING:matplotlib.legend:No handles with labels found to put in legend.\n"
          ]
        },
        {
          "output_type": "display_data",
          "data": {
            "text/plain": [
              "<Figure size 432x288 with 1 Axes>"
            ],
            "image/png": "[encoded data removed]"
          },
          "metadata": {
            "needs_background": "light"
          }
        }
      ]
    },
    {
      "cell_type": "markdown",
      "source": [
        "#### Metricas Ridge"
      ],
      "metadata": {
        "id": "buMMcrVFEkyf"
      }
    },
    {
      "cell_type": "code",
      "source": [
        "X_poly_test = poly_features.fit_transform(X_test)\n",
        "\n",
        "yhat_train = RigeModel.predict(X_poly)\n",
        "yhat_test = RigeModel.predict(X_poly_test)"
      ],
      "metadata": {
        "id": "GEhNlkUTEkyf"
      },
      "execution_count": null,
      "outputs": []
    },
    {
      "cell_type": "code",
      "source": [
        "  print(f\"\"\"\n",
        "          Test        Train\n",
        "  MSE:    {\"{:.3e}\".format(mean_squared_error(y_test, yhat_test)) :<5}   {\"{:.3e}\".format(mean_squared_error(y_train, yhat_train))}\n",
        "  MAE:    {\"{:.3e}\".format(mean_absolute_error(y_test, yhat_test)) :<5}   {\"{:.3e}\".format(mean_absolute_error(y_train, yhat_train))}\n",
        "  R2:     {\"{:.3e}\".format(r2_score(y_test, yhat_test)) :<5}   {\"{:.3e}\".format(r2_score(y_train, yhat_train))}\n",
        "  \"\"\")"
      ],
      "metadata": {
        "colab": {
          "base_uri": "https://localhost:8080/"
        },
        "outputId": "d41e007f-ce09-4f38-ac92-248e2698a81a",
        "id": "EV2XT-XoEkyf"
      },
      "execution_count": null,
      "outputs": [
        {
          "output_type": "stream",
          "name": "stdout",
          "text": [
            "\n",
            "        Test        Train\n",
            "MSE:    1.807e+11   1.017e+11\n",
            "MAE:    2.127e+05   1.969e+05\n",
            "R2:     -1.472e-01   2.306e-01\n",
            "\n"
          ]
        }
      ]
    },
    {
      "cell_type": "markdown",
      "source": [
        "### Lasso"
      ],
      "metadata": {
        "id": "kOr4hCzrEkyg"
      }
    },
    {
      "cell_type": "code",
      "source": [
        "LassoModel=Lasso(alpha=0.95, max_iter=50000)\n",
        "LassoModel.fit(X_poly, y_train)\n",
        "\n",
        "modelos['lasso'] = LassoModel"
      ],
      "metadata": {
        "colab": {
          "base_uri": "https://localhost:8080/"
        },
        "id": "TsUT5h7CEkyg",
        "outputId": "136b4999-7ae0-4fac-b3b2-65baca5715da"
      },
      "execution_count": null,
      "outputs": [
        {
          "output_type": "stream",
          "name": "stderr",
          "text": [
            "/usr/local/lib/python3.7/dist-packages/sklearn/linear_model/_coordinate_descent.py:648: ConvergenceWarning: Objective did not converge. You might want to increase the number of iterations, check the scale of the features or consider increasing regularisation. Duality gap: 2.750e+14, tolerance: 2.572e+11\n",
            "  coef_, l1_reg, l2_reg, X, y, max_iter, tol, rng, random, positive\n"
          ]
        }
      ]
    },
    {
      "cell_type": "code",
      "source": [
        "LassoModel.coef_, LassoModel.intercept_"
      ],
      "metadata": {
        "colab": {
          "base_uri": "https://localhost:8080/"
        },
        "outputId": "5ef2d750-d55d-4388-8d90-f84eaa9b4879",
        "id": "RBvP6P2hEkyg"
      },
      "execution_count": null,
      "outputs": [
        {
          "output_type": "execute_result",
          "data": {
            "text/plain": [
              "(array([ 5.80164540e+05, -7.81922665e+05,  1.16159273e+02, -2.34249894e+01,\n",
              "        -1.30651460e+06,  0.00000000e+00, -3.25032312e+04,  2.69602205e+05,\n",
              "         7.95587536e+05, -9.68761788e+01, -9.89733667e+02, -3.48157129e+04,\n",
              "        -1.62636275e+03,  2.13322940e+03, -3.50932785e+01, -1.11195582e+04,\n",
              "        -1.25717111e+04, -1.11034108e+02,  2.76561721e+00,  6.39527706e+04,\n",
              "        -7.70337563e+05, -5.22980137e+04,  1.32013675e+05, -2.95679184e+04,\n",
              "        -4.89977252e+01, -6.76425115e+00, -5.32056332e+01,  4.35836449e+01,\n",
              "         5.15352507e+01,  6.16110885e-01, -8.62358247e+03, -5.85200333e+01,\n",
              "         1.77500477e+00,  2.22438554e+04, -1.28893563e+05, -2.57208226e+04,\n",
              "         1.32696816e+05, -1.01054526e+04, -7.99309279e+01,  9.56507995e-01,\n",
              "         3.22993523e+02, -9.38266423e+01,  1.18197786e+02, -1.33188218e+00,\n",
              "        -7.46930041e-02,  2.93012719e-03, -1.29768254e+01, -2.28605242e+01,\n",
              "         4.46178903e+01, -2.74889308e+00, -1.49002156e+00, -5.99853856e-02,\n",
              "         2.20185659e-01,  1.32085565e-01,  4.94518205e-01,  8.78409566e-02,\n",
              "         4.64262974e-04,  4.62489747e-06, -4.16101089e+00,  2.08915374e+01,\n",
              "         6.42197470e+00, -1.03467421e+00, -1.18661167e-01, -9.77759186e-05,\n",
              "        -8.57688045e-03,  7.23815595e-03,  2.86320123e-02, -2.21565323e-03,\n",
              "         2.70629060e-05, -1.62380626e+05, -0.00000000e+00,  2.35553376e+04,\n",
              "         1.08176741e+05, -1.12353720e+04, -1.46662413e+02, -1.80914060e+02,\n",
              "         3.84169064e+02, -2.55232135e+02,  3.11676930e+01, -2.42306142e+00,\n",
              "         0.00000000e+00, -5.59751666e+05, -1.21608139e+05, -4.75463033e+05,\n",
              "         9.08533623e+02,  1.45647162e+03,  2.11007320e+03,  3.46224505e+03,\n",
              "        -9.66992728e+02,  4.96382728e+00, -1.45411147e+04,  4.54664988e+03,\n",
              "        -4.58452437e+04,  3.24642593e+01, -7.78532989e+02,  3.26416227e+02,\n",
              "         2.41580766e+02,  1.09573422e+02, -1.79204108e+00, -7.23689599e+04,\n",
              "         2.02237737e+04, -1.08679442e+02, -2.80026760e+01, -1.38084244e+02,\n",
              "         7.12047042e-01,  1.52692147e+02, -1.99952875e+00, -6.64124389e+03,\n",
              "        -2.12435301e+01, -5.56175360e+01, -7.57142774e+01, -5.62784011e+00,\n",
              "         3.32518355e+01, -1.09419403e+00, -8.21218827e-02,  4.30743094e-01,\n",
              "         2.52874505e-01, -2.64468379e-01,  6.17033875e-02,  3.00736550e-03,\n",
              "        -6.73396267e-01,  1.02014323e-01,  7.37931872e-01,  1.71241496e-01,\n",
              "         2.14296372e-03,  5.26246768e-01, -1.45253010e-01, -7.05836029e-01,\n",
              "         8.34712057e-03,  1.49710446e-02, -2.43500605e-01,  1.80238230e-02,\n",
              "        -2.83177448e-02,  3.66811718e-03,  3.65637572e-05,  4.50172395e+02,\n",
              "         3.35330080e+03, -1.84667227e+01,  1.53553514e-01, -1.00718042e+04,\n",
              "         8.03040165e+04,  2.60405739e+03, -7.54481086e+03, -2.06853112e+03,\n",
              "         1.79650535e+01,  2.49035930e+01,  2.11227196e+01, -4.63333828e+00,\n",
              "         4.61867525e+00, -1.45452863e-01, -5.21403355e+03,  1.36492034e+01,\n",
              "        -4.08797307e-01, -5.37586846e+03, -4.27573413e+04,  2.07482836e+03,\n",
              "        -1.72144886e+04,  9.40052990e+03, -2.81770568e+00, -3.40622246e+00,\n",
              "         1.33118063e+01,  4.38976175e+00, -2.13969636e+01,  5.77936036e-01,\n",
              "        -8.57403117e-03, -2.93482780e-04,  1.52408374e+01,  1.21965988e+02,\n",
              "        -1.89522217e+00,  1.40759362e+01, -8.19370892e+00,  8.86866621e-03,\n",
              "        -3.97531189e-02,  3.64129347e-02,  2.35381224e-02, -1.60137745e-02,\n",
              "        -4.44251346e-04,  6.87923848e-07,  3.82410969e-01,  2.50513022e+00,\n",
              "        -4.50881361e-01, -4.06792382e-01,  1.50875148e-01,  9.37848276e-05,\n",
              "         8.35983639e-04, -1.61417222e-03, -7.62063208e-05, -6.19979208e-05,\n",
              "         3.56809708e-06, -1.98202912e+04,  1.91034404e+05,  7.36683785e+03,\n",
              "         2.53425407e+03,  2.05929035e+03,  1.71388900e+01, -2.28984493e+01,\n",
              "         3.88645880e+01,  2.91907293e+01, -3.44717169e+01, -4.75159985e-01,\n",
              "        -1.14018564e+06,  1.82285894e+05,  2.82978870e+04,  5.42496957e+04,\n",
              "        -7.36746676e+01, -1.93524649e+02,  2.65376225e+01,  1.26970581e+02,\n",
              "        -2.41634258e+02,  1.21823479e+01, -4.90041868e+03,  5.10108847e+03,\n",
              "         8.28380596e+03,  2.59988082e+00,  1.22712645e+01, -8.99127404e+00,\n",
              "        -2.13040345e+00, -2.05826997e+01,  5.74750621e-01, -6.08676539e+03,\n",
              "         1.17954941e+04,  1.05274648e+01, -1.43558054e+01, -5.10998535e+01,\n",
              "        -1.61063928e+01, -1.49497508e+01,  3.10873436e-01, -8.99307575e+02,\n",
              "         1.76484372e+00,  1.23502222e+00,  5.06288983e+00,  7.76587456e+00,\n",
              "        -2.02547548e+00, -2.99814322e-01,  9.34389721e-03,  5.86294734e-03,\n",
              "         1.47380392e-02, -3.31626156e-02, -1.33953841e-02,  3.69175457e-04,\n",
              "         2.59951446e-02,  7.20432714e-02, -6.87505749e-04,  5.12210873e-03,\n",
              "         4.14678297e-06, -1.77841824e-01,  6.20077796e-02, -1.69684311e-02,\n",
              "         7.56298994e-04, -7.53486900e-02, -2.51701487e-02, -3.03397299e-04,\n",
              "         4.39990200e-02,  3.29054450e-04, -6.73801629e-06, -6.94055950e+03,\n",
              "         1.69223708e+01,  3.68582632e-01,  4.73669854e+03, -5.16274985e+04,\n",
              "        -1.61649051e+04,  1.25651358e+04,  4.57474285e+03, -1.52602199e+01,\n",
              "        -5.10738367e+01, -5.94865610e+00,  2.44395419e+01,  5.17923304e+00,\n",
              "        -3.60631706e-01, -4.54831244e-03, -5.55977544e-04,  1.80024074e+01,\n",
              "         3.36684041e+02, -3.17001370e+01, -2.52260471e+00,  1.17630661e+01,\n",
              "        -1.68595561e-02, -9.72784355e-03,  2.17259161e-02, -7.34729889e-02,\n",
              "         3.47437585e-03,  5.48984524e-05, -1.03462188e-06,  1.87021033e-01,\n",
              "         7.01682038e+00,  6.87586067e-01, -4.06772365e-01, -3.57468367e-01,\n",
              "         7.01061920e-04,  7.97080448e-04,  5.87967640e-04,  7.78077540e-05,\n",
              "        -1.11194227e-05,  3.94045488e-06, -5.44872172e+03, -2.92925495e+05,\n",
              "        -7.06212375e+03, -2.73712126e+04,  5.19409354e+03, -2.62896309e+01,\n",
              "         7.77135902e+01, -7.74362506e+00, -3.17533009e+01,  1.50616136e+01,\n",
              "        -6.94151032e-01, -1.83286979e+06,  4.50541624e+05,  1.66841445e+05,\n",
              "         2.47132035e+05, -5.26172934e+02, -3.14158492e+02, -7.68544627e+02,\n",
              "         5.83837494e+01,  8.68256298e+01, -4.15953371e+00,  1.02916978e+04,\n",
              "        -1.98968006e+04, -1.95516654e+04,  5.17445755e+01,  2.14355915e+01,\n",
              "         1.05148213e+02,  2.06782855e-01,  3.21925093e+01, -7.38381748e-01,\n",
              "         4.21454183e+03, -2.13781762e+04,  6.21622157e+00, -6.64245193e+00,\n",
              "         6.28461590e+00,  1.43532830e+01,  1.75172502e+01, -3.70043365e-01,\n",
              "         2.76653127e+03,  7.16126998e+00, -4.97364123e+01, -3.85105901e-01,\n",
              "        -1.62516706e+01, -1.09257611e+01,  1.85375770e-01,  1.91902372e-03,\n",
              "         3.33817230e-02,  1.68978209e-02,  3.31779054e-02, -1.54447392e-02,\n",
              "        -4.82753843e-04,  9.06595421e-02,  7.43814337e-02,  5.21282814e-02,\n",
              "         6.56880195e-02, -1.40600871e-03, -1.56403366e-02,  1.39135177e-01,\n",
              "        -5.37256595e-02,  7.74602981e-04, -4.89469365e-02, -6.59909148e-03,\n",
              "         1.46704473e-03,  1.75926011e-03,  5.44516964e-04, -8.83033326e-07,\n",
              "         9.16415390e-06,  2.37102691e-07,  1.75089360e-03, -2.49715809e-01,\n",
              "        -1.67933471e-03,  2.38343077e-03, -2.94687414e-03,  1.58604282e-06,\n",
              "         3.35672640e-05,  1.33449633e-06,  1.10768035e-04,  8.85253925e-06,\n",
              "         6.86013807e-08,  1.06119320e-10, -9.08241512e-04, -3.30455868e-03,\n",
              "        -8.61218045e-04,  4.60678577e-04,  9.69034915e-05, -2.18457543e-07,\n",
              "        -1.70737898e-06,  1.58496990e-07, -4.32376465e-06, -3.91110433e-07,\n",
              "         1.47502347e-09, -3.79481316e+01, -9.04270825e+02,  5.08442877e+01,\n",
              "         4.77622831e+01, -1.95297800e+01,  2.33653718e-02, -8.50019869e-02,\n",
              "         8.74090819e-02, -1.64107796e-02, -4.30947996e-02,  5.74005584e-04,\n",
              "         6.78733486e+01,  3.09159927e+02, -2.25393441e+02, -2.84505450e+00,\n",
              "         1.14041423e-01, -1.55994250e-01,  1.63899701e-01, -1.78226585e-01,\n",
              "        -9.87332336e-03, -3.56912170e-03,  3.69003614e+00, -2.49346861e+00,\n",
              "         1.08941498e+01, -4.15891801e-02, -4.03493299e-03, -3.41128870e-02,\n",
              "         2.68493007e-02,  9.36571892e-03,  3.42478702e-04,  1.16504898e+01,\n",
              "        -7.08516830e+00, -3.11637811e-03,  5.63031769e-02, -4.75422473e-02,\n",
              "        -3.04569456e-02,  1.21316948e-02,  5.86011401e-04,  1.08950861e+00,\n",
              "        -6.43040122e-03,  1.12433717e-02,  2.10494653e-02,  1.42016823e-02,\n",
              "         1.48622353e-03, -9.96538866e-05, -1.59545978e-05,  8.82630696e-06,\n",
              "         2.84540294e-05,  5.19802251e-05,  2.24743928e-05,  4.06595191e-07,\n",
              "        -1.40232284e-04, -1.28112111e-04,  2.12992215e-05,  3.63809434e-06,\n",
              "         1.72464163e-06, -3.27921961e-05, -1.68846374e-04, -2.37974679e-05,\n",
              "        -8.19792840e-07,  1.55352573e-04,  7.95927740e-06, -2.16145170e-06,\n",
              "        -3.69761655e-05,  1.69825113e-07, -9.32376103e-10,  8.86269773e-13,\n",
              "         1.01042188e-06,  3.20508775e-06,  4.80367952e-07, -2.05470244e-07,\n",
              "         7.85426883e-07, -1.24987236e-09, -1.39693072e-09, -6.04965874e-09,\n",
              "        -2.74380104e-09,  1.43909332e-09, -3.31094581e-12, -9.76614796e-01,\n",
              "        -1.80796617e+00, -2.25642966e-01,  1.86848276e-01,  4.12023140e-01,\n",
              "         6.65111838e-04, -5.18496810e-04, -3.35027144e-04,  6.51750248e-04,\n",
              "         1.22244879e-03,  1.14311095e-07, -5.80066196e+00, -2.83978741e-01,\n",
              "        -7.30053504e-01,  5.31582716e+00,  8.22495171e-03,  7.98040285e-03,\n",
              "        -4.92703649e-02, -3.16068355e-03, -1.87882734e-03,  2.27826296e-04,\n",
              "        -2.19173017e-01,  1.54006310e-03, -1.66647005e-01,  8.47955523e-04,\n",
              "         1.47442890e-03, -2.49738311e-03, -3.13375889e-04,  4.10002568e-06,\n",
              "         6.80144277e-07,  2.78077246e-01, -2.23203180e-01,  3.22337197e-04,\n",
              "         2.69563966e-05,  4.23798899e-04, -1.51223988e-03,  2.15446396e-04,\n",
              "         6.02917256e-07,  3.59838014e-02, -1.13018297e-04,  5.77120357e-05,\n",
              "        -2.49736866e-04, -2.02153937e-04,  6.23603528e-05,  8.10266327e-07,\n",
              "        -7.24271524e-08,  8.91312093e-07, -1.04146243e-06,  3.64937615e-06,\n",
              "        -4.99899847e-07, -4.10681140e-09,  9.82127664e-07,  2.30952416e-06,\n",
              "         4.99378675e-06, -2.41746186e-08,  2.39962694e-10,  4.96036707e-06,\n",
              "         3.11715468e-07, -1.62076307e-06, -1.96685654e-08, -1.06526482e-05,\n",
              "        -7.09014671e-07,  1.49095859e-08,  8.57284210e-07,  2.43813918e-09,\n",
              "        -4.07869602e-11,  4.67219820e+03, -7.41646401e+03, -7.71033939e+03,\n",
              "         1.46526089e+04, -1.64743972e+04,  6.45134821e+01, -1.14882258e+02,\n",
              "         8.22883820e+01, -7.40403652e+00,  8.67124353e+01, -7.43084707e-01,\n",
              "        -0.00000000e+00, -6.41252209e+05, -1.24504356e+05, -1.74710116e+05,\n",
              "         1.00279448e+03,  8.31672230e+02,  1.92929433e+03,  1.02651552e+02,\n",
              "         7.49572398e+01,  1.34734045e+01, -1.65097483e+04,  6.32908583e+03,\n",
              "         1.39700904e+04, -2.76019724e+01, -3.23584052e+01, -5.34660527e+01,\n",
              "         2.09384298e+01, -1.49845978e+01,  2.30398003e-01, -2.86506490e+04,\n",
              "         9.73356301e+03,  2.79222372e+00, -5.39593720e+01,  3.91734071e+00,\n",
              "        -6.17546123e+01, -1.96933559e+01, -2.48257445e-02,  1.69186473e+03,\n",
              "        -2.52991044e+01,  5.18693560e+01,  2.37217258e+01,  8.25081196e+00,\n",
              "         5.23728375e-01,  1.33094474e-01,  1.50981023e-03,  7.48408605e-02,\n",
              "        -1.05353906e-02,  3.20895826e-03, -1.94117448e-02,  3.67434174e-04,\n",
              "         5.79297269e-02,  1.94699498e-01, -1.96119601e-02, -9.56736396e-02,\n",
              "         6.99894178e-04, -2.63240146e-02,  1.76114618e-01, -1.63853179e-02,\n",
              "         3.10755190e-03,  8.15479144e-02, -6.79715925e-02,  1.52976011e-03,\n",
              "         2.45166379e-03, -8.12426099e-04,  1.76119119e-06,  0.00000000e+00,\n",
              "        -1.11641474e+06, -0.00000000e+00, -5.01457376e+05,  7.61025082e+02,\n",
              "         2.93261834e+03,  1.68223904e+03, -6.97761365e+02, -9.68808231e+01,\n",
              "        -3.87098509e+01,  1.45088285e+05,  1.20319586e+04,  7.48650202e+04,\n",
              "        -2.06734534e+02, -1.05134373e+03, -7.49962283e+01, -6.69978659e+01,\n",
              "        -1.68242799e+02,  1.06495886e+01, -4.44803471e+04,  1.23858215e+04,\n",
              "         1.00313812e+02,  7.01839043e+01, -3.62947505e+01,  3.34436766e+01,\n",
              "         1.12533729e+02,  1.29657668e+01, -2.95474280e+03, -3.05993377e+01,\n",
              "        -3.37163615e+02, -3.33953134e+01, -1.67566673e+02,  1.24705234e+02,\n",
              "        -4.11137234e+00,  6.29791063e-02,  7.74232843e-01, -2.68541820e-01,\n",
              "         1.67681528e-01, -6.15410597e-02, -8.84560969e-03,  6.08037162e-01,\n",
              "         1.32364703e+00, -3.48913268e-02, -4.22159008e-01,  6.85549229e-03,\n",
              "         7.52345201e-01, -3.54162742e+00,  5.50558899e-01, -3.06839275e-02,\n",
              "         2.52894657e+00,  9.16149433e-02, -5.60399194e-03,  9.28145913e-03,\n",
              "         1.17491006e-02, -3.77102644e-05,  1.83546898e+04, -5.37120933e+03,\n",
              "        -2.61048041e+03,  7.02386016e+00,  3.54595013e+00, -1.10969263e+01,\n",
              "        -3.36472639e+00, -1.00038162e+01,  9.05595507e-02, -1.08874216e+04,\n",
              "         1.57144876e+03,  3.03352521e+01,  3.00797872e+01,  2.75776826e+01,\n",
              "         2.81901907e+00, -1.25682396e+01,  5.61444020e-03,  1.06507932e+04,\n",
              "        -2.31302996e+01, -1.45598681e+01, -3.67340869e+01,  6.51232237e-02,\n",
              "        -1.08544738e+01,  1.85920347e-01,  2.99206215e-02,  1.20016601e-02,\n",
              "        -5.53952012e-02, -5.22671223e-02,  1.24974269e-02, -1.58549913e-04,\n",
              "        -2.40713918e-02,  3.27225144e-01,  1.98902636e-03,  4.67986636e-02,\n",
              "        -1.09227784e-03, -7.09957295e-02,  3.09974217e-01,  2.15947095e-02,\n",
              "         2.56616160e-04, -4.00827039e-01, -2.19499588e-02,  6.07575857e-04,\n",
              "        -8.92731689e-03, -3.07165094e-04, -1.92361474e-06,  2.32271839e+02,\n",
              "         3.90056577e+03,  1.39579254e+01, -6.08397459e+00,  4.41978074e+01,\n",
              "        -4.11370698e+01, -2.09175683e+01, -8.15180185e-02, -6.05965120e+03,\n",
              "         3.18900977e+00,  1.43200540e+01, -3.46795174e+00, -1.82991111e+01,\n",
              "         1.77569799e+01,  4.15217622e-01, -3.38758386e-02, -2.52093265e-02,\n",
              "        -4.57288415e-02,  7.53606358e-02,  2.46682249e-02, -9.91622646e-04,\n",
              "        -3.84865027e-02,  1.34755290e-02,  6.87899176e-02, -2.78004922e-02,\n",
              "        -1.16095431e-03, -4.92140818e-02,  1.70424132e-01, -4.81660623e-02,\n",
              "         8.32252492e-04,  7.05435122e-02, -3.70419558e-03,  1.66095907e-03,\n",
              "         2.73069790e-03, -9.94093618e-04,  1.90470798e-06,  9.26139715e+02,\n",
              "         2.06715330e+00,  5.32310051e+00,  3.27375083e+00, -7.34784886e+00,\n",
              "        -4.39827090e+00, -4.34292869e-02,  5.51447421e-04, -1.30822016e-02,\n",
              "         3.46992346e-02, -3.46022639e-02,  4.52850194e-03, -2.22778845e-05,\n",
              "         3.78177441e-02, -3.78599880e-02, -3.46357897e-02,  1.78986165e-02,\n",
              "        -1.59235722e-04, -1.73550641e-01,  3.56442080e-02, -6.66578972e-03,\n",
              "        -3.31245303e-04,  9.17271722e-03,  7.26668952e-02, -2.78217023e-04,\n",
              "        -6.19693971e-03,  2.21814207e-04,  3.05133224e-06,  3.38087366e-06,\n",
              "        -1.92474735e-05,  7.25752700e-05, -1.47176388e-04,  3.79839513e-05,\n",
              "        -2.57314989e-08, -5.84222020e-06, -2.18829937e-04, -2.36352746e-04,\n",
              "         4.91074688e-05, -1.85536554e-06, -1.06276415e-04, -3.38453316e-04,\n",
              "         9.02911358e-06, -1.30532817e-06,  2.17082869e-04,  7.15494571e-05,\n",
              "         8.27691947e-07, -4.20229735e-05, -3.11670102e-07,  5.93925250e-09,\n",
              "         9.53053438e-05,  2.27759120e-04, -1.00536451e-04, -7.94443807e-05,\n",
              "         1.25480180e-07,  1.82856680e-04, -7.61615767e-04, -3.17560480e-05,\n",
              "        -7.85091633e-07,  7.85696947e-05,  1.55698851e-05,  1.15027975e-06,\n",
              "        -3.45358570e-05,  5.33916429e-07,  1.25828071e-08,  3.43404958e-03,\n",
              "         9.52919547e-05, -2.70521591e-04,  3.88744200e-06,  1.83410736e-05,\n",
              "        -5.91213731e-05, -2.84737652e-06, -9.38304277e-06,  1.15324456e-06,\n",
              "        -1.41683939e-08,  8.94571018e-05,  1.89401777e-05, -9.78405023e-06,\n",
              "        -3.63860534e-05,  5.02915913e-07, -3.91674304e-09,  2.27052734e-05,\n",
              "        -5.80917354e-07, -1.11991968e-08, -3.32069869e-12]),\n",
              " array([41394331.94286343]))"
            ]
          },
          "metadata": {},
          "execution_count": 52
        }
      ]
    },
    {
      "cell_type": "code",
      "source": [
        "y_hat= lin_reg_poli.predict(X_poly)\n",
        "\n",
        "plt.scatter(y_train, y_hat)\n",
        "#plt.plot(X_fit, y_fit, \"r-\", linewidth=2, label=\"Predictions\")\n",
        "plt.xlabel(\"$y_{real}$\", fontsize=18)\n",
        "plt.ylabel(\"$y_{hat}$\", rotation=90, fontsize=18)\n",
        "plt.legend(loc=\"upper left\", fontsize=14);"
      ],
      "metadata": {
        "colab": {
          "base_uri": "https://localhost:8080/",
          "height": 315
        },
        "outputId": "cccab53e-64d3-47bf-e732-1f34e7303dbd",
        "id": "bfs4D21vEkyh"
      },
      "execution_count": null,
      "outputs": [
        {
          "output_type": "stream",
          "name": "stderr",
          "text": [
            "WARNING:matplotlib.legend:No handles with labels found to put in legend.\n"
          ]
        },
        {
          "output_type": "display_data",
          "data": {
            "text/plain": [
              "<Figure size 432x288 with 1 Axes>"
            ],
            "image/png": "[encoded data removed]"
          },
          "metadata": {
            "needs_background": "light"
          }
        }
      ]
    },
    {
      "cell_type": "markdown",
      "source": [
        "#### Metricas Lasso"
      ],
      "metadata": {
        "id": "EnS11l4EEkyh"
      }
    },
    {
      "cell_type": "code",
      "source": [
        "X_poly_test = poly_features.fit_transform(X_test)\n",
        "\n",
        "yhat_train = LassoModel.predict(X_poly)\n",
        "yhat_test = LassoModel.predict(X_poly_test)"
      ],
      "metadata": {
        "id": "WTfoVrZnEkyj"
      },
      "execution_count": null,
      "outputs": []
    },
    {
      "cell_type": "code",
      "source": [
        "  print(f\"\"\"\n",
        "          Test        Train\n",
        "  MSE:    {\"{:.3e}\".format(mean_squared_error(y_test, yhat_test)) :<5}   {\"{:.3e}\".format(mean_squared_error(y_train, yhat_train))}\n",
        "  MAE:    {\"{:.3e}\".format(mean_absolute_error(y_test, yhat_test)) :<5}   {\"{:.3e}\".format(mean_absolute_error(y_train, yhat_train))}\n",
        "  R2:     {\"{:.3e}\".format(r2_score(y_test, yhat_test)) :<5}   {\"{:.3e}\".format(r2_score(y_train, yhat_train))}\n",
        "  \"\"\")"
      ],
      "metadata": {
        "colab": {
          "base_uri": "https://localhost:8080/"
        },
        "outputId": "d1df6b98-b384-488c-9f20-d4cf5931d41e",
        "id": "1df1v1vYEkyk"
      },
      "execution_count": null,
      "outputs": [
        {
          "output_type": "stream",
          "name": "stdout",
          "text": [
            "\n",
            "        Test        Train\n",
            "MSE:    3.719e+10   2.825e+10\n",
            "MAE:    1.220e+05   1.165e+05\n",
            "R2:     7.640e-01   7.864e-01\n",
            "\n"
          ]
        }
      ]
    },
    {
      "cell_type": "code",
      "source": [
        "modelos"
      ],
      "metadata": {
        "colab": {
          "base_uri": "https://localhost:8080/"
        },
        "outputId": "7f632d58-da92-43b7-f7f5-41e242067785",
        "id": "2u2QmPQ6Ekyk"
      },
      "execution_count": null,
      "outputs": [
        {
          "output_type": "execute_result",
          "data": {
            "text/plain": [
              "{'lnr': LinearRegression(),\n",
              " 'lnr-pol': LinearRegression(),\n",
              " 'ridge': Ridge(alpha=2),\n",
              " 'lasso': Lasso(alpha=0.95, max_iter=50000)}"
            ]
          },
          "metadata": {},
          "execution_count": 57
        }
      ]
    },
    {
      "cell_type": "code",
      "source": [
        "metricas = {}\n",
        "metricas_fn = {'mse':mean_squared_error,\n",
        "               'mae':mean_absolute_error,\n",
        "               'r2': r2_score}\n",
        "\n",
        "for nombre, modelo in modelos.items():\n",
        "  if nombre == 'lnr':\n",
        "\n",
        "    yhat_train = modelo.predict(X_train)\n",
        "    yhat_test = modelo.predict(X_test)\n",
        "\n",
        "    for error, fn in metricas_fn.items():\n",
        "      metricas[nombre+'_'+error] = [fn(y_test, yhat_test), fn(y_train, yhat_train)]\n",
        "\n",
        "  else:\n",
        "    X_poly_test = poly_features.fit_transform(X_test)\n",
        "\n",
        "    yhat_train = modelo.predict(X_poly)\n",
        "    yhat_test = modelo.predict(X_poly_test)\n",
        "\n",
        "    for error, fn in metricas_fn.items():\n",
        "      metricas[nombre+'_'+error] = [fn(y_test, yhat_test), fn(y_train, yhat_train)]\n",
        "\n"
      ],
      "metadata": {
        "id": "XTXaJgAgEkyk"
      },
      "execution_count": null,
      "outputs": []
    },
    {
      "cell_type": "code",
      "source": [
        "pd.DataFrame(metricas).T.rename(columns={0:'Test', 1:'Train'})"
      ],
      "metadata": {
        "colab": {
          "base_uri": "https://localhost:8080/",
          "height": 426
        },
        "outputId": "03d894ba-b1b2-4a54-b2d9-4d0e87ed030c",
        "id": "xPTQ0O8EEkyk"
      },
      "execution_count": null,
      "outputs": [
        {
          "output_type": "execute_result",
          "data": {
            "text/plain": [
              "                     Test         Train\n",
              "lnr_mse      5.388590e+10  4.589658e+10\n",
              "lnr_mae      1.374801e+05  1.392693e+05\n",
              "lnr_r2       6.579723e-01  6.529197e-01\n",
              "lnr-pol_mse  4.510378e+10  3.033310e+10\n",
              "lnr-pol_mae  1.276409e+05  1.201112e+05\n",
              "lnr-pol_r2   7.137147e-01  7.706142e-01\n",
              "ridge_mse    1.807324e+11  1.017481e+11\n",
              "ridge_mae    2.126967e+05  1.968785e+05\n",
              "ridge_r2    -1.471549e-01  2.305579e-01\n",
              "lasso_mse    3.718668e+10  2.824904e+10\n",
              "lasso_mae    1.219689e+05  1.164840e+05\n",
              "lasso_r2     7.639665e-01  7.863744e-01"
            ],
            "text/html": [
              "\n",
              "  <div id=\"df-b6367d4d-59dd-4afd-a7ef-57e437b3f410\">\n",
              "    <div class=\"colab-df-container\">\n",
              "      <div>\n",
              "<style scoped>\n",
              "    .dataframe tbody tr th:only-of-type {\n",
              "        vertical-align: middle;\n",
              "    }\n",
              "\n",
              "    .dataframe tbody tr th {\n",
              "        vertical-align: top;\n",
              "    }\n",
              "\n",
              "    .dataframe thead th {\n",
              "        text-align: right;\n",
              "    }\n",
              "</style>\n",
              "<table border=\"1\" class=\"dataframe\">\n",
              "  <thead>\n",
              "    <tr style=\"text-align: right;\">\n",
              "      <th></th>\n",
              "      <th>Test</th>\n",
              "      <th>Train</th>\n",
              "    </tr>\n",
              "  </thead>\n",
              "  <tbody>\n",
              "    <tr>\n",
              "      <th>lnr_mse</th>\n",
              "      <td>5.388590e+10</td>\n",
              "      <td>4.589658e+10</td>\n",
              "    </tr>\n",
              "    <tr>\n",
              "      <th>lnr_mae</th>\n",
              "      <td>1.374801e+05</td>\n",
              "      <td>1.392693e+05</td>\n",
              "    </tr>\n",
              "    <tr>\n",
              "      <th>lnr_r2</th>\n",
              "      <td>6.579723e-01</td>\n",
              "      <td>6.529197e-01</td>\n",
              "    </tr>\n",
              "    <tr>\n",
              "      <th>lnr-pol_mse</th>\n",
              "      <td>4.510378e+10</td>\n",
              "      <td>3.033310e+10</td>\n",
              "    </tr>\n",
              "    <tr>\n",
              "      <th>lnr-pol_mae</th>\n",
              "      <td>1.276409e+05</td>\n",
              "      <td>1.201112e+05</td>\n",
              "    </tr>\n",
              "    <tr>\n",
              "      <th>lnr-pol_r2</th>\n",
              "      <td>7.137147e-01</td>\n",
              "      <td>7.706142e-01</td>\n",
              "    </tr>\n",
              "    <tr>\n",
              "      <th>ridge_mse</th>\n",
              "      <td>1.807324e+11</td>\n",
              "      <td>1.017481e+11</td>\n",
              "    </tr>\n",
              "    <tr>\n",
              "      <th>ridge_mae</th>\n",
              "      <td>2.126967e+05</td>\n",
              "      <td>1.968785e+05</td>\n",
              "    </tr>\n",
              "    <tr>\n",
              "      <th>ridge_r2</th>\n",
              "      <td>-1.471549e-01</td>\n",
              "      <td>2.305579e-01</td>\n",
              "    </tr>\n",
              "    <tr>\n",
              "      <th>lasso_mse</th>\n",
              "      <td>3.718668e+10</td>\n",
              "      <td>2.824904e+10</td>\n",
              "    </tr>\n",
              "    <tr>\n",
              "      <th>lasso_mae</th>\n",
              "      <td>1.219689e+05</td>\n",
              "      <td>1.164840e+05</td>\n",
              "    </tr>\n",
              "    <tr>\n",
              "      <th>lasso_r2</th>\n",
              "      <td>7.639665e-01</td>\n",
              "      <td>7.863744e-01</td>\n",
              "    </tr>\n",
              "  </tbody>\n",
              "</table>\n",
              "</div>\n",
              "      <button class=\"colab-df-convert\" onclick=\"convertToInteractive('df-b6367d4d-59dd-4afd-a7ef-57e437b3f410')\"\n",
              "              title=\"Convert this dataframe to an interactive table.\"\n",
              "              style=\"display:none;\">\n",
              "        \n",
              "  <svg xmlns=\"http://www.w3.org/2000/svg\" height=\"24px\"viewBox=\"0 0 24 24\"\n",
              "       width=\"24px\">\n",
              "    <path d=\"M0 0h24v24H0V0z\" fill=\"none\"/>\n",
              "    <path d=\"M18.56 5.44l.94 2.06.94-2.06 2.06-.94-2.06-.94-.94-2.06-.94 2.06-2.06.94zm-11 1L8.5 8.5l.94-2.06 2.06-.94-2.06-.94L8.5 2.5l-.94 2.06-2.06.94zm10 10l.94 2.06.94-2.06 2.06-.94-2.06-.94-.94-2.06-.94 2.06-2.06.94z\"/><path d=\"M17.41 7.96l-1.37-1.37c-.4-.4-.92-.59-1.43-.59-.52 0-1.04.2-1.43.59L10.3 9.45l-7.72 7.72c-.78.78-.78 2.05 0 2.83L4 21.41c.39.39.9.59 1.41.59.51 0 1.02-.2 1.41-.59l7.78-7.78 2.81-2.81c.8-.78.8-2.07 0-2.86zM5.41 20L4 18.59l7.72-7.72 1.47 1.35L5.41 20z\"/>\n",
              "  </svg>\n",
              "      </button>\n",
              "      \n",
              "  <style>\n",
              "    .colab-df-container {\n",
              "      display:flex;\n",
              "      flex-wrap:wrap;\n",
              "      gap: 12px;\n",
              "    }\n",
              "\n",
              "    .colab-df-convert {\n",
              "      background-color: #E8F0FE;\n",
              "      border: none;\n",
              "      border-radius: 50%;\n",
              "      cursor: pointer;\n",
              "      display: none;\n",
              "      fill: #1967D2;\n",
              "      height: 32px;\n",
              "      padding: 0 0 0 0;\n",
              "      width: 32px;\n",
              "    }\n",
              "\n",
              "    .colab-df-convert:hover {\n",
              "      background-color: #E2EBFA;\n",
              "      box-shadow: 0px 1px 2px rgba(60, 64, 67, 0.3), 0px 1px 3px 1px rgba(60, 64, 67, 0.15);\n",
              "      fill: #174EA6;\n",
              "    }\n",
              "\n",
              "    [theme=dark] .colab-df-convert {\n",
              "      background-color: #3B4455;\n",
              "      fill: #D2E3FC;\n",
              "    }\n",
              "\n",
              "    [theme=dark] .colab-df-convert:hover {\n",
              "      background-color: #434B5C;\n",
              "      box-shadow: 0px 1px 3px 1px rgba(0, 0, 0, 0.15);\n",
              "      filter: drop-shadow(0px 1px 2px rgba(0, 0, 0, 0.3));\n",
              "      fill: #FFFFFF;\n",
              "    }\n",
              "  </style>\n",
              "\n",
              "      <script>\n",
              "        const buttonEl =\n",
              "          document.querySelector('#df-b6367d4d-59dd-4afd-a7ef-57e437b3f410 button.colab-df-convert');\n",
              "        buttonEl.style.display =\n",
              "          google.colab.kernel.accessAllowed ? 'block' : 'none';\n",
              "\n",
              "        async function convertToInteractive(key) {\n",
              "          const element = document.querySelector('#df-b6367d4d-59dd-4afd-a7ef-57e437b3f410');\n",
              "          const dataTable =\n",
              "            await google.colab.kernel.invokeFunction('convertToInteractive',\n",
              "                                                     [key], {});\n",
              "          if (!dataTable) return;\n",
              "\n",
              "          const docLinkHtml = 'Like what you see? Visit the ' +\n",
              "            '<a target=\"_blank\" href=https://colab.research.google.com/notebooks/data_table.ipynb>data table notebook</a>'\n",
              "            + ' to learn more about interactive tables.';\n",
              "          element.innerHTML = '';\n",
              "          dataTable['output_type'] = 'display_data';\n",
              "          await google.colab.output.renderOutput(dataTable, element);\n",
              "          const docLink = document.createElement('div');\n",
              "          docLink.innerHTML = docLinkHtml;\n",
              "          element.appendChild(docLink);\n",
              "        }\n",
              "      </script>\n",
              "    </div>\n",
              "  </div>\n",
              "  "
            ]
          },
          "metadata": {},
          "execution_count": 59
        }
      ]
    },
    {
      "cell_type": "code",
      "source": [
        "import re"
      ],
      "metadata": {
        "id": "Q0yf6lXAEkyl"
      },
      "execution_count": null,
      "outputs": []
    },
    {
      "cell_type": "code",
      "source": [
        "nombres_metricas = ['mse', 'mae', 'r2']\n",
        "\n",
        "for nombre in nombres_metricas:\n",
        "\n",
        "  for metrica, value in metricas.items():\n",
        "\n",
        "    if nombre in metrica:\n",
        "      plt.plot(re.sub('_.*', '', metrica), value[0], '-o', label='Train', color='g')\n",
        "      plt.plot(re.sub('_.*', '', metrica), value[1], '-*', label='Test', color='r')\n",
        "\n",
        "  print('--'+nombre+'--')\n",
        "  plt.xlabel(nombre)\n",
        "  plt.legend( [\"Train\", \"Test\"], bbox_to_anchor= (1.1, 1.15), ncol=2)\n",
        "  plt.title('Metrica '+nombre)\n",
        "  plt.show()\n",
        "  print (\"////////////\\n\")"
      ],
      "metadata": {
        "colab": {
          "base_uri": "https://localhost:8080/",
          "height": 1000
        },
        "outputId": "53c48129-189d-4e05-ae04-2a78624fb7e4",
        "id": "c7MBsnpeEkyl"
      },
      "execution_count": null,
      "outputs": [
        {
          "output_type": "stream",
          "name": "stdout",
          "text": [
            "--mse--\n"
          ]
        },
        {
          "output_type": "display_data",
          "data": {
            "text/plain": [
              "<Figure size 432x288 with 1 Axes>"
            ],
            "image/png": "[encoded data removed]"
          },
          "metadata": {
            "needs_background": "light"
          }
        },
        {
          "output_type": "stream",
          "name": "stdout",
          "text": [
            "////////////\n",
            "\n",
            "--mae--\n"
          ]
        },
        {
          "output_type": "display_data",
          "data": {
            "text/plain": [
              "<Figure size 432x288 with 1 Axes>"
            ],
            "image/png": "[encoded data removed]"
          },
          "metadata": {
            "needs_background": "light"
          }
        },
        {
          "output_type": "stream",
          "name": "stdout",
          "text": [
            "////////////\n",
            "\n",
            "--r2--\n"
          ]
        },
        {
          "output_type": "display_data",
          "data": {
            "text/plain": [
              "<Figure size 432x288 with 1 Axes>"
            ],
            "image/png": "[encoded data removed]"
          },
          "metadata": {
            "needs_background": "light"
          }
        },
        {
          "output_type": "stream",
          "name": "stdout",
          "text": [
            "////////////\n",
            "\n"
          ]
        }
      ]
    },
    {
      "cell_type": "markdown",
      "source": [
        "## Conclusiones regresion lineal multiple\n",
        "\n",
        ">Para el escenario de las casas, la regresión lineal múltiple, logra una eficiencia de `R2` del `65.8%` para evaluación y `65.3%` de entrenamiento, mientras que la regresión Lasso alcanza un `R2` de `76.4%` de evaluación y un `78.6%` de entrenamiento usando un polinomio de `3er` grado, con un Alpha de `0.95`.\n",
        "\n",
        ">Para este caso específico, un modelo de regresión tiene buen desempeño, sin embargo, se puede mejorar implementando un pipeline para transformación de datos, dado que varias de las variables muestran sesgo y se podría mejorar el ajuste del modelo para incrementar su eficiencia.\n"
      ],
      "metadata": {
        "id": "IL2YlTYqIOyb"
      }
    }
  ]
}