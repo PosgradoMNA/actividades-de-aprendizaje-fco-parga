{
  "nbformat": 4,
  "nbformat_minor": 0,
  "metadata": {
    "colab": {
      "provenance": [],
      "authorship_tag": "ABX9TyMl5Ml8SHBtvy2J3jbgs2pu",
      "include_colab_link": true
    },
    "kernelspec": {
      "name": "python3",
      "display_name": "Python 3"
    },
    "language_info": {
      "name": "python"
    }
  },
  "cells": [
    {
      "cell_type": "markdown",
      "metadata": {
        "id": "view-in-github",
        "colab_type": "text"
      },
      "source": [
        "<a href=\"https://colab.research.google.com/github/PosgradoMNA/actividades-de-aprendizaje-fco-parga/blob/working/Introducci%C3%B3n_a_la_programaci%C3%B3n_en_Python_I_Week_01_Primer_Cuestionario_Pr%C3%A1ctico.ipynb\" target=\"_parent\"><img src=\"https://colab.research.google.com/assets/colab-badge.svg\" alt=\"Open In Colab\"/></a>"
      ]
    },
    {
      "cell_type": "markdown",
      "source": [
        "# Question 1\n",
        "\n",
        "Esta será la forma de evaluar la escritura de código en este curso. Habrá un código incompleto (será una función de Python, pero de eso no debes preocuparte todavía), y tú deberás completarlo.\n",
        "\n",
        "Por ejemplo, aquí escribe en la línea 3lo siguiente: **suma = a + b** (cuidando que tenga la misma cantidad de espacios a la izquierda que la línea anterior).\n",
        "\n",
        "Estas a y b no deberán ser definidas: uno puede pensarlo como que, todos los nombres que van entre paréntesis después del nombre de la función, tendrán el valor correcto. "
      ],
      "metadata": {
        "id": "TrfJ0rUuU3-O"
      }
    },
    {
      "cell_type": "code",
      "execution_count": 2,
      "metadata": {
        "id": "yRsYmgWMUvei"
      },
      "outputs": [],
      "source": [
        "def sumador(a, b):\n",
        "  suma = a+b\n",
        "  return suma"
      ]
    },
    {
      "cell_type": "code",
      "source": [
        "sumador(1,5)"
      ],
      "metadata": {
        "colab": {
          "base_uri": "https://localhost:8080/"
        },
        "id": "LlPhyFHhVCer",
        "outputId": "9ae1f41b-f509-4f25-abb1-a99147facc32"
      },
      "execution_count": 3,
      "outputs": [
        {
          "output_type": "execute_result",
          "data": {
            "text/plain": [
              "6"
            ]
          },
          "metadata": {},
          "execution_count": 3
        }
      ]
    },
    {
      "cell_type": "markdown",
      "source": [
        "# Question 2\n",
        "\n",
        "En esta funciones no buscamos que impriman nada con print, sino que retornen una variable. Por ejemplo, si están pidiendo la suma de dos números, como en la pregunta pasada, le devolveremos al que preguntó una variable que contenga el valor de la suma. \n",
        "\n",
        "En esta pregunta, hay cuatro variables definidas, pero solo debes retornar una (es decir, en la línea 8 poner algo como return algo, con algo una opción entre var1, var2, var3, var4). En esta pregunta debes retornar la multiplicación de los dos parámetros (valores dentro de paréntesis después del nombre de la función) que se pasan a la función. ¿Cuál de las cuatro variables será?"
      ],
      "metadata": {
        "id": "Q0x3ts5aVMWA"
      }
    },
    {
      "cell_type": "code",
      "source": [
        "def multiplicacion(a, b):\n",
        "  var1 = a + b\n",
        "  var2 = a + var1\n",
        "  var3 = a * b\n",
        "  var4 = a / b\n",
        "  \n",
        "  return var3"
      ],
      "metadata": {
        "id": "qUFUjorZVHIj"
      },
      "execution_count": 4,
      "outputs": []
    },
    {
      "cell_type": "code",
      "source": [
        "multiplicacion(6, 3)"
      ],
      "metadata": {
        "colab": {
          "base_uri": "https://localhost:8080/"
        },
        "id": "GrTB30N3V1Hr",
        "outputId": "6ff7b81f-7f03-47bc-bc5d-693cf0254b06"
      },
      "execution_count": 5,
      "outputs": [
        {
          "output_type": "execute_result",
          "data": {
            "text/plain": [
              "18"
            ]
          },
          "metadata": {},
          "execution_count": 5
        }
      ]
    },
    {
      "cell_type": "code",
      "source": [],
      "metadata": {
        "id": "aqVHkU-yV5WM"
      },
      "execution_count": null,
      "outputs": []
    }
  ]
}